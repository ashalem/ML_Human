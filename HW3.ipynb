{
 "cells": [
  {
   "metadata": {
    "ExecuteTime": {
     "end_time": "2024-12-21T15:05:42.903195Z",
     "start_time": "2024-12-21T15:05:42.880191Z"
    }
   },
   "cell_type": "code",
   "source": [
    "ID1 = '316333368'\n",
    "ID2 = '314884602'\n",
    "\n",
    "print(ID1, ID2)"
   ],
   "outputs": [
    {
     "name": "stdout",
     "output_type": "stream",
     "text": [
      "316333368 314884602\n"
     ]
    }
   ],
   "execution_count": 1
  },
  {
   "cell_type": "code",
   "execution_count": 19,
   "metadata": {},
   "outputs": [
    {
     "name": "stdout",
     "output_type": "stream",
     "text": [
      "0.4936801913773761\n",
      "0.75\n"
     ]
    }
   ],
   "source": [
    "import numpy as np\n",
    "import matplotlib.pyplot as plt\n",
    "import pandas as pd\n",
    "\n",
    "\n",
    "# Calculate Discounted Commulitive Gain\n",
    "def calculate_DCG(k: int, truth_relevance_vector_r: np.ndarray, scroes_vector_r_hat: np.ndarray):\n",
    "    # if there are to or more elements with the same score, we need to average their relevance\n",
    "    r_copy = truth_relevance_vector_r.copy()\n",
    "    r_hat_copy = scroes_vector_r_hat.copy()\n",
    "    elements_with_same_score = np.unique(r_hat_copy, return_counts=True)\n",
    "    for score, count in zip(*elements_with_same_score):\n",
    "        if count > 1:\n",
    "            indicies_with_same_score = np.where(r_hat_copy == score)[0]\n",
    "            r_copy[indicies_with_same_score] = np.sum(r_copy[indicies_with_same_score]) / count\n",
    "    \n",
    "    indicies_based_on_scores_vector_argsort = np.argsort(-r_hat_copy)[:k]\n",
    "    dividers_vector = np.log2(np.arange(1, k + 1) + 1)\n",
    "    return np.sum(r_copy[indicies_based_on_scores_vector_argsort] / dividers_vector)\n",
    "\n",
    "def calculate_NDCG(k: int, truth_relevance_vector_r: np.ndarray, scroes_vector_r_hat: np.ndarray):\n",
    "    return calculate_DCG(k, truth_relevance_vector_r, scroes_vector_r_hat) / calculate_DCG(k, truth_relevance_vector_r, truth_relevance_vector_r)\n",
    "\n",
    "\n",
    "# test 1\n",
    "true_relevance = np.asarray([10, 0, 0,\t1, 5])\n",
    "pred_score = np.asarray([.05, 1.1, 1.,\t.5,\t.0])\n",
    "k = 5\n",
    "print(calculate_NDCG(k, true_relevance, pred_score))\n",
    "\n",
    "\n",
    "# test 2\n",
    "true_relevance = np.asarray([10.0, 0.0, 0.0, 1.0, 5.0])\n",
    "pred_score = np.asarray([1, 0, 0, 0, 1])\n",
    "k = 1\n",
    "print(calculate_NDCG(k, true_relevance, pred_score))\n",
    "\n",
    "\n"
   ]
  }
 ],
 "metadata": {
  "kernelspec": {
   "display_name": "cs236781-hw2",
   "language": "python",
   "name": "python3"
  },
  "language_info": {
   "codemirror_mode": {
    "name": "ipython",
    "version": 3
   },
   "file_extension": ".py",
   "mimetype": "text/x-python",
   "name": "python",
   "nbconvert_exporter": "python",
   "pygments_lexer": "ipython3",
   "version": "3.8.12"
  }
 },
 "nbformat": 4,
 "nbformat_minor": 2
}
