{
  "nbformat": 4,
  "nbformat_minor": 0,
  "metadata": {
    "colab": {
      "provenance": [],
      "collapsed_sections": [
        "90codp2dEVCh"
      ],
      "toc_visible": true,
      "include_colab_link": true
    },
    "kernelspec": {
      "name": "python3",
      "display_name": "Python 3"
    },
    "language_info": {
      "name": "python"
    }
  },
  "cells": [
    {
      "cell_type": "markdown",
      "metadata": {
        "id": "view-in-github",
        "colab_type": "text"
      },
      "source": [
        "<a href=\"https://colab.research.google.com/github/ashalem/ML_Human/blob/main/HW5_W2024_students_eb61.ipynb\" target=\"_parent\"><img src=\"https://colab.research.google.com/assets/colab-badge.svg\" alt=\"Open In Colab\"/></a>"
      ]
    },
    {
      "cell_type": "markdown",
      "source": [
        "\n",
        "<div>Machine Learning and Human Behavior - 236667 - Winter 2024-2025</div>\n",
        "<font size=\"6\">Homework #5 - Promoting content 💸</font>"
      ],
      "metadata": {
        "id": "Lj4TYqYunijM"
      }
    },
    {
      "cell_type": "markdown",
      "source": [
        "# Instructions and submission guidelines\n",
        "\n",
        "* Clone this notebook and complete the exercise:\n",
        "    * Aim for clear and concise solutions.\n",
        "    * Indicate clearly with a text block the sections of your solutions.\n",
        "    * Answer dry questions in markdown blocks, and wet questions in code blocks.\n",
        "* Submission guidelines:\n",
        "    * Add a text block in the beginning of your notebook with your IDs.\n",
        "    * When you're done, restart the notebook and make sure that everything runs smoothly (Runtime->\"Restart and Run All\")\n",
        "    * Export your notebook as ipynb (File->Download->\"Download .ipynb\")\n",
        "    * If you need to attach additional files to your submission (e.g images), add them to a zip file together with the notebook ipynb file.\n",
        "    * Submit through the course website. Remember to list partner IDs when you submit.\n",
        "* **Due date**: Sunday 26/01/2025, 10:00\n",
        "* For any questions regarding this workshop, contact [Eden](mailto:edens@campus.technion.ac.il)."
      ],
      "metadata": {
        "id": "GZ9lfDp0oCLH"
      }
    },
    {
      "cell_type": "markdown",
      "source": [
        "# Introduction\n",
        "\n",
        "In our next workshop, we will continue to explore recommendation system dynamics, and dive into new and interesting recommendation settings. The goal of this homework task is to introduce you to the environment that we'll use."
      ],
      "metadata": {
        "id": "rMdE2xuzB5Oe"
      }
    },
    {
      "cell_type": "code",
      "source": [
        "%pip install scikit-surprise\n",
        "\n",
        "import itertools\n",
        "\n",
        "import pandas as pd\n",
        "import numpy as np\n",
        "import scipy.stats\n",
        "import IPython.display\n",
        "import copy\n",
        "\n",
        "import matplotlib.pyplot as plt\n",
        "%config InlineBackend.figure_format = 'retina'\n",
        "\n",
        "import surprise\n",
        "\n",
        "from tqdm.auto import tqdm"
      ],
      "metadata": {
        "id": "2986FSjfJmgV"
      },
      "execution_count": null,
      "outputs": []
    },
    {
      "cell_type": "markdown",
      "source": [
        "# Environment from Workshop 4\n",
        "\n",
        "Workshop 5 will use the same infrastructure we used in Workshop 4. The following cell contains the definitions of `TopicsStatic`, `TopicsDynamic`, and `trainset_from_df`. Run it to define the class of environments:"
      ],
      "metadata": {
        "id": "90codp2dEVCh"
      }
    },
    {
      "cell_type": "code",
      "source": [
        "class TopicsStatic:\n",
        "    topic_affinity_params = dict(\n",
        "        low=0.5,\n",
        "        high=5.5,\n",
        "    )\n",
        "    decision_noise_params = dict(\n",
        "        scale=0.5,\n",
        "    )\n",
        "    rating_frequency = 0.2\n",
        "\n",
        "    def __init__(self, n_users, n_items, n_topics, n_initial_ratings, random_state=None):\n",
        "        \"\"\"\n",
        "        Initialize the environment.\n",
        "\n",
        "        Parameters\n",
        "        ----------\n",
        "        n_users : int\n",
        "            Number of users in the environment.\n",
        "\n",
        "        n_items : int\n",
        "            Number of items in the environment.\n",
        "\n",
        "        n_topics : int\n",
        "            Number of latent topics in the environment.\n",
        "\n",
        "        n_initial_ratings : int\n",
        "            Number of initial ratings available to the recommender before the\n",
        "            simulation starts.\n",
        "\n",
        "        random_state : int, default=None\n",
        "            Random seed to use, if none is specified, a seed provided by the\n",
        "            OS will be used.\n",
        "        \"\"\"\n",
        "        self.n_users = n_users\n",
        "        self.n_items = n_users\n",
        "        self.all_users = [f'usr_{i}' for i in range(self.n_users)]\n",
        "        self.all_items = [f'itm_{i}' for i in range(self.n_items)]\n",
        "        self.n_topics = n_topics\n",
        "        self.n_initial_ratings = n_initial_ratings\n",
        "        self.rng = np.random.default_rng(random_state)\n",
        "        # Assign topics to items\n",
        "        self._item_topics = self.rng.integers(\n",
        "            low=0,\n",
        "            high=n_topics,\n",
        "            size=n_items\n",
        "        )\n",
        "        # Initialize topics affinity matrix\n",
        "        self._topic_affinity = self.rng.uniform(\n",
        "            **self.topic_affinity_params,\n",
        "            size=(n_users, n_topics),\n",
        "        )\n",
        "        # Initialize environment state\n",
        "        self.t = 0\n",
        "        self.last_online_users = None\n",
        "        self.seen_items = {user_id: list() for user_id in self.all_users}\n",
        "        self.initial_ratings_shown = False\n",
        "\n",
        "    def _get_rating(self, user_id, item_id):\n",
        "        \"\"\"\n",
        "        Calculate rating r_t(user_id, item_id).\n",
        "        \"\"\"\n",
        "        assert item_id not in self.seen_items[user_id], (\n",
        "            'Each item can only be shown once to each user'\n",
        "        )\n",
        "        user_internal_id = self.all_users.index(user_id)\n",
        "        item_internal_id = self.all_items.index(item_id)\n",
        "        self.seen_items[user_id].append(item_id)\n",
        "        item_topic = self._item_topics[item_internal_id]\n",
        "        affinity = self._topic_affinity[user_internal_id, item_topic]\n",
        "        noise = self.rng.normal(**self.decision_noise_params)\n",
        "        rating = np.clip(affinity+noise, 1, 5)\n",
        "        return rating\n",
        "\n",
        "    def _get_latent_topic(self, item_id):\n",
        "        item_internal_id = self.all_items.index(item_id)\n",
        "        return self._item_topics[item_internal_id]\n",
        "\n",
        "    def get_initial_ratings(self):\n",
        "        \"\"\"\n",
        "        Get initial ratings, to be used when initializing the recommender.\n",
        "\n",
        "        Returns\n",
        "        -------\n",
        "        ratings_df : pandas.DataFrame\n",
        "            DataFrame with columns: user_id, item_id, rating, timestamp.\n",
        "            Timestamp for initial data is set to 0.\n",
        "        \"\"\"\n",
        "        assert not self.initial_ratings_shown, (\n",
        "            'Initial ratings can only be calculated once',\n",
        "        )\n",
        "        all_pairs = list(itertools.product(\n",
        "            self.all_users,\n",
        "            self.all_items,\n",
        "        ))\n",
        "        selected_pairs = self.rng.choice(\n",
        "            a=all_pairs,\n",
        "            size=self.n_initial_ratings,\n",
        "            replace=False,\n",
        "        )\n",
        "        ratings = [\n",
        "            (user_id, item_id, self._get_rating(user_id, item_id))\n",
        "            for user_id, item_id in selected_pairs\n",
        "        ]\n",
        "        self.initial_ratings_shown = True\n",
        "        return pd.DataFrame(\n",
        "            data=ratings,\n",
        "            columns=('user_id','item_id','rating')\n",
        "        ).assign(timestamp=self.t)\n",
        "\n",
        "    def get_online_users(self):\n",
        "        \"\"\"\n",
        "        Returns the set of online users that queried the system at the\n",
        "        current time step.\n",
        "\n",
        "        Returns\n",
        "        -------\n",
        "        online_users: array of user_ids\n",
        "        \"\"\"\n",
        "        assert self.last_online_users is None, (\n",
        "            'Previous batch of online users must get recommendations'\n",
        "        )\n",
        "        n_online = self.rng.binomial(\n",
        "            n=self.n_users,\n",
        "            p=self.rating_frequency,\n",
        "        )\n",
        "        online_users = self.rng.choice(\n",
        "            a=self.all_users,\n",
        "            size=n_online,\n",
        "            replace=False,\n",
        "        )\n",
        "        self.last_online_users = set(online_users)\n",
        "        return online_users\n",
        "\n",
        "    def recommend(self, recommendations):\n",
        "        \"\"\"\n",
        "        Recommend items to users.\n",
        "\n",
        "        Parameters\n",
        "        ----------\n",
        "        recommendations : list of (user_id, item_id) tuples.\n",
        "            Each (user_id, item_id) tuple corresponds to an item recommended\n",
        "            to an online user. Note that only unseen items can be recommended,\n",
        "            and all online users must receive recommendations.\n",
        "\n",
        "        Returns\n",
        "        -------\n",
        "        ratings_df : pandas.DataFrame\n",
        "            True ratings given by the users.\n",
        "            DataFrame with columns: user_id, item_id, rating, timestamp.\n",
        "            Timestamp for recommendations is >= 1.\n",
        "        \"\"\"\n",
        "        assert self.last_online_users is not None, (\n",
        "            'Online users must be selected by calling get_online_users()'\n",
        "        )\n",
        "        assert len(recommendations)==len(self.last_online_users), (\n",
        "            'Number of recommendations must match number of online users'\n",
        "        )\n",
        "        assert {user_id for user_id, _ in recommendations}==self.last_online_users, (\n",
        "            'Users given recommendations must match online users'\n",
        "        )\n",
        "        assert all(item_id not in self.seen_items[user_id] for user_id, item_id in recommendations), (\n",
        "            'Only unseen items can be recommended'\n",
        "        )\n",
        "        ratings = [\n",
        "            (user_id, item_id, self._get_rating(user_id, item_id))\n",
        "            for user_id, item_id in recommendations\n",
        "        ]\n",
        "        self.last_online_users = None\n",
        "        self.t += 1\n",
        "        return pd.DataFrame(\n",
        "            data=ratings,\n",
        "            columns=('user_id','item_id','rating')\n",
        "        ).assign(timestamp=self.t)\n",
        "\n",
        "    def get_unseen_items(self, user_id):\n",
        "        \"\"\"\n",
        "        Get a list of items that the user didn't see yet.\n",
        "\n",
        "        Parameters\n",
        "        ----------\n",
        "        user_id : int\n",
        "\n",
        "        Returns\n",
        "        -------\n",
        "        unseen_items : list of int\n",
        "            ids of unseen items.\n",
        "        \"\"\"\n",
        "        return [\n",
        "            item_id\n",
        "            for item_id in self.all_items\n",
        "            if item_id not in self.seen_items[user_id]\n",
        "        ]\n",
        "\n",
        "\n",
        "class TopicsDynamic(TopicsStatic):\n",
        "    def __init__(self, a, *args, **kwargs):\n",
        "        super().__init__(*args, **kwargs)\n",
        "        self.a = a\n",
        "\n",
        "    def recommend(self, recommendations):\n",
        "        # Recommend and get ratings\n",
        "        ratings_df = super().recommend(recommendations)\n",
        "        # Update affinity\n",
        "        for row in ratings_df.itertuples():\n",
        "            user_internal_id = self.all_users.index(row.user_id)\n",
        "            item_internal_id = self.all_items.index(row.item_id)\n",
        "\n",
        "            # increase affinity for selected item topic\n",
        "            selected_topic = self._item_topics[item_internal_id]\n",
        "            self._topic_affinity[user_internal_id, selected_topic] += self.a\n",
        "            # decrease affinity for other topics\n",
        "            not_selected = np.arange(self.n_topics) != selected_topic\n",
        "            self._topic_affinity[user_internal_id, not_selected] -= (\n",
        "                self.a / (self.n_topics-1)\n",
        "            )\n",
        "            # clip\n",
        "            self._topic_affinity[user_internal_id] = (\n",
        "                self._topic_affinity[user_internal_id].clip(min=0.5, max=5.5)\n",
        "            )\n",
        "        # Return ratings dataframe\n",
        "        return ratings_df\n",
        "\n",
        "\n",
        "def trainset_from_df(df):\n",
        "    \"\"\"\n",
        "    Convert DataFrame to Surprise training set.\n",
        "\n",
        "    Parameters\n",
        "    ----------\n",
        "    df : pandas.DataFrame\n",
        "        DataFrame with columns [user_id, item_id, rating]\n",
        "\n",
        "    Returns\n",
        "    -------\n",
        "    trainset : surprise.Trainset\n",
        "    \"\"\"\n",
        "    dataset = surprise.Dataset.load_from_df(\n",
        "        df=df[['user_id','item_id','rating']],\n",
        "        reader=surprise.Reader(rating_scale=(1,5)),\n",
        "    )\n",
        "    return dataset.build_full_trainset()\n"
      ],
      "metadata": {
        "id": "8U3Lv9cMMRn7"
      },
      "execution_count": null,
      "outputs": []
    },
    {
      "cell_type": "markdown",
      "source": [
        "# Homework task: Promoting content\n",
        "\n",
        "The goal of this homework assignment is to introduce you to the environment that we'll use in Workshop 5.\n",
        "\n",
        "We will consider the `TopicsStatic` environment (introduced in the previous workshop), in which each item has a topic and users prefer certain topics over others. In this exercise, however, we introduce *suppliers* into the environment. Each supplier owns one topic (so that the number of  suppliers is equal to the number of topics $K$), and profits when users consume items of that topic:\n",
        "Whenever an item from topic $k\\in[K]$ is recommended by the system to some user $u$, supplier $k$ gets paid.\n",
        "\n",
        "The recommendation system allows suppliers to influence recommendations through a *promotion system*: Before each time step, each supplier can place a bid of some amount; the higher the amount supplier $k$ bids, the more likely it is for the system to recommend to users items from topic $k$.\n",
        "\n",
        "More specifically, at each timestep $t$:\n",
        "1. Suppliers $1,\\dots,K$ place bids $b_t^{(1)},\\dots,b_t^{(K)} \\ge 0$ to participate in the promotion process. They can choose how much to bid, but cannot bid more than they currently have.\n",
        "2. The system sorts the suppliers by their bids, and ties are broken lexicographically. Denote the position of topic $k$ in the sorted list by $\\mathrm{pos}_t(k)\\in\\{1,\\dots,K\\}$.\n",
        "3. For each user, the system predicts the ratings of items $\\hat{r}_t(u,x)$, as it is prediction based and\n",
        "recommends the items with the highest predicted ratings.\n",
        "4. For each rating prediction of an item of topic $k$, the system adds a promotion bias $\\beta_k$ to the\n",
        "prediction, where:\n",
        "$$\n",
        "\\beta_t^{(k)}=B\\left(2\\frac{K-\\mathrm{pos}_t(k)}{K-1} - 1\\right)\n",
        "$$\n",
        "This way, the supplier who bid the highest ($\\mathrm{pos}_t(k)=1$) will get a bias of $B$, the supplier who bid the lowest value ($\\mathrm{pos}_t(k)=K$) will get a bias of $-B$, and the supplier who bid the median amount will get a bias of $0$. In our code, we refer to $B$ as the *promotion factor*.\n",
        "5. After calculating the promotion bias terms, the system recommends items according to the modified predictions (original predictions with the added biases):\n",
        "$$\n",
        "x_u = \\mathrm{argmax}_{x\\in X} \\hat{r}_t(u,x) + \\beta_t^{(k_x)}\n",
        "$$\n",
        "\n",
        "6. The supplier of topic $k$ receives $m_t^{(k)}$ dollars, where:\n",
        "$$\n",
        "m_t^{(k)}=100\\frac{\\text{number of items of topic $k$ recommended}}{\\text{number of recommendations in this step}}\n",
        "$$\n",
        "\n",
        "In the beginning of the simulation, all suppliers have $100. To simplify, at each time step, all\n",
        "suppliers bid a random amount of money between 0 and 50% of the money they currently have.\n",
        "\n"
      ],
      "metadata": {
        "id": "TjA5Y1YFM9Tj"
      }
    },
    {
      "cell_type": "markdown",
      "source": [
        "## Parameters\n",
        "\n",
        "We use the following parameters for simulation:"
      ],
      "metadata": {
        "id": "GzoLRIMBDblT"
      }
    },
    {
      "cell_type": "code",
      "source": [
        "# TopicsDynamic\n",
        "topics_params = {\n",
        "    'n_users': 100,\n",
        "    'n_items': 200,\n",
        "    'n_topics': 10,\n",
        "    'n_initial_ratings': 500,\n",
        "}\n",
        "\n",
        "# surprise.SVD\n",
        "svd_model_params = {\n",
        "    'n_factors': 16,\n",
        "}\n"
      ],
      "metadata": {
        "id": "VceF-wa6I5Kq"
      },
      "execution_count": null,
      "outputs": []
    },
    {
      "cell_type": "markdown",
      "source": [
        "\n",
        "## Implementation\n"
      ],
      "metadata": {
        "id": "Q2i9BSCNlP-u"
      }
    },
    {
      "cell_type": "markdown",
      "source": [
        "### `BiddingAgent`\n",
        "Suppliers' bidding policies are implemented by inheriting from the `BiddingAgent` class:"
      ],
      "metadata": {
        "id": "acQ_2OtE5-n6"
      }
    },
    {
      "cell_type": "code",
      "source": [
        "class BiddingAgent:\n",
        "    \"\"\"\n",
        "    Generic class for simulating a bidding agent (supplier)\n",
        "    \"\"\"\n",
        "    def __init__(self, initial_budget, random_state=None):\n",
        "        \"\"\"\n",
        "        Initialize the bidding agent.\n",
        "\n",
        "        Parameters\n",
        "        ----------\n",
        "        initial_budget : float\n",
        "            Initial budget (non-negative)\n",
        "        random_state : Seed. Valid input to `np.random.default_rng`.\n",
        "        \"\"\"\n",
        "        assert initial_budget>=0, 'Initial budget must be nonnegative.'\n",
        "        self.initial_budget = initial_budget\n",
        "        self._remaining_budget = initial_budget\n",
        "        self.rng = np.random.default_rng(random_state)\n",
        "        self.payment_history = []\n",
        "\n",
        "    def calculate_bid(self, context=None):\n",
        "        \"\"\"\n",
        "        Return the raw bid, to be implemented by subclasses.\n",
        "        The `place_bid` function validates the value returned.\n",
        "\n",
        "        Parameters\n",
        "        ----------\n",
        "        context : any\n",
        "            a context parameter for informed decision-making.\n",
        "\n",
        "        Returns\n",
        "        -------\n",
        "        bid : float\n",
        "            bid for next promotion.\n",
        "        \"\"\"\n",
        "        raise NotImplementedError\n",
        "\n",
        "    def remaining_budget(self):\n",
        "        \"\"\"\n",
        "        Get the remaining budget of the bidding agent.\n",
        "\n",
        "        Returns\n",
        "        -------\n",
        "        remaining_budget : float\n",
        "        \"\"\"\n",
        "        return self._remaining_budget\n",
        "\n",
        "    def transfer_funds(self, m):\n",
        "        \"\"\"\n",
        "        Transfer/receive funds resulting from recommendations.\n",
        "        Negative value of `m` represents tranfer of funds from the agent\n",
        "        to the system, and a positive value of `m` represents a payment\n",
        "        from the system to the agent.\n",
        "\n",
        "        Parameters\n",
        "        ----------\n",
        "        m : float\n",
        "            Amount of pay.\n",
        "        \"\"\"\n",
        "        assert self._remaining_budget+m>=0, (\n",
        "            'Each payment must preserve a non-negative budget'\n",
        "        )\n",
        "        self._remaining_budget += m\n",
        "        self.payment_history.append(m)\n",
        "\n"
      ],
      "metadata": {
        "id": "KHBoJqjXlCnn"
      },
      "execution_count": null,
      "outputs": []
    },
    {
      "cell_type": "markdown",
      "source": [
        "### `RandomFractionBiddingAgent`\n",
        "\n",
        "The `RandomFractionBiddingAgent` class implements the random bidding policy described in the previous section:"
      ],
      "metadata": {
        "id": "h_R-ceTro8nE"
      }
    },
    {
      "cell_type": "code",
      "source": [
        "class RandomFractionBiddingAgent(BiddingAgent):\n",
        "    \"\"\"\n",
        "    Agent simulating a random bidding policy.\n",
        "    At each step, suppliers of this type bid a random amount of money\n",
        "    between 0 and half the money they currently have.\n",
        "    \"\"\"\n",
        "    def calculate_bid(self, context):\n",
        "        return self.rng.uniform(low=0.0,high=0.5)*self.remaining_budget()\n"
      ],
      "metadata": {
        "id": "_Zy0eOJWmrYQ"
      },
      "execution_count": null,
      "outputs": []
    },
    {
      "cell_type": "markdown",
      "source": [
        "### `SuppliersGroup`\n",
        "\n",
        "The `SuppliersGroup` describes the collective of bidding agents:"
      ],
      "metadata": {
        "id": "fdMLj88Rp8Lg"
      }
    },
    {
      "cell_type": "code",
      "source": [
        "class SuppliersGroup:\n",
        "    def __init__(self, agents):\n",
        "        \"\"\"\n",
        "        Initialize the suppliers group.\n",
        "\n",
        "        Parameters\n",
        "        ----------\n",
        "        agents : list of BiddingAgent\n",
        "        \"\"\"\n",
        "        self.agents = agents\n",
        "\n",
        "    def calculate_bids(self, context):\n",
        "        return [agent.calculate_bid(context) for agent in self.agents]\n",
        "\n",
        "    def transfer_funds(self, payment_vector):\n",
        "        for agent,payment in zip(self.agents, payment_vector):\n",
        "            agent.transfer_funds(payment)\n",
        "\n",
        "    def __len__(self):\n",
        "        return len(self.agents)\n",
        "\n",
        "    def __iter__(self):\n",
        "        return iter(self.agents)\n",
        "\n",
        "    def __getitem__(self,i):\n",
        "        return self.agents[i]\n",
        "\n"
      ],
      "metadata": {
        "id": "D8x1Pz4knDgt"
      },
      "execution_count": null,
      "outputs": []
    },
    {
      "cell_type": "markdown",
      "source": [
        "### Simulator\n",
        "\n",
        "The `simulate_recommendations_with_bidding` function runs the simulation. It returns two DataFrames - One with recommendations and responses, and another with budgets and payments."
      ],
      "metadata": {
        "id": "FF39zDkQpUZ9"
      }
    },
    {
      "cell_type": "code",
      "source": [
        "def simulate_recommendations_with_bidding(\n",
        "    env,\n",
        "    cf_model,\n",
        "    suppliers,\n",
        "    num_steps,\n",
        "    payment_per_step,\n",
        "    promotion_factor,\n",
        "):\n",
        "    \"\"\"\n",
        "    Simulate recommendations with bidding.\n",
        "\n",
        "    Parameters\n",
        "    ----------\n",
        "    env : TopicsStatic\n",
        "\n",
        "    cf_model : surprise.AlgoBase\n",
        "\n",
        "    num_steps : int\n",
        "        Length of simulation.\n",
        "\n",
        "    payment_per_step : float\n",
        "        Total payment to suppliers per step\n",
        "\n",
        "    promotion_factor : float\n",
        "        Promotion factor B\n",
        "\n",
        "    Returns\n",
        "    -------\n",
        "    recommendations_df : pandas.DataFrame\n",
        "        pandas DataFrame with all recommendations. Each row represents a\n",
        "        recommendation. Each recommendation is associated with a timestamp,\n",
        "        user id, item id, predicted rating, actual rating, and latent topic.\n",
        "\n",
        "    payment_df : pandas.DataFrame\n",
        "        pandas DataFrame with all payment information. Each row represents\n",
        "        the behavior of a supplier (and its consequences) for a given time\n",
        "        step.\n",
        "    \"\"\"\n",
        "    assert isinstance(env, TopicsStatic), (\n",
        "        'env must be an instance of TopicsStatic or one of its subclasses'\n",
        "    )\n",
        "    K = env.n_topics\n",
        "    assert K == len(suppliers), (\n",
        "        'Length of supplier list must match number of topics'\n",
        "    )\n",
        "    recommendation_results = []\n",
        "    payment_results = []\n",
        "\n",
        "    # Fit initial CF model\n",
        "    recommendation_results = [env.get_initial_ratings()]\n",
        "    cf_model.fit(trainset_from_df(recommendation_results[0]))\n",
        "\n",
        "    # Simulate dynamics\n",
        "    for t in tqdm(range(num_steps)):\n",
        "        online_users = env.get_online_users()\n",
        "        recommendations = {}\n",
        "        # Calculate promotion factors\n",
        "        bids = suppliers.calculate_bids(context=None)\n",
        "        for agent,bid in zip(suppliers,bids):\n",
        "            assert bid>=0, 'Bids must be positive'\n",
        "            agent.transfer_funds(-bid)\n",
        "        pos = K-(scipy.stats.rankdata(bids, method='ordinal')-1)\n",
        "        beta = promotion_factor*2*((K-pos)/(K-1) - 0.5)\n",
        "        payment = np.zeros(K)\n",
        "\n",
        "        # Recommend\n",
        "        for user_id in online_users:\n",
        "            # Predict ratings\n",
        "            predicted_ratings = {\n",
        "                item_id: cf_model.predict(user_id, item_id).est\n",
        "                for item_id in env.get_unseen_items(user_id)\n",
        "            }\n",
        "            # Add promotion bias\n",
        "            predicted_ratings_with_bias = {\n",
        "                item_id: predicted_rating + beta[env._item_topics[env.all_items.index(item_id)]]\n",
        "                for item_id, predicted_rating\n",
        "                in predicted_ratings.items()\n",
        "            }\n",
        "            selected_item = max(\n",
        "                predicted_ratings_with_bias.items(),\n",
        "                key=lambda t: t[1],\n",
        "            )[0]\n",
        "            recommendations[(user_id, selected_item)] = predicted_ratings[selected_item]\n",
        "            payment[env._item_topics[env.all_items.index(selected_item)]] += payment_per_step/len(online_users)\n",
        "\n",
        "        ratings = env.recommend(list(recommendations))\n",
        "\n",
        "        # Record results\n",
        "        recommendation_results.append(\n",
        "            ratings\n",
        "            .assign(\n",
        "                predicted_rating=lambda df: df.apply(\n",
        "                    lambda row: recommendations[(row['user_id'], row['item_id'])],\n",
        "                    axis=1,\n",
        "                ),\n",
        "                latent_topic=lambda df: df['item_id'].map(\n",
        "                    lambda item_id: env._item_topics[env.all_items.index(item_id)]\n",
        "                ),\n",
        "            )\n",
        "        )\n",
        "\n",
        "        # Retrain\n",
        "        cf_model.fit(trainset_from_df(pd.concat(recommendation_results)))\n",
        "\n",
        "        # Pay and record remaining budgets\n",
        "        for topic_k,agent in enumerate(suppliers):\n",
        "            agent.transfer_funds(payment[topic_k])\n",
        "            payment_results.append({\n",
        "                'timestamp': t+1,\n",
        "                'supplier': topic_k,  # supplier id\n",
        "                'bid': bids[topic_k],  # supplier bid\n",
        "                'position': pos[topic_k],  # pos_t(k)\n",
        "                'boost': beta[topic_k],  # beta_t^k\n",
        "                'revenue': payment[topic_k],  # payment made to supplier k\n",
        "                'remaining_budget': agent.remaining_budget(),  # remaining budget\n",
        "            })\n",
        "\n",
        "    return (\n",
        "        pd.concat(recommendation_results),  # recommendations_df\n",
        "        pd.DataFrame(payment_results),  # payments_df\n",
        "    )\n",
        "\n"
      ],
      "metadata": {
        "id": "bNIWRHocmtZ6"
      },
      "execution_count": null,
      "outputs": []
    },
    {
      "cell_type": "markdown",
      "source": [
        "## Exercise 1.1: Simulation"
      ],
      "metadata": {
        "id": "VWtbApgPu6NG"
      }
    },
    {
      "cell_type": "markdown",
      "source": [
        "Run the following code to simulate the dynamics. Make sure you understand the output.\n",
        "\n",
        "🔵 **Results**:"
      ],
      "metadata": {
        "id": "S90jDli47TKL"
      }
    },
    {
      "cell_type": "code",
      "source": [
        "random_recommendation_rng = np.random.default_rng(1234)\n",
        "\n",
        "random_recommendation_results_df, random_payments_df = simulate_recommendations_with_bidding(\n",
        "    # environment\n",
        "    env=TopicsStatic(\n",
        "        random_state=random_recommendation_rng,\n",
        "        **topics_params\n",
        "    ),\n",
        "    # prediction model\n",
        "    cf_model=surprise.SVD(\n",
        "        random_state=random_recommendation_rng.integers(9999),\n",
        "        **svd_model_params,\n",
        "    ),\n",
        "    # suppliers\n",
        "    suppliers=SuppliersGroup(\n",
        "        agents=[\n",
        "            RandomFractionBiddingAgent(\n",
        "                initial_budget=100,\n",
        "                random_state=random_recommendation_rng,\n",
        "            )\n",
        "            for k in range(topics_params['n_topics'])\n",
        "        ]\n",
        "    ),\n",
        "    # promotion parameters\n",
        "    payment_per_step=100,\n",
        "    promotion_factor=0.5,\n",
        "    # simulation length\n",
        "    num_steps=100,\n",
        ")\n",
        "\n",
        "display(\n",
        "    random_recommendation_results_df.tail()\n",
        "    .style.set_caption('random_recommendation_results_df')\n",
        ")\n",
        "display(\n",
        "    random_payments_df.tail()\n",
        "    .style.set_caption('random_payments_df')\n",
        ")\n"
      ],
      "metadata": {
        "id": "YROaZuwZ4FaV"
      },
      "execution_count": null,
      "outputs": []
    },
    {
      "cell_type": "markdown",
      "source": [
        "Run the following code to generate a plot of suppliers' budget over time.\n",
        "\n",
        "🔵 **Results**:"
      ],
      "metadata": {
        "id": "Wkh0PjnOwUjh"
      }
    },
    {
      "cell_type": "code",
      "source": [
        "(\n",
        "    random_payments_df\n",
        "    .pivot(\n",
        "        index='timestamp',\n",
        "        columns='supplier',\n",
        "        values='remaining_budget',\n",
        "    )\n",
        "    .plot.line(\n",
        "        title='Remaining budget over time for different suppliers',\n",
        "        xlabel='Time ($t$)',\n",
        "        ylabel='Remaining budget',\n",
        "        figsize=(12,6),\n",
        "    )\n",
        ")"
      ],
      "metadata": {
        "id": "hmLnHQ3iwUEk"
      },
      "execution_count": null,
      "outputs": []
    },
    {
      "cell_type": "markdown",
      "source": [
        "Find the supplier with the highest remaining budget at the end of the run, and the supplier with the lowest remaining budget at the end of the run. Plot their remaining budget over time:\n",
        "\n",
        "🔵 **Answer**:\n"
      ],
      "metadata": {
        "id": "ganb7yOV7WGa"
      }
    },
    {
      "cell_type": "code",
      "source": [
        "## YOUR SOLUTION"
      ],
      "metadata": {
        "id": "iS42D-LexuUJ"
      },
      "execution_count": null,
      "outputs": []
    },
    {
      "cell_type": "markdown",
      "source": [
        "\n",
        "\n",
        "Provide an explanation for why they differ.\n",
        "\n",
        "🔵 **Answer**:"
      ],
      "metadata": {
        "id": "LNzK5nyFfeCv"
      }
    },
    {
      "cell_type": "markdown",
      "source": [
        "(YOUR SOLUTION)"
      ],
      "metadata": {
        "id": "R64kxsvN7adh"
      }
    },
    {
      "cell_type": "markdown",
      "source": [
        "The `payments_df` dataframe contains a column `revenue` with the payment received by each agent in each step. Create a bar plot comparing the total revenues of the suppliers over the entire run:\n",
        "\n",
        "🔵 **Solution**:"
      ],
      "metadata": {
        "id": "PB_sFDzx78KM"
      }
    },
    {
      "cell_type": "code",
      "source": [
        "## YOUR SOLUTION"
      ],
      "metadata": {
        "id": "qrjo4j3L8TBz"
      },
      "execution_count": null,
      "outputs": []
    },
    {
      "cell_type": "markdown",
      "source": [
        "What do you observe in the plot? What are the implications on content diversity?\n",
        "\n",
        "\n",
        "🔵 **Answer**:\n",
        "\n",
        "(YOUR SOLUTION)"
      ],
      "metadata": {
        "id": "iag0h5Z4vnrO"
      }
    },
    {
      "cell_type": "markdown",
      "source": [
        "## Exercise 1.2: Insider trading\n",
        "\n",
        "You are an employee in the recommendation system’s company, and your uncle is supplier\n",
        "number $1$ (supplier of index `0`, who owns items of topic $k=1$). Your uncle is asking you to help him increase his profits.\n",
        "\n",
        "Working in the recommendation system’s company, you have access to the bid values of all\n",
        "suppliers at each time step. Use this information to suggest a bidding policy for your uncle: the\n",
        "goal is to maximize supplier $1$’s average income over the course of the simulation (this value was calculated in the previous step).\n",
        "\n",
        "Tell your uncle how much he should bid in each time step by overriding the designated section in the code below.\n",
        "\n",
        "🔵 **Answer**:"
      ],
      "metadata": {
        "id": "9VgBwPyA7eXE"
      }
    },
    {
      "cell_type": "code",
      "source": [
        "class OmniscientBiddingAgent(BiddingAgent):\n",
        "    def calculate_bid(self, context):\n",
        "        # This function should return a positive float representing the\n",
        "        # selected bid.\n",
        "        # `other_bids` is a list of floats of length K-1, containing the\n",
        "        # bids of the other suppliers for the current time step.\n",
        "        other_bids = context['other_bids']\n",
        "        ## YOUR SOLUTION\n",
        "\n"
      ],
      "metadata": {
        "id": "8naROSVw2P8C"
      },
      "execution_count": null,
      "outputs": []
    },
    {
      "cell_type": "markdown",
      "source": [
        "We will now evaluate the chosen strategy.\n",
        "\n",
        "The `InsiderTradingSuppliersGroup` class injects the bids of the other agents (\"insider information\") into the context of the omniscient agent:"
      ],
      "metadata": {
        "id": "cPlryXRywPZy"
      }
    },
    {
      "cell_type": "code",
      "source": [
        "class InsiderTradingSuppliersGroup(SuppliersGroup):\n",
        "    def __init__(self, omniscient_agent, *args, **kwargs):\n",
        "        super().__init__(*args, **kwargs)\n",
        "        self.omniscient_agent = omniscient_agent\n",
        "\n",
        "    def __len__(self):\n",
        "        return len(self.agents)+1\n",
        "\n",
        "    def __iter__(self):\n",
        "        return iter([self.omniscient_agent]+self.agents)\n",
        "\n",
        "    def __getitem__(self,i):\n",
        "        return ([self.omniscient_agent]+self.agents)[i]\n",
        "\n",
        "    def calculate_bids(self, context):\n",
        "        other_bids = super().calculate_bids(context)\n",
        "        context = context or {}\n",
        "        context['other_bids'] = other_bids\n",
        "        omniscient_bid = self.omniscient_agent.calculate_bid(context)\n",
        "        return [omniscient_bid] + other_bids"
      ],
      "metadata": {
        "id": "rPnIUJQgwO5b"
      },
      "execution_count": null,
      "outputs": []
    },
    {
      "cell_type": "markdown",
      "source": [
        "The following code simulates the dynamics in the presence of an omniscient agent. Run the simulation and obtain the results.\n",
        "\n",
        "🔵 **Results**:"
      ],
      "metadata": {
        "id": "oVLFPMRSxBj0"
      }
    },
    {
      "cell_type": "code",
      "source": [
        "omniscient_recommendation_rng = np.random.default_rng(1234)\n",
        "\n",
        "# Simulate\n",
        "omniscient_recommendation_results_df, omniscient_payments_df = simulate_recommendations_with_bidding(\n",
        "    # environment\n",
        "    env=TopicsDynamic(\n",
        "        **topics_params,\n",
        "        a=0.0,\n",
        "        random_state=omniscient_recommendation_rng,\n",
        "    ),\n",
        "    # prediction model\n",
        "    cf_model=surprise.SVD(\n",
        "        **svd_model_params,\n",
        "        random_state=omniscient_recommendation_rng.integers(9999),\n",
        "    ),\n",
        "    # suppliers\n",
        "    suppliers = InsiderTradingSuppliersGroup(\n",
        "        # Random-bidding agents\n",
        "        agents=[\n",
        "            RandomFractionBiddingAgent(\n",
        "                initial_budget=100,\n",
        "                random_state=omniscient_recommendation_rng,\n",
        "            )\n",
        "            for k in range(topics_params['n_topics']-1)\n",
        "        ],\n",
        "        # Initialize omniscient bidding agent (your uncle)\n",
        "        omniscient_agent=OmniscientBiddingAgent(\n",
        "            initial_budget=100,\n",
        "            random_state=omniscient_recommendation_rng,\n",
        "        ),\n",
        "    ),\n",
        "    # promotion parameters\n",
        "    payment_per_step=100,\n",
        "    promotion_factor=1.5,\n",
        "    # simulation length\n",
        "    num_steps=50,\n",
        ")"
      ],
      "metadata": {
        "id": "PW3FBxLczNtI"
      },
      "execution_count": null,
      "outputs": []
    },
    {
      "cell_type": "code",
      "source": [
        "(\n",
        "    omniscient_payments_df\n",
        "    .pivot(index='timestamp',columns='supplier',values='revenue')\n",
        "    .cumsum()\n",
        "    .plot.line(\n",
        "        title='Revenue accumulation over time for different suppliers',\n",
        "        xlabel='Time ($t$)',\n",
        "        ylabel='Revenue',\n",
        "        figsize=(12,6),\n",
        "    )\n",
        ")\n"
      ],
      "metadata": {
        "id": "P3cudvu9xXAx"
      },
      "execution_count": null,
      "outputs": []
    },
    {
      "cell_type": "markdown",
      "source": [
        "Explain your strategy. How does your agent work? Why did you choose this strategy?\n",
        "\n",
        "🔵 **Answer**:\n",
        "\n",
        "(YOUR SOLUTION)"
      ],
      "metadata": {
        "id": "QkQ-X-sw04_L"
      }
    }
  ]
}