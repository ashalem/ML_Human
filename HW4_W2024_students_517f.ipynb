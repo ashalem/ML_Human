{
  "nbformat": 4,
  "nbformat_minor": 0,
  "metadata": {
    "colab": {
      "provenance": [],
      "include_colab_link": true
    },
    "kernelspec": {
      "name": "python3",
      "display_name": "Python 3"
    },
    "language_info": {
      "name": "python"
    }
  },
  "cells": [
    {
      "cell_type": "markdown",
      "metadata": {
        "id": "view-in-github",
        "colab_type": "text"
      },
      "source": [
        "<a href=\"https://colab.research.google.com/github/ashalem/ML_Human/blob/main/HW4_W2024_students_517f.ipynb\" target=\"_parent\"><img src=\"https://colab.research.google.com/assets/colab-badge.svg\" alt=\"Open In Colab\"/></a>"
      ]
    },
    {
      "cell_type": "markdown",
      "source": [
        "\n",
        "<div>Machine Learning and Human Behavior - 236667 - Winter 2024-2025</div>\n",
        "<font size=\"6\">Homework #4 - Recommendation Systems 🦘</font>\n"
      ],
      "metadata": {
        "id": "Lj4TYqYunijM"
      }
    },
    {
      "cell_type": "markdown",
      "source": [
        "IDS: 316333368   314884602"
      ],
      "metadata": {
        "id": "sbaXY_3HncSV"
      }
    },
    {
      "cell_type": "markdown",
      "source": [
        "# Instructions and submission guidelines\n",
        "\n",
        "* Clone this notebook and complete the exercise:\n",
        "    * Aim for clear and concise solutions.\n",
        "    * Indicate clearly with a text block the sections of your solutions.\n",
        "    * Answer dry questions in markdown blocks, and wet questions in code blocks.\n",
        "* Submission guidelines:\n",
        "    * Add a text block in the beginning of your notebook with your IDs.\n",
        "    * When you're done, restart the notebook and make sure that everything runs smoothly (Runtime->\"Restart and Run All\")\n",
        "    * Export your notebook as ipynb (File->Download->\"Download .ipynb\")\n",
        "    * If you need to attach additional files to your submission (e.g images), add them to a zip file together with the notebook ipynb file.\n",
        "    * Submit through the course website. Remember to list partner IDs when you submit.\n",
        "* **Due date**: Sunday 12/01/2025, 10:00\n",
        "* For any questions regarding this exercise, contact [Eden](mailto:edens@campus.technion.ac.il)."
      ],
      "metadata": {
        "id": "GZ9lfDp0oCLH"
      }
    },
    {
      "cell_type": "markdown",
      "source": [
        "# Introduction\n",
        "\n",
        "In workshops 4 and 5, we will be using a simulation framework for evaluating different recommendation algorithms. The framework consists of 3 main components - **environments** and **recommenders**, coupled together in the **simulation**. The design is inspired by the [RecLab](https://berkeley-reclab.github.io/) framework, introduced in [Krauth et al., 2020](https://arxiv.org/pdf/2011.07931).\n",
        "\n",
        "In this homework assignment, you will implement a single step of the simulation to gain familiarity with the different components. The workshop will extend this code to examine how user behavior evolves over time."
      ],
      "metadata": {
        "id": "VeeN8kfPohnT"
      }
    },
    {
      "cell_type": "markdown",
      "source": [
        "## Notations\n",
        "\n",
        "* Time is assumed to be discrete and denoted by $t\\in\\{0,1,\\dots\\}$\n",
        "* The set of users is denoted by $U$.\n",
        "* At each time $t$, the set of \"online users\" requesting recommendation is denoted by $U_t \\subseteq U$.\n",
        "* The set of all items is denoted by $X$.\n",
        "* Rating given by user $u\\in U$ to item $x \\in X$ at time $t$ is denoted by $r_t(u,x)\\in[1,5]$. User and item are not explicity specified when they are clear from context.\n",
        "* Predicted ratings are denoted by $\\hat{r}_t (u,x)$.\n",
        "* Recommendations at time $t$ are denoted by $\\{(u,x_u)\\}_{u\\in U_t}$.\n",
        "* The Average Rating of Recommended Items (*ARRI*) at time $t$ is defined as:\n",
        "$$\n",
        "\\mathrm{ARRI} =\n",
        "\\frac{1}{\\left|U_t\\right|}\n",
        "\\sum_{u\\in U_t}\n",
        "r_t (u, x_u)\n",
        "$$\n",
        "* Rating RMSE at time $t$ is defined as:\n",
        "$$\n",
        "\\mathrm{RMSE} =\n",
        "\\left(\n",
        "\\frac{1}{\\left|U_t\\right|}\n",
        "\\sum_{u\\in U_t}\n",
        "\\left(\\hat{r}_t (u, x_u) - r_t (u, x_u) \\right)^2\n",
        "\\right)^{0.5}\n",
        "$$"
      ],
      "metadata": {
        "id": "YX0wtICNIqXu"
      }
    },
    {
      "cell_type": "markdown",
      "source": [
        "## Environment\n",
        "An *environment* defines the population of users and the collection of available items. It specifies the users' behavior, their preferences and the way they change over time, how the users rate items, etc. In particular, the environments we use here are **stateful**.\n",
        "\n",
        "In this workshop, environments expose the following interface:\n",
        "\n",
        "* `__init__(...)` - Initialize environment using given parameters\n",
        "* `get_initial_ratings() -> padnas.DataFrame` - Returns a DataFrame with initial ratings $\\{(u_i, x_i, r(u_i,x_i)\\}$. Useful for bootstrapping the recommendation algorithm and avoiding the \"[cold-start](https://en.wikipedia.org/wiki/Cold_start_(recommender_systems))\" problem.\n",
        "* `get_online_users() -> numpy.array[int]` - Returns the set of online users $U_t\\subseteq U$ that queried the system at the current time step $t$.\n",
        "* `recommend(recommendations: List[tuple[int, int]]) -> pandas.DataFrame` - Receives as input a list of tuples $\\{(u,x_u)\\}_{u\\in U_t}$, where each $u \\in U_t$ is an online user, and $x_u$ is the item being recommended. Note that only unseen items can be recommended, and all online users must receive recommendations. The function returns the true ratings given by the users.\n"
      ],
      "metadata": {
        "id": "FDd5vQRWIsKO"
      }
    },
    {
      "cell_type": "markdown",
      "source": [
        "## Recommender\n",
        "\n",
        "A *recommender* generates item recommendations to users based on past ratings.\n",
        "\n",
        "In this workshop, prediction algorithms use the [Surprise](https://surpriselib.com/) framework, which provides implementations of common collaborative filtering algortihms.\n",
        "\n"
      ],
      "metadata": {
        "id": "tGZO-kFkIvGz"
      }
    },
    {
      "cell_type": "markdown",
      "source": [
        "## Simulation\n",
        "The simulation works in discrete time steps $t\\in\\{1,2,\\dots\\}$. At each step $t$:\n",
        "* The environent is queried for the current set of online users: $$U_t\\subseteq U$$\n",
        "* The recommender selects items based on predictions:\n",
        "$$ \\{(u,x_u)\\}_{u\\in U_t} $$\n",
        "* The environment returns explicit feedback (true ratings) from the users, based on the given recommendations:\n",
        "$$\\{(u, x_u, r_t(u,x_u)\\}_{u\\in U_t}$$\n"
      ],
      "metadata": {
        "id": "Wy-4eGaRIwJe"
      }
    },
    {
      "cell_type": "markdown",
      "source": [
        "## Imports"
      ],
      "metadata": {
        "id": "QT3EhuJf-P9J"
      }
    },
    {
      "cell_type": "code",
      "source": [
        "%pip install scikit-surprise\n",
        "\n",
        "import itertools\n",
        "\n",
        "import pandas as pd\n",
        "import numpy as np\n",
        "import matplotlib.pyplot as plt\n",
        "%config InlineBackend.figure_format = 'retina'\n",
        "\n",
        "import surprise\n",
        "\n",
        "from tqdm.auto import tqdm"
      ],
      "metadata": {
        "id": "re3ZbC04CIei"
      },
      "execution_count": null,
      "outputs": []
    },
    {
      "cell_type": "markdown",
      "source": [
        "# Homework task: Static environment\n",
        "\n",
        "In this task we, will get ourselves familiar with the framework by exploring a static recommendation environment.\n"
      ],
      "metadata": {
        "id": "UjLclotwIxz5"
      }
    },
    {
      "cell_type": "markdown",
      "source": [
        "## The `TopicsStatic` environment\n",
        "\n",
        "The following environment is based on the `topics-static` environment introduced by [Krauth et al., 2020](https://arxiv.org/abs/2011.07931).\n",
        "\n",
        "* In the `TopicsStatic` environment, each item is assigned to one of $K$ topics and users prefer certain topics.\n",
        "The preference of user $u$ for items of topic $k$\n",
        "is initialized as $\\pi(u, k) \\sim \\mathrm{Uniform}(0.5, 5.5)$, while the topic\n",
        "$k_x$ of item $x$ is chosen uniformly at random from the set of all topics ($k_x\\sim\\mathrm{Uniform}([K])$).\n",
        "\n",
        "* When user $u$ is recommended item $x $ of topic $k_x$, they will rate the item as:\n",
        "$$r_t(u,x) = \\mathrm{clip}_{[1,5]}\\left(\\pi(u, k_x) + \\epsilon\\right)$$\n",
        "where $\\epsilon \\sim N(0, \\sigma^2)$ represents exogenous noise not modeled by the simulation, and $\\mathrm{clip}_{[1,5]}$ truncates values to be between $1$ and $5$."
      ],
      "metadata": {
        "id": "rmOqWaQdJpkQ"
      }
    },
    {
      "cell_type": "markdown",
      "source": [
        "## Environment implementation\n",
        "\n",
        "Implementation of the TopicsStatic environment is given by the following class:"
      ],
      "metadata": {
        "id": "pmjNy5E2MIEO"
      }
    },
    {
      "cell_type": "code",
      "source": [
        "class TopicsStatic:\n",
        "    topic_affinity_params = dict(\n",
        "        low=0.5,\n",
        "        high=5.5,\n",
        "    )\n",
        "    decision_noise_params = dict(\n",
        "        scale=0.5,\n",
        "    )\n",
        "    rating_frequency = 0.2\n",
        "\n",
        "    def __init__(self, n_users, n_items, n_topics, n_initial_ratings, random_state=None):\n",
        "        \"\"\"\n",
        "        Initialize the environment.\n",
        "\n",
        "        Parameters\n",
        "        ----------\n",
        "        n_users : int\n",
        "            Number of users in the environment.\n",
        "\n",
        "        n_items : int\n",
        "            Number of items in the environment.\n",
        "\n",
        "        n_topics : int\n",
        "            Number of latent topics in the environment.\n",
        "\n",
        "        n_initial_ratings : int\n",
        "            Number of initial ratings available to the recommender before the\n",
        "            simulation starts.\n",
        "\n",
        "        random_state : int, default=None\n",
        "            Random seed to use, if none is specified, a seed provided by the\n",
        "            OS will be used.\n",
        "        \"\"\"\n",
        "        self.n_users = n_users\n",
        "        self.n_items = n_users\n",
        "        self.all_users = [f'usr_{i}' for i in range(self.n_users)]\n",
        "        self.all_items = [f'itm_{i}' for i in range(self.n_items)]\n",
        "        self.n_topics = n_topics\n",
        "        self.n_initial_ratings = n_initial_ratings\n",
        "        self.rng = np.random.default_rng(random_state)\n",
        "        # Assign topics to items\n",
        "        self._item_topics = self.rng.integers(\n",
        "            low=0,\n",
        "            high=n_topics,\n",
        "            size=n_items\n",
        "        )\n",
        "        # Initialize topics affinity matrix\n",
        "        self._topic_affinity = self.rng.uniform(\n",
        "            **self.topic_affinity_params,\n",
        "            size=(n_users, n_topics),\n",
        "        )\n",
        "        # Initialize environment state\n",
        "        self.t = 0\n",
        "        self.last_online_users = None\n",
        "        self.seen_items = {user_id: list() for user_id in self.all_users}\n",
        "        self.initial_ratings_shown = False\n",
        "\n",
        "    def _get_rating(self, user_id, item_id):\n",
        "        \"\"\"\n",
        "        Calculate rating r_t(user_id, item_id).\n",
        "        \"\"\"\n",
        "        assert item_id not in self.seen_items[user_id], (\n",
        "            'Each item can only be shown once to each user'\n",
        "        )\n",
        "        user_internal_id = self.all_users.index(user_id)\n",
        "        item_internal_id = self.all_items.index(item_id)\n",
        "        self.seen_items[user_id].append(item_id)\n",
        "        item_topic = self._item_topics[item_internal_id]\n",
        "        affinity = self._topic_affinity[user_internal_id, item_topic]\n",
        "        noise = self.rng.normal(**self.decision_noise_params)\n",
        "        rating = np.clip(affinity+noise, 1, 5)\n",
        "        return rating\n",
        "\n",
        "    def get_initial_ratings(self):\n",
        "        \"\"\"\n",
        "        Get initial ratings, to be used when initializing the recommender.\n",
        "\n",
        "        Returns\n",
        "        -------\n",
        "        ratings_df : pandas.DataFrame\n",
        "            DataFrame with columns: user_id, item_id, rating, timestamp.\n",
        "            Timestamp for initial data is set to 0.\n",
        "        \"\"\"\n",
        "        assert not self.initial_ratings_shown, (\n",
        "            'Initial ratings can only be calculated once',\n",
        "        )\n",
        "        self.initial_ratings_shown = True\n",
        "        all_pairs = list(itertools.product(\n",
        "            self.all_users,\n",
        "            self.all_items,\n",
        "        ))\n",
        "        selected_pairs = self.rng.choice(\n",
        "            a=all_pairs,\n",
        "            size=self.n_initial_ratings,\n",
        "            replace=False,\n",
        "        )\n",
        "        ratings = [\n",
        "            (user_id, item_id, self._get_rating(user_id, item_id))\n",
        "            for user_id, item_id in selected_pairs\n",
        "        ]\n",
        "        return pd.DataFrame(\n",
        "            data=ratings,\n",
        "            columns=('user_id','item_id','rating')\n",
        "        ).assign(timestamp=self.t)\n",
        "\n",
        "    def get_online_users(self):\n",
        "        \"\"\"\n",
        "        Returns the set of online users that queried the system at the\n",
        "        current time step.\n",
        "\n",
        "        Returns\n",
        "        -------\n",
        "        online_users: array of user_ids\n",
        "        \"\"\"\n",
        "        assert self.last_online_users is None, (\n",
        "            'Previous batch of online users must get recommendations'\n",
        "        )\n",
        "        n_online = self.rng.binomial(\n",
        "            n=self.n_users,\n",
        "            p=self.rating_frequency,\n",
        "        )\n",
        "        online_users = self.rng.choice(\n",
        "            a=self.all_users,\n",
        "            size=n_online,\n",
        "            replace=False,\n",
        "        )\n",
        "        self.last_online_users = set(online_users)\n",
        "        return online_users\n",
        "\n",
        "    def recommend(self, recommendations):\n",
        "        \"\"\"\n",
        "        Recommend items to users.\n",
        "\n",
        "        Parameters\n",
        "        ----------\n",
        "        recommendations : list of (user_id, item_id) tuples.\n",
        "            Each (user_id, item_id) tuple corresponds to an item recommended\n",
        "            to an online user. Note that only unseen items can be recommended,\n",
        "            and all online users must receive recommendations.\n",
        "\n",
        "        Returns\n",
        "        -------\n",
        "        ratings_df : pandas.DataFrame\n",
        "            True ratings given by the users.\n",
        "            DataFrame with columns: user_id, item_id, rating, timestamp.\n",
        "            Timestamp for recommendations is >= 1.\n",
        "        \"\"\"\n",
        "        assert self.last_online_users is not None, (\n",
        "            'Online users must be selected by calling get_online_users()'\n",
        "        )\n",
        "        assert len(recommendations)==len(self.last_online_users), (\n",
        "            'Number of recommendations must match number of online users'\n",
        "        )\n",
        "        assert {user_id for user_id, _ in recommendations}==self.last_online_users, (\n",
        "            'Users given recommendations must match online users'\n",
        "        )\n",
        "        assert all(item_id not in self.seen_items[user_id] for user_id, item_id in recommendations), (\n",
        "            'Only unseen items can be recommended'\n",
        "        )\n",
        "        ratings = [\n",
        "            (user_id, item_id, self._get_rating(user_id, item_id))\n",
        "            for user_id, item_id in recommendations\n",
        "        ]\n",
        "        self.last_online_users = None\n",
        "        self.t += 1\n",
        "        return pd.DataFrame(\n",
        "            data=ratings,\n",
        "            columns=('user_id','item_id','rating')\n",
        "        ).assign(timestamp=self.t)\n",
        "\n"
      ],
      "metadata": {
        "id": "8U3Lv9cMMRn7"
      },
      "execution_count": null,
      "outputs": []
    },
    {
      "cell_type": "markdown",
      "source": [
        "## Initialize environment\n",
        "\n",
        "We initialize the environment with the following code:"
      ],
      "metadata": {
        "id": "-_I4h5S1Qeaj"
      }
    },
    {
      "cell_type": "code",
      "source": [
        "static_env = TopicsStatic(\n",
        "    n_users=1000,\n",
        "    n_items=1700,\n",
        "    n_topics=19,\n",
        "    n_initial_ratings=100000,\n",
        "    random_state=1234,\n",
        ")"
      ],
      "metadata": {
        "id": "HUxp0yQnQqyw"
      },
      "execution_count": null,
      "outputs": []
    },
    {
      "cell_type": "markdown",
      "source": [
        "Get initial ratings using `static_env.get_initial_ratings()`. Print the first 5 rows.\n",
        "\n",
        "We will use this dataframe in the next steps. Note that you can only call `get_initial_ratings()` once for every initialization of the environment, so use a variable to save the result.\n",
        "\n",
        "🔵 **Solution**:"
      ],
      "metadata": {
        "id": "3jl6ep2BRuHC"
      }
    },
    {
      "cell_type": "code",
      "source": [
        "## YOUR SOLUTION"
      ],
      "metadata": {
        "id": "EAFHPqAMQ_1K"
      },
      "execution_count": null,
      "outputs": []
    },
    {
      "cell_type": "markdown",
      "source": [
        "Get list of online users using `static_env.get_online_users()`. Print the results.\n",
        "\n",
        "We will use this dataframe in the next steps. Note that you can only call `get_online_users()` function once for every simulation step of the environment, so use a variable to save the result.\n",
        "\n",
        "🔵 **Solution**:"
      ],
      "metadata": {
        "id": "rLBVT6PlUMqH"
      }
    },
    {
      "cell_type": "code",
      "source": [
        "## YOUR SOLUTION"
      ],
      "metadata": {
        "id": "YQ1jWkKfUuOC"
      },
      "execution_count": null,
      "outputs": []
    },
    {
      "cell_type": "markdown",
      "source": [
        "## Train prediction model\n",
        "\n",
        "[Surprise](https://surpriselib.com/) is a Python library for building and analyzing recommender systems that deal with explicit rating data.\n",
        "\n",
        "In particular, Surprise provides various ready-to-use prediction algorithms such as baseline algorithms, neighborhood methods, matrix factorization-based, and many others.\n",
        "\n",
        "1. Go over the introduction to Surprise in its [main homepage](https://surpriselib.com/) (\"Overview\", \"Getting started\" sections).\n",
        "2. Go over the \"[Basic usage](https://surprise.readthedocs.io/en/stable/getting_started.html#basic-usage)\" section in the Surprise documentation.\n",
        "3. The `surprise` library is already available in this notebook. (Surprise! 🥳)\n",
        "\n",
        "Fit a [`surprise.SVD`](https://surprise.readthedocs.io/en/stable/matrix_factorization.html#surprise.prediction_algorithms.matrix_factorization.SVD) predictor on the initial ratings returned by `static_env`. Use the default hyperparameters, and `1234` as the `random_state`.\n",
        "\n",
        "Hint: The following function may be useful for converting a `pandas.DataFrame` to a `surprise.Trainset`:\n"
      ],
      "metadata": {
        "id": "l8dee1W2U0T8"
      }
    },
    {
      "cell_type": "code",
      "source": [
        "def trainset_from_df(df):\n",
        "    \"\"\"\n",
        "    Convert DataFrame to Surprise training set.\n",
        "\n",
        "    Parameters\n",
        "    ----------\n",
        "    df : pandas.DataFrame\n",
        "        DataFrame with columns [user_id, item_id, rating]\n",
        "\n",
        "    Returns\n",
        "    -------\n",
        "    trainset : surprise.Trainset\n",
        "    \"\"\"\n",
        "    dataset = surprise.Dataset.load_from_df(\n",
        "        df=df[['user_id','item_id','rating']],\n",
        "        reader=surprise.Reader(rating_scale=(1,5)),\n",
        "    )\n",
        "    return dataset.build_full_trainset()\n"
      ],
      "metadata": {
        "id": "dHgDmBuVag2e"
      },
      "execution_count": null,
      "outputs": []
    },
    {
      "cell_type": "markdown",
      "source": [
        "\n",
        "\n",
        "🔵 **Solution**:"
      ],
      "metadata": {
        "id": "VkVh5UvydYF9"
      }
    },
    {
      "cell_type": "code",
      "source": [
        "\n",
        "## YOUR SOLUTION"
      ],
      "metadata": {
        "id": "a77ZgC-udZ1_"
      },
      "execution_count": null,
      "outputs": []
    },
    {
      "cell_type": "markdown",
      "source": [
        "## Recommend\n",
        "\n",
        "Next, we use the trained model to obtain recommendations:\n",
        "* Use the trained model to predict the ratings of all items, for all online users returned previously.\n",
        "* Recommend to each user $u$ the unseen item $x$ with the highest predicted rating $\\hat{r}(u,x)$. Output the results as a pandas DataFrame with columns `user_id`, `item_id`, `predicted_rating`. Display the first 5 rows.\n",
        "\n",
        "Hint: Use the surprise `predict` function. Possible item ids are given by `static_env.all_items`. Items seen by user $u$ are stored in `static_env.seen_items[user_id]`.\n",
        "\n",
        "🔵 **Solution**:"
      ],
      "metadata": {
        "id": "y8gpiQnPcUtR"
      }
    },
    {
      "cell_type": "code",
      "source": [
        "## YOUR SOLUTION"
      ],
      "metadata": {
        "id": "N0TcwTV4ctwh"
      },
      "execution_count": null,
      "outputs": []
    },
    {
      "cell_type": "markdown",
      "source": [
        "Use the dataframe to construct a list of recommendations tuples `(user_id, item_id)`, and recommend them to the users. Save the feedback in a variable.\n",
        "\n",
        "🔵 **Solution**:"
      ],
      "metadata": {
        "id": "16igNSdkiWRT"
      }
    },
    {
      "cell_type": "code",
      "source": [
        "## YOUR SOLUTION"
      ],
      "metadata": {
        "id": "d1akl8esiVcW"
      },
      "execution_count": null,
      "outputs": []
    },
    {
      "cell_type": "markdown",
      "source": [
        "## Evaluate\n",
        "\n",
        "Calculate the ARRI and RMSE for the given recommendations, and print the results.\n",
        "\n",
        "Hint: Definitions for ARRI and RMSE can be found in the \"Technical Preliminaries\" section above. The [`pandas.merge(...)`](https://pandas.pydata.org/docs/reference/api/pandas.merge.html#pandas.merge) function may be useful for joining between rating predictions and user feedback.\n",
        "\n",
        "🔵 **Solution**:"
      ],
      "metadata": {
        "id": "opytIwpmz9au"
      }
    },
    {
      "cell_type": "code",
      "source": [
        "## YOUR SOLUTION"
      ],
      "metadata": {
        "id": "cteMuqnozEUT"
      },
      "execution_count": null,
      "outputs": []
    }
  ]
}