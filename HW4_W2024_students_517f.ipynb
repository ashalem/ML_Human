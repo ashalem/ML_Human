{
  "nbformat": 4,
  "nbformat_minor": 0,
  "metadata": {
    "colab": {
      "provenance": [],
      "include_colab_link": true
    },
    "kernelspec": {
      "name": "python3",
      "display_name": "Python 3"
    },
    "language_info": {
      "name": "python"
    }
  },
  "cells": [
    {
      "cell_type": "markdown",
      "metadata": {
        "id": "view-in-github",
        "colab_type": "text"
      },
      "source": [
        "<a href=\"https://colab.research.google.com/github/ashalem/ML_Human/blob/main/HW4_W2024_students_517f.ipynb\" target=\"_parent\"><img src=\"https://colab.research.google.com/assets/colab-badge.svg\" alt=\"Open In Colab\"/></a>"
      ]
    },
    {
      "cell_type": "markdown",
      "source": [
        "\n",
        "<div>Machine Learning and Human Behavior - 236667 - Winter 2024-2025</div>\n",
        "<font size=\"6\">Homework #4 - Recommendation Systems 🦘</font>\n"
      ],
      "metadata": {
        "id": "Lj4TYqYunijM"
      }
    },
    {
      "cell_type": "markdown",
      "source": [
        "IDS: 316333368   314884602"
      ],
      "metadata": {
        "id": "sbaXY_3HncSV"
      }
    },
    {
      "cell_type": "markdown",
      "source": [
        "# Instructions and submission guidelines\n",
        "\n",
        "* Clone this notebook and complete the exercise:\n",
        "    * Aim for clear and concise solutions.\n",
        "    * Indicate clearly with a text block the sections of your solutions.\n",
        "    * Answer dry questions in markdown blocks, and wet questions in code blocks.\n",
        "* Submission guidelines:\n",
        "    * Add a text block in the beginning of your notebook with your IDs.\n",
        "    * When you're done, restart the notebook and make sure that everything runs smoothly (Runtime->\"Restart and Run All\")\n",
        "    * Export your notebook as ipynb (File->Download->\"Download .ipynb\")\n",
        "    * If you need to attach additional files to your submission (e.g images), add them to a zip file together with the notebook ipynb file.\n",
        "    * Submit through the course website. Remember to list partner IDs when you submit.\n",
        "* **Due date**: Sunday 12/01/2025, 10:00\n",
        "* For any questions regarding this exercise, contact [Eden](mailto:edens@campus.technion.ac.il)."
      ],
      "metadata": {
        "id": "GZ9lfDp0oCLH"
      }
    },
    {
      "cell_type": "markdown",
      "source": [
        "# Introduction\n",
        "\n",
        "In workshops 4 and 5, we will be using a simulation framework for evaluating different recommendation algorithms. The framework consists of 3 main components - **environments** and **recommenders**, coupled together in the **simulation**. The design is inspired by the [RecLab](https://berkeley-reclab.github.io/) framework, introduced in [Krauth et al., 2020](https://arxiv.org/pdf/2011.07931).\n",
        "\n",
        "In this homework assignment, you will implement a single step of the simulation to gain familiarity with the different components. The workshop will extend this code to examine how user behavior evolves over time."
      ],
      "metadata": {
        "id": "VeeN8kfPohnT"
      }
    },
    {
      "cell_type": "markdown",
      "source": [
        "## Notations\n",
        "\n",
        "* Time is assumed to be discrete and denoted by $t\\in\\{0,1,\\dots\\}$\n",
        "* The set of users is denoted by $U$.\n",
        "* At each time $t$, the set of \"online users\" requesting recommendation is denoted by $U_t \\subseteq U$.\n",
        "* The set of all items is denoted by $X$.\n",
        "* Rating given by user $u\\in U$ to item $x \\in X$ at time $t$ is denoted by $r_t(u,x)\\in[1,5]$. User and item are not explicity specified when they are clear from context.\n",
        "* Predicted ratings are denoted by $\\hat{r}_t (u,x)$.\n",
        "* Recommendations at time $t$ are denoted by $\\{(u,x_u)\\}_{u\\in U_t}$.\n",
        "* The Average Rating of Recommended Items (*ARRI*) at time $t$ is defined as:\n",
        "$$\n",
        "\\mathrm{ARRI} =\n",
        "\\frac{1}{\\left|U_t\\right|}\n",
        "\\sum_{u\\in U_t}\n",
        "r_t (u, x_u)\n",
        "$$\n",
        "* Rating RMSE at time $t$ is defined as:\n",
        "$$\n",
        "\\mathrm{RMSE} =\n",
        "\\left(\n",
        "\\frac{1}{\\left|U_t\\right|}\n",
        "\\sum_{u\\in U_t}\n",
        "\\left(\\hat{r}_t (u, x_u) - r_t (u, x_u) \\right)^2\n",
        "\\right)^{0.5}\n",
        "$$"
      ],
      "metadata": {
        "id": "YX0wtICNIqXu"
      }
    },
    {
      "cell_type": "markdown",
      "source": [
        "## Environment\n",
        "An *environment* defines the population of users and the collection of available items. It specifies the users' behavior, their preferences and the way they change over time, how the users rate items, etc. In particular, the environments we use here are **stateful**.\n",
        "\n",
        "In this workshop, environments expose the following interface:\n",
        "\n",
        "* `__init__(...)` - Initialize environment using given parameters\n",
        "* `get_initial_ratings() -> padnas.DataFrame` - Returns a DataFrame with initial ratings $\\{(u_i, x_i, r(u_i,x_i)\\}$. Useful for bootstrapping the recommendation algorithm and avoiding the \"[cold-start](https://en.wikipedia.org/wiki/Cold_start_(recommender_systems))\" problem.\n",
        "* `get_online_users() -> numpy.array[int]` - Returns the set of online users $U_t\\subseteq U$ that queried the system at the current time step $t$.\n",
        "* `recommend(recommendations: List[tuple[int, int]]) -> pandas.DataFrame` - Receives as input a list of tuples $\\{(u,x_u)\\}_{u\\in U_t}$, where each $u \\in U_t$ is an online user, and $x_u$ is the item being recommended. Note that only unseen items can be recommended, and all online users must receive recommendations. The function returns the true ratings given by the users.\n"
      ],
      "metadata": {
        "id": "FDd5vQRWIsKO"
      }
    },
    {
      "cell_type": "markdown",
      "source": [
        "## Recommender\n",
        "\n",
        "A *recommender* generates item recommendations to users based on past ratings.\n",
        "\n",
        "In this workshop, prediction algorithms use the [Surprise](https://surpriselib.com/) framework, which provides implementations of common collaborative filtering algortihms.\n",
        "\n"
      ],
      "metadata": {
        "id": "tGZO-kFkIvGz"
      }
    },
    {
      "cell_type": "markdown",
      "source": [
        "## Simulation\n",
        "The simulation works in discrete time steps $t\\in\\{1,2,\\dots\\}$. At each step $t$:\n",
        "* The environent is queried for the current set of online users: $$U_t\\subseteq U$$\n",
        "* The recommender selects items based on predictions:\n",
        "$$ \\{(u,x_u)\\}_{u\\in U_t} $$\n",
        "* The environment returns explicit feedback (true ratings) from the users, based on the given recommendations:\n",
        "$$\\{(u, x_u, r_t(u,x_u)\\}_{u\\in U_t}$$\n"
      ],
      "metadata": {
        "id": "Wy-4eGaRIwJe"
      }
    },
    {
      "cell_type": "markdown",
      "source": [
        "## Imports"
      ],
      "metadata": {
        "id": "QT3EhuJf-P9J"
      }
    },
    {
      "cell_type": "code",
      "source": [
        "%pip install scikit-surprise\n",
        "\n",
        "import itertools\n",
        "\n",
        "import pandas as pd\n",
        "import numpy as np\n",
        "import matplotlib.pyplot as plt\n",
        "%config InlineBackend.figure_format = 'retina'\n",
        "\n",
        "import surprise\n",
        "\n",
        "from tqdm.auto import tqdm"
      ],
      "metadata": {
        "id": "re3ZbC04CIei",
        "colab": {
          "base_uri": "https://localhost:8080/"
        },
        "outputId": "4cf7aaad-5c30-4b5b-f921-de81f29708e5"
      },
      "execution_count": 1,
      "outputs": [
        {
          "output_type": "stream",
          "name": "stdout",
          "text": [
            "Collecting scikit-surprise\n",
            "  Downloading scikit_surprise-1.1.4.tar.gz (154 kB)\n",
            "\u001b[?25l     \u001b[90m━━━━━━━━━━━━━━━━━━━━━━━━━━━━━━━━━━━━━━━━\u001b[0m \u001b[32m0.0/154.4 kB\u001b[0m \u001b[31m?\u001b[0m eta \u001b[36m-:--:--\u001b[0m\r\u001b[2K     \u001b[90m━━━━━━━━━━━━━━━━━━━━━━━━━━━━━━━━━━━━━━━━\u001b[0m \u001b[32m154.4/154.4 kB\u001b[0m \u001b[31m4.4 MB/s\u001b[0m eta \u001b[36m0:00:00\u001b[0m\n",
            "\u001b[?25h  Installing build dependencies ... \u001b[?25l\u001b[?25hdone\n",
            "  Getting requirements to build wheel ... \u001b[?25l\u001b[?25hdone\n",
            "  Preparing metadata (pyproject.toml) ... \u001b[?25l\u001b[?25hdone\n",
            "Requirement already satisfied: joblib>=1.2.0 in /usr/local/lib/python3.10/dist-packages (from scikit-surprise) (1.4.2)\n",
            "Requirement already satisfied: numpy>=1.19.5 in /usr/local/lib/python3.10/dist-packages (from scikit-surprise) (1.26.4)\n",
            "Requirement already satisfied: scipy>=1.6.0 in /usr/local/lib/python3.10/dist-packages (from scikit-surprise) (1.13.1)\n",
            "Building wheels for collected packages: scikit-surprise\n",
            "  Building wheel for scikit-surprise (pyproject.toml) ... \u001b[?25l\u001b[?25hdone\n",
            "  Created wheel for scikit-surprise: filename=scikit_surprise-1.1.4-cp310-cp310-linux_x86_64.whl size=2357271 sha256=0b9a365cce23d07d7dca978824a92033f3d336a5de837584d8552d25dde60120\n",
            "  Stored in directory: /root/.cache/pip/wheels/4b/3f/df/6acbf0a40397d9bf3ff97f582cc22fb9ce66adde75bc71fd54\n",
            "Successfully built scikit-surprise\n",
            "Installing collected packages: scikit-surprise\n",
            "Successfully installed scikit-surprise-1.1.4\n"
          ]
        }
      ]
    },
    {
      "cell_type": "markdown",
      "source": [
        "# Homework task: Static environment\n",
        "\n",
        "In this task we, will get ourselves familiar with the framework by exploring a static recommendation environment.\n"
      ],
      "metadata": {
        "id": "UjLclotwIxz5"
      }
    },
    {
      "cell_type": "markdown",
      "source": [
        "## The `TopicsStatic` environment\n",
        "\n",
        "The following environment is based on the `topics-static` environment introduced by [Krauth et al., 2020](https://arxiv.org/abs/2011.07931).\n",
        "\n",
        "* In the `TopicsStatic` environment, each item is assigned to one of $K$ topics and users prefer certain topics.\n",
        "The preference of user $u$ for items of topic $k$\n",
        "is initialized as $\\pi(u, k) \\sim \\mathrm{Uniform}(0.5, 5.5)$, while the topic\n",
        "$k_x$ of item $x$ is chosen uniformly at random from the set of all topics ($k_x\\sim\\mathrm{Uniform}([K])$).\n",
        "\n",
        "* When user $u$ is recommended item $x $ of topic $k_x$, they will rate the item as:\n",
        "$$r_t(u,x) = \\mathrm{clip}_{[1,5]}\\left(\\pi(u, k_x) + \\epsilon\\right)$$\n",
        "where $\\epsilon \\sim N(0, \\sigma^2)$ represents exogenous noise not modeled by the simulation, and $\\mathrm{clip}_{[1,5]}$ truncates values to be between $1$ and $5$."
      ],
      "metadata": {
        "id": "rmOqWaQdJpkQ"
      }
    },
    {
      "cell_type": "markdown",
      "source": [
        "## Environment implementation\n",
        "\n",
        "Implementation of the TopicsStatic environment is given by the following class:"
      ],
      "metadata": {
        "id": "pmjNy5E2MIEO"
      }
    },
    {
      "cell_type": "code",
      "source": [
        "class TopicsStatic:\n",
        "    topic_affinity_params = dict(\n",
        "        low=0.5,\n",
        "        high=5.5,\n",
        "    )\n",
        "    decision_noise_params = dict(\n",
        "        scale=0.5,\n",
        "    )\n",
        "    rating_frequency = 0.2\n",
        "\n",
        "    def __init__(self, n_users, n_items, n_topics, n_initial_ratings, random_state=None):\n",
        "        \"\"\"\n",
        "        Initialize the environment.\n",
        "\n",
        "        Parameters\n",
        "        ----------\n",
        "        n_users : int\n",
        "            Number of users in the environment.\n",
        "\n",
        "        n_items : int\n",
        "            Number of items in the environment.\n",
        "\n",
        "        n_topics : int\n",
        "            Number of latent topics in the environment.\n",
        "\n",
        "        n_initial_ratings : int\n",
        "            Number of initial ratings available to the recommender before the\n",
        "            simulation starts.\n",
        "\n",
        "        random_state : int, default=None\n",
        "            Random seed to use, if none is specified, a seed provided by the\n",
        "            OS will be used.\n",
        "        \"\"\"\n",
        "        self.n_users = n_users\n",
        "        self.n_items = n_users\n",
        "        self.all_users = [f'usr_{i}' for i in range(self.n_users)]\n",
        "        self.all_items = [f'itm_{i}' for i in range(self.n_items)]\n",
        "        self.n_topics = n_topics\n",
        "        self.n_initial_ratings = n_initial_ratings\n",
        "        self.rng = np.random.default_rng(random_state)\n",
        "        # Assign topics to items\n",
        "        self._item_topics = self.rng.integers(\n",
        "            low=0,\n",
        "            high=n_topics,\n",
        "            size=n_items\n",
        "        )\n",
        "        # Initialize topics affinity matrix\n",
        "        self._topic_affinity = self.rng.uniform(\n",
        "            **self.topic_affinity_params,\n",
        "            size=(n_users, n_topics),\n",
        "        )\n",
        "        # Initialize environment state\n",
        "        self.t = 0\n",
        "        self.last_online_users = None\n",
        "        self.seen_items = {user_id: list() for user_id in self.all_users}\n",
        "        self.initial_ratings_shown = False\n",
        "\n",
        "    def _get_rating(self, user_id, item_id):\n",
        "        \"\"\"\n",
        "        Calculate rating r_t(user_id, item_id).\n",
        "        \"\"\"\n",
        "        assert item_id not in self.seen_items[user_id], (\n",
        "            'Each item can only be shown once to each user'\n",
        "        )\n",
        "        user_internal_id = self.all_users.index(user_id)\n",
        "        item_internal_id = self.all_items.index(item_id)\n",
        "        self.seen_items[user_id].append(item_id)\n",
        "        item_topic = self._item_topics[item_internal_id]\n",
        "        affinity = self._topic_affinity[user_internal_id, item_topic]\n",
        "        noise = self.rng.normal(**self.decision_noise_params)\n",
        "        rating = np.clip(affinity+noise, 1, 5)\n",
        "        return rating\n",
        "\n",
        "    def get_initial_ratings(self):\n",
        "        \"\"\"\n",
        "        Get initial ratings, to be used when initializing the recommender.\n",
        "\n",
        "        Returns\n",
        "        -------\n",
        "        ratings_df : pandas.DataFrame\n",
        "            DataFrame with columns: user_id, item_id, rating, timestamp.\n",
        "            Timestamp for initial data is set to 0.\n",
        "        \"\"\"\n",
        "        assert not self.initial_ratings_shown, (\n",
        "            'Initial ratings can only be calculated once',\n",
        "        )\n",
        "        self.initial_ratings_shown = True\n",
        "        all_pairs = list(itertools.product(\n",
        "            self.all_users,\n",
        "            self.all_items,\n",
        "        ))\n",
        "        selected_pairs = self.rng.choice(\n",
        "            a=all_pairs,\n",
        "            size=self.n_initial_ratings,\n",
        "            replace=False,\n",
        "        )\n",
        "        ratings = [\n",
        "            (user_id, item_id, self._get_rating(user_id, item_id))\n",
        "            for user_id, item_id in selected_pairs\n",
        "        ]\n",
        "        return pd.DataFrame(\n",
        "            data=ratings,\n",
        "            columns=('user_id','item_id','rating')\n",
        "        ).assign(timestamp=self.t)\n",
        "\n",
        "    def get_online_users(self):\n",
        "        \"\"\"\n",
        "        Returns the set of online users that queried the system at the\n",
        "        current time step.\n",
        "\n",
        "        Returns\n",
        "        -------\n",
        "        online_users: array of user_ids\n",
        "        \"\"\"\n",
        "        assert self.last_online_users is None, (\n",
        "            'Previous batch of online users must get recommendations'\n",
        "        )\n",
        "        n_online = self.rng.binomial(\n",
        "            n=self.n_users,\n",
        "            p=self.rating_frequency,\n",
        "        )\n",
        "        online_users = self.rng.choice(\n",
        "            a=self.all_users,\n",
        "            size=n_online,\n",
        "            replace=False,\n",
        "        )\n",
        "        self.last_online_users = set(online_users)\n",
        "        return online_users\n",
        "\n",
        "    def recommend(self, recommendations):\n",
        "        \"\"\"\n",
        "        Recommend items to users.\n",
        "\n",
        "        Parameters\n",
        "        ----------\n",
        "        recommendations : list of (user_id, item_id) tuples.\n",
        "            Each (user_id, item_id) tuple corresponds to an item recommended\n",
        "            to an online user. Note that only unseen items can be recommended,\n",
        "            and all online users must receive recommendations.\n",
        "\n",
        "        Returns\n",
        "        -------\n",
        "        ratings_df : pandas.DataFrame\n",
        "            True ratings given by the users.\n",
        "            DataFrame with columns: user_id, item_id, rating, timestamp.\n",
        "            Timestamp for recommendations is >= 1.\n",
        "        \"\"\"\n",
        "        assert self.last_online_users is not None, (\n",
        "            'Online users must be selected by calling get_online_users()'\n",
        "        )\n",
        "        assert len(recommendations)==len(self.last_online_users), (\n",
        "            'Number of recommendations must match number of online users'\n",
        "        )\n",
        "        assert {user_id for user_id, _ in recommendations}==self.last_online_users, (\n",
        "            'Users given recommendations must match online users'\n",
        "        )\n",
        "        assert all(item_id not in self.seen_items[user_id] for user_id, item_id in recommendations), (\n",
        "            'Only unseen items can be recommended'\n",
        "        )\n",
        "        ratings = [\n",
        "            (user_id, item_id, self._get_rating(user_id, item_id))\n",
        "            for user_id, item_id in recommendations\n",
        "        ]\n",
        "        self.last_online_users = None\n",
        "        self.t += 1\n",
        "        return pd.DataFrame(\n",
        "            data=ratings,\n",
        "            columns=('user_id','item_id','rating')\n",
        "        ).assign(timestamp=self.t)\n",
        "\n"
      ],
      "metadata": {
        "id": "8U3Lv9cMMRn7"
      },
      "execution_count": 2,
      "outputs": []
    },
    {
      "cell_type": "markdown",
      "source": [
        "## Initialize environment\n",
        "\n",
        "We initialize the environment with the following code:"
      ],
      "metadata": {
        "id": "-_I4h5S1Qeaj"
      }
    },
    {
      "cell_type": "code",
      "source": [
        "static_env = TopicsStatic(\n",
        "    n_users=1000,\n",
        "    n_items=1700,\n",
        "    n_topics=19,\n",
        "    n_initial_ratings=100000,\n",
        "    random_state=1234,\n",
        ")"
      ],
      "metadata": {
        "id": "HUxp0yQnQqyw"
      },
      "execution_count": 3,
      "outputs": []
    },
    {
      "cell_type": "markdown",
      "source": [
        "Get initial ratings using `static_env.get_initial_ratings()`. Print the first 5 rows.\n",
        "\n",
        "We will use this dataframe in the next steps. Note that you can only call `get_initial_ratings()` once for every initialization of the environment, so use a variable to save the result.\n",
        "\n",
        "🔵 **Solution**:"
      ],
      "metadata": {
        "id": "3jl6ep2BRuHC"
      }
    },
    {
      "cell_type": "code",
      "source": [
        "## YOUR SOLUTION\n",
        "initial_ratings = static_env.get_initial_ratings()\n",
        "print(initial_ratings.head())"
      ],
      "metadata": {
        "id": "EAFHPqAMQ_1K",
        "colab": {
          "base_uri": "https://localhost:8080/"
        },
        "outputId": "1263c791-9936-45de-e273-284c7f8fcac3"
      },
      "execution_count": 4,
      "outputs": [
        {
          "output_type": "stream",
          "name": "stdout",
          "text": [
            "   user_id  item_id    rating  timestamp\n",
            "0  usr_187  itm_749  1.000000          0\n",
            "1  usr_830  itm_321  3.609729          0\n",
            "2  usr_663  itm_171  1.577740          0\n",
            "3  usr_115  itm_717  3.108401          0\n",
            "4  usr_530   itm_89  3.425596          0\n"
          ]
        }
      ]
    },
    {
      "cell_type": "markdown",
      "source": [
        "Get list of online users using `static_env.get_online_users()`. Print the results.\n",
        "\n",
        "We will use this dataframe in the next steps. Note that you can only call `get_online_users()` function once for every simulation step of the environment, so use a variable to save the result.\n",
        "\n",
        "🔵 **Solution**:"
      ],
      "metadata": {
        "id": "rLBVT6PlUMqH"
      }
    },
    {
      "cell_type": "code",
      "source": [
        "## YOUR SOLUTION\n",
        "online_users = static_env.get_online_users()\n",
        "print(online_users)"
      ],
      "metadata": {
        "id": "YQ1jWkKfUuOC",
        "colab": {
          "base_uri": "https://localhost:8080/"
        },
        "outputId": "e0aaa695-574e-4881-b832-3b7f6eacbaf4"
      },
      "execution_count": 5,
      "outputs": [
        {
          "output_type": "stream",
          "name": "stdout",
          "text": [
            "['usr_207' 'usr_527' 'usr_355' 'usr_647' 'usr_319' 'usr_670' 'usr_714'\n",
            " 'usr_305' 'usr_793' 'usr_890' 'usr_916' 'usr_283' 'usr_469' 'usr_710'\n",
            " 'usr_46' 'usr_676' 'usr_289' 'usr_18' 'usr_268' 'usr_808' 'usr_547'\n",
            " 'usr_880' 'usr_480' 'usr_303' 'usr_628' 'usr_239' 'usr_278' 'usr_406'\n",
            " 'usr_885' 'usr_748' 'usr_75' 'usr_533' 'usr_396' 'usr_165' 'usr_7'\n",
            " 'usr_632' 'usr_284' 'usr_261' 'usr_999' 'usr_95' 'usr_629' 'usr_54'\n",
            " 'usr_172' 'usr_795' 'usr_957' 'usr_200' 'usr_898' 'usr_909' 'usr_118'\n",
            " 'usr_651' 'usr_285' 'usr_655' 'usr_302' 'usr_921' 'usr_570' 'usr_750'\n",
            " 'usr_87' 'usr_184' 'usr_134' 'usr_317' 'usr_65' 'usr_747' 'usr_706'\n",
            " 'usr_825' 'usr_232' 'usr_84' 'usr_77' 'usr_659' 'usr_144' 'usr_665'\n",
            " 'usr_682' 'usr_796' 'usr_135' 'usr_878' 'usr_741' 'usr_449' 'usr_470'\n",
            " 'usr_507' 'usr_241' 'usr_511' 'usr_273' 'usr_776' 'usr_623' 'usr_693'\n",
            " 'usr_827' 'usr_454' 'usr_21' 'usr_259' 'usr_724' 'usr_901' 'usr_954'\n",
            " 'usr_762' 'usr_617' 'usr_262' 'usr_504' 'usr_546' 'usr_865' 'usr_947'\n",
            " 'usr_96' 'usr_324' 'usr_332' 'usr_951' 'usr_588' 'usr_483' 'usr_306'\n",
            " 'usr_925' 'usr_116' 'usr_371' 'usr_204' 'usr_936' 'usr_27' 'usr_277'\n",
            " 'usr_510' 'usr_595' 'usr_210' 'usr_671' 'usr_294' 'usr_347' 'usr_585'\n",
            " 'usr_492' 'usr_206' 'usr_228' 'usr_158' 'usr_194' 'usr_190' 'usr_392'\n",
            " 'usr_255' 'usr_405' 'usr_970' 'usr_580' 'usr_799' 'usr_499' 'usr_824'\n",
            " 'usr_604' 'usr_181' 'usr_111' 'usr_819' 'usr_170' 'usr_675' 'usr_66'\n",
            " 'usr_258' 'usr_785' 'usr_152' 'usr_465' 'usr_386' 'usr_402' 'usr_780'\n",
            " 'usr_697' 'usr_786' 'usr_501' 'usr_932' 'usr_863' 'usr_809' 'usr_600'\n",
            " 'usr_876' 'usr_930' 'usr_72' 'usr_640' 'usr_233' 'usr_368' 'usr_500'\n",
            " 'usr_891' 'usr_254' 'usr_867' 'usr_3' 'usr_846' 'usr_260' 'usr_872'\n",
            " 'usr_141' 'usr_339' 'usr_166' 'usr_451' 'usr_235' 'usr_45' 'usr_216'\n",
            " 'usr_858' 'usr_661' 'usr_35' 'usr_199' 'usr_434' 'usr_438' 'usr_354'\n",
            " 'usr_155' 'usr_931' 'usr_90' 'usr_709' 'usr_412' 'usr_110' 'usr_269'\n",
            " 'usr_187' 'usr_704' 'usr_256' 'usr_516' 'usr_63']\n"
          ]
        }
      ]
    },
    {
      "cell_type": "markdown",
      "source": [
        "## Train prediction model\n",
        "\n",
        "[Surprise](https://surpriselib.com/) is a Python library for building and analyzing recommender systems that deal with explicit rating data.\n",
        "\n",
        "In particular, Surprise provides various ready-to-use prediction algorithms such as baseline algorithms, neighborhood methods, matrix factorization-based, and many others.\n",
        "\n",
        "1. Go over the introduction to Surprise in its [main homepage](https://surpriselib.com/) (\"Overview\", \"Getting started\" sections).\n",
        "2. Go over the \"[Basic usage](https://surprise.readthedocs.io/en/stable/getting_started.html#basic-usage)\" section in the Surprise documentation.\n",
        "3. The `surprise` library is already available in this notebook. (Surprise! 🥳)\n",
        "\n",
        "Fit a [`surprise.SVD`](https://surprise.readthedocs.io/en/stable/matrix_factorization.html#surprise.prediction_algorithms.matrix_factorization.SVD) predictor on the initial ratings returned by `static_env`. Use the default hyperparameters, and `1234` as the `random_state`.\n",
        "\n",
        "Hint: The following function may be useful for converting a `pandas.DataFrame` to a `surprise.Trainset`:\n"
      ],
      "metadata": {
        "id": "l8dee1W2U0T8"
      }
    },
    {
      "cell_type": "code",
      "source": [
        "def trainset_from_df(df):\n",
        "    \"\"\"\n",
        "    Convert DataFrame to Surprise training set.\n",
        "\n",
        "    Parameters\n",
        "    ----------\n",
        "    df : pandas.DataFrame\n",
        "        DataFrame with columns [user_id, item_id, rating]\n",
        "\n",
        "    Returns\n",
        "    -------\n",
        "    trainset : surprise.Trainset\n",
        "    \"\"\"\n",
        "    dataset = surprise.Dataset.load_from_df(\n",
        "        df=df[['user_id','item_id','rating']],\n",
        "        reader=surprise.Reader(rating_scale=(1,5)),\n",
        "    )\n",
        "    return dataset.build_full_trainset()\n"
      ],
      "metadata": {
        "id": "dHgDmBuVag2e"
      },
      "execution_count": 6,
      "outputs": []
    },
    {
      "cell_type": "markdown",
      "source": [
        "\n",
        "\n",
        "🔵 **Solution**:"
      ],
      "metadata": {
        "id": "VkVh5UvydYF9"
      }
    },
    {
      "cell_type": "code",
      "source": [
        "## YOUR SOLUTION\n",
        "from surprise import accuracy, Dataset, SVD\n",
        "from surprise.model_selection import train_test_split\n",
        "\n",
        "algo = SVD()\n",
        "\n",
        "# Train the algorithm on the trainset, and predict ratings for the testset\n",
        "algo.fit(trainset_from_df(initial_ratings))"
      ],
      "metadata": {
        "id": "a77ZgC-udZ1_",
        "colab": {
          "base_uri": "https://localhost:8080/"
        },
        "outputId": "8ba21944-7964-4b94-e99d-69a02f7aeeef"
      },
      "execution_count": 7,
      "outputs": [
        {
          "output_type": "execute_result",
          "data": {
            "text/plain": [
              "<surprise.prediction_algorithms.matrix_factorization.SVD at 0x7a30b818a590>"
            ]
          },
          "metadata": {},
          "execution_count": 7
        }
      ]
    },
    {
      "cell_type": "markdown",
      "source": [
        "## Recommend\n",
        "\n",
        "Next, we use the trained model to obtain recommendations:\n",
        "* Use the trained model to predict the ratings of all items, for all online users returned previously.\n",
        "* Recommend to each user $u$ the unseen item $x$ with the highest predicted rating $\\hat{r}(u,x)$. Output the results as a pandas DataFrame with columns `user_id`, `item_id`, `predicted_rating`. Display the first 5 rows.\n",
        "\n",
        "Hint: Use the surprise `predict` function. Possible item ids are given by `static_env.all_items`. Items seen by user $u$ are stored in `static_env.seen_items[user_id]`.\n",
        "\n",
        "🔵 **Solution**:"
      ],
      "metadata": {
        "id": "y8gpiQnPcUtR"
      }
    },
    {
      "cell_type": "code",
      "source": [
        "## YOUR SOLUTION\n",
        "\n",
        "all_items = static_env.all_items\n",
        "predictions = [\n",
        "    max([algo.predict(user, item) for item in all_items if item not in static_env.seen_items[user]], key=lambda x: x.est)\n",
        "    for user in online_users\n",
        "]\n",
        "df = pd.DataFrame([{'user_id': pred.uid, 'item_id': pred.iid, 'predicted_rating': pred.est} for pred in predictions])\n",
        "print(df)"
      ],
      "metadata": {
        "id": "N0TcwTV4ctwh",
        "colab": {
          "base_uri": "https://localhost:8080/"
        },
        "outputId": "9b4188bb-2588-4539-e17d-02aa9f4ba4af"
      },
      "execution_count": 15,
      "outputs": [
        {
          "output_type": "stream",
          "name": "stdout",
          "text": [
            "     user_id  item_id  predicted_rating\n",
            "0    usr_207  itm_827          4.652473\n",
            "1    usr_527  itm_207          5.000000\n",
            "2    usr_355  itm_866          4.795553\n",
            "3    usr_647  itm_348          4.828278\n",
            "4    usr_319  itm_541          4.353651\n",
            "..       ...      ...               ...\n",
            "189  usr_187  itm_780          4.619321\n",
            "190  usr_704    itm_8          4.512322\n",
            "191  usr_256  itm_369          4.951711\n",
            "192  usr_516  itm_532          4.754541\n",
            "193   usr_63  itm_704          4.934853\n",
            "\n",
            "[194 rows x 3 columns]\n"
          ]
        }
      ]
    },
    {
      "cell_type": "markdown",
      "source": [
        "Use the dataframe to construct a list of recommendations tuples `(user_id, item_id)`, and recommend them to the users. Save the feedback in a variable.\n",
        "\n",
        "🔵 **Solution**:"
      ],
      "metadata": {
        "id": "16igNSdkiWRT"
      }
    },
    {
      "cell_type": "code",
      "source": [
        "## YOUR SOLUTION\n",
        "recommendations = [(pred.uid, pred.iid) for pred in predictions]\n",
        "print(recommendations)"
      ],
      "metadata": {
        "id": "d1akl8esiVcW",
        "colab": {
          "base_uri": "https://localhost:8080/"
        },
        "outputId": "7b010b06-b37f-4f41-f460-21269fa25612"
      },
      "execution_count": 16,
      "outputs": [
        {
          "output_type": "stream",
          "name": "stdout",
          "text": [
            "[('usr_207', 'itm_827'), ('usr_527', 'itm_207'), ('usr_355', 'itm_866'), ('usr_647', 'itm_348'), ('usr_319', 'itm_541'), ('usr_670', 'itm_352'), ('usr_714', 'itm_350'), ('usr_305', 'itm_193'), ('usr_793', 'itm_105'), ('usr_890', 'itm_506'), ('usr_916', 'itm_250'), ('usr_283', 'itm_640'), ('usr_469', 'itm_85'), ('usr_710', 'itm_528'), ('usr_46', 'itm_89'), ('usr_676', 'itm_95'), ('usr_289', 'itm_125'), ('usr_18', 'itm_815'), ('usr_268', 'itm_343'), ('usr_808', 'itm_850'), ('usr_547', 'itm_270'), ('usr_880', 'itm_922'), ('usr_480', 'itm_128'), ('usr_303', 'itm_424'), ('usr_628', 'itm_548'), ('usr_239', 'itm_651'), ('usr_278', 'itm_90'), ('usr_406', 'itm_940'), ('usr_885', 'itm_341'), ('usr_748', 'itm_985'), ('usr_75', 'itm_482'), ('usr_533', 'itm_748'), ('usr_396', 'itm_848'), ('usr_165', 'itm_806'), ('usr_7', 'itm_568'), ('usr_632', 'itm_548'), ('usr_284', 'itm_65'), ('usr_261', 'itm_283'), ('usr_999', 'itm_971'), ('usr_95', 'itm_673'), ('usr_629', 'itm_379'), ('usr_54', 'itm_178'), ('usr_172', 'itm_276'), ('usr_795', 'itm_348'), ('usr_957', 'itm_197'), ('usr_200', 'itm_951'), ('usr_898', 'itm_153'), ('usr_909', 'itm_859'), ('usr_118', 'itm_887'), ('usr_651', 'itm_882'), ('usr_285', 'itm_382'), ('usr_655', 'itm_623'), ('usr_302', 'itm_798'), ('usr_921', 'itm_717'), ('usr_570', 'itm_627'), ('usr_750', 'itm_891'), ('usr_87', 'itm_271'), ('usr_184', 'itm_990'), ('usr_134', 'itm_398'), ('usr_317', 'itm_822'), ('usr_65', 'itm_945'), ('usr_747', 'itm_384'), ('usr_706', 'itm_756'), ('usr_825', 'itm_971'), ('usr_232', 'itm_506'), ('usr_84', 'itm_811'), ('usr_77', 'itm_639'), ('usr_659', 'itm_440'), ('usr_144', 'itm_605'), ('usr_665', 'itm_296'), ('usr_682', 'itm_309'), ('usr_796', 'itm_446'), ('usr_135', 'itm_91'), ('usr_878', 'itm_765'), ('usr_741', 'itm_463'), ('usr_449', 'itm_5'), ('usr_470', 'itm_815'), ('usr_507', 'itm_144'), ('usr_241', 'itm_452'), ('usr_511', 'itm_451'), ('usr_273', 'itm_645'), ('usr_776', 'itm_644'), ('usr_623', 'itm_382'), ('usr_693', 'itm_748'), ('usr_827', 'itm_199'), ('usr_454', 'itm_642'), ('usr_21', 'itm_150'), ('usr_259', 'itm_133'), ('usr_724', 'itm_462'), ('usr_901', 'itm_847'), ('usr_954', 'itm_922'), ('usr_762', 'itm_673'), ('usr_617', 'itm_762'), ('usr_262', 'itm_865'), ('usr_504', 'itm_328'), ('usr_546', 'itm_625'), ('usr_865', 'itm_350'), ('usr_947', 'itm_973'), ('usr_96', 'itm_83'), ('usr_324', 'itm_195'), ('usr_332', 'itm_536'), ('usr_951', 'itm_723'), ('usr_588', 'itm_608'), ('usr_483', 'itm_50'), ('usr_306', 'itm_152'), ('usr_925', 'itm_812'), ('usr_116', 'itm_625'), ('usr_371', 'itm_398'), ('usr_204', 'itm_788'), ('usr_936', 'itm_380'), ('usr_27', 'itm_979'), ('usr_277', 'itm_929'), ('usr_510', 'itm_175'), ('usr_595', 'itm_81'), ('usr_210', 'itm_599'), ('usr_671', 'itm_517'), ('usr_294', 'itm_287'), ('usr_347', 'itm_753'), ('usr_585', 'itm_893'), ('usr_492', 'itm_23'), ('usr_206', 'itm_535'), ('usr_228', 'itm_88'), ('usr_158', 'itm_678'), ('usr_194', 'itm_605'), ('usr_190', 'itm_594'), ('usr_392', 'itm_7'), ('usr_255', 'itm_207'), ('usr_405', 'itm_24'), ('usr_970', 'itm_95'), ('usr_580', 'itm_575'), ('usr_799', 'itm_992'), ('usr_499', 'itm_65'), ('usr_824', 'itm_625'), ('usr_604', 'itm_806'), ('usr_181', 'itm_386'), ('usr_111', 'itm_535'), ('usr_819', 'itm_100'), ('usr_170', 'itm_167'), ('usr_675', 'itm_878'), ('usr_66', 'itm_883'), ('usr_258', 'itm_296'), ('usr_785', 'itm_50'), ('usr_152', 'itm_909'), ('usr_465', 'itm_927'), ('usr_386', 'itm_435'), ('usr_402', 'itm_934'), ('usr_780', 'itm_580'), ('usr_697', 'itm_408'), ('usr_786', 'itm_333'), ('usr_501', 'itm_865'), ('usr_932', 'itm_662'), ('usr_863', 'itm_824'), ('usr_809', 'itm_592'), ('usr_600', 'itm_923'), ('usr_876', 'itm_870'), ('usr_930', 'itm_586'), ('usr_72', 'itm_19'), ('usr_640', 'itm_254'), ('usr_233', 'itm_536'), ('usr_368', 'itm_489'), ('usr_500', 'itm_512'), ('usr_891', 'itm_78'), ('usr_254', 'itm_442'), ('usr_867', 'itm_964'), ('usr_3', 'itm_631'), ('usr_846', 'itm_22'), ('usr_260', 'itm_420'), ('usr_872', 'itm_531'), ('usr_141', 'itm_423'), ('usr_339', 'itm_202'), ('usr_166', 'itm_484'), ('usr_451', 'itm_872'), ('usr_235', 'itm_743'), ('usr_45', 'itm_609'), ('usr_216', 'itm_84'), ('usr_858', 'itm_779'), ('usr_661', 'itm_798'), ('usr_35', 'itm_929'), ('usr_199', 'itm_767'), ('usr_434', 'itm_430'), ('usr_438', 'itm_659'), ('usr_354', 'itm_635'), ('usr_155', 'itm_420'), ('usr_931', 'itm_217'), ('usr_90', 'itm_689'), ('usr_709', 'itm_232'), ('usr_412', 'itm_128'), ('usr_110', 'itm_854'), ('usr_269', 'itm_529'), ('usr_187', 'itm_780'), ('usr_704', 'itm_8'), ('usr_256', 'itm_369'), ('usr_516', 'itm_532'), ('usr_63', 'itm_704')]\n"
          ]
        }
      ]
    },
    {
      "cell_type": "markdown",
      "source": [
        "## Evaluate\n",
        "\n",
        "Calculate the ARRI and RMSE for the given recommendations, and print the results.\n",
        "\n",
        "Hint: Definitions for ARRI and RMSE can be found in the \"Technical Preliminaries\" section above. The [`pandas.merge(...)`](https://pandas.pydata.org/docs/reference/api/pandas.merge.html#pandas.merge) function may be useful for joining between rating predictions and user feedback.\n",
        "\n",
        "🔵 **Solution**:"
      ],
      "metadata": {
        "id": "opytIwpmz9au"
      }
    },
    {
      "cell_type": "code",
      "source": [
        "## YOUR SOLUTION\n",
        "users_df = static_env.recommend(recommendations)\n",
        "items_and_rec = pd.merge(df, users_df, how=\"left\", on=\"user_id\")\n",
        "print(items_and_rec)"
      ],
      "metadata": {
        "id": "cteMuqnozEUT",
        "colab": {
          "base_uri": "https://localhost:8080/"
        },
        "outputId": "874c82fb-b98c-4f81-8147-ad55d8e91915"
      },
      "execution_count": 18,
      "outputs": [
        {
          "output_type": "stream",
          "name": "stdout",
          "text": [
            "     user_id item_id_x  predicted_rating item_id_y    rating  timestamp\n",
            "0    usr_207   itm_827          4.652473   itm_827  4.961160          1\n",
            "1    usr_527   itm_207          5.000000   itm_207  4.844150          1\n",
            "2    usr_355   itm_866          4.795553   itm_866  4.436802          1\n",
            "3    usr_647   itm_348          4.828278   itm_348  3.543195          1\n",
            "4    usr_319   itm_541          4.353651   itm_541  5.000000          1\n",
            "..       ...       ...               ...       ...       ...        ...\n",
            "189  usr_187   itm_780          4.619321   itm_780  5.000000          1\n",
            "190  usr_704     itm_8          4.512322     itm_8  5.000000          1\n",
            "191  usr_256   itm_369          4.951711   itm_369  4.716882          1\n",
            "192  usr_516   itm_532          4.754541   itm_532  5.000000          1\n",
            "193   usr_63   itm_704          4.934853   itm_704  2.959604          1\n",
            "\n",
            "[194 rows x 6 columns]\n"
          ]
        }
      ]
    },
    {
      "cell_type": "code",
      "source": [
        "mse = np.mean((np.array(items_and_rec.predicted_rating) - np.array(items_and_rec.rating)) ** 2)\n",
        "rmse = np.sqrt(mse)\n",
        "print(rmse)"
      ],
      "metadata": {
        "id": "O834G9o12e5l",
        "outputId": "eaec0071-a339-430e-9e6d-dca7f129b0d5",
        "colab": {
          "base_uri": "https://localhost:8080/"
        }
      },
      "execution_count": 19,
      "outputs": [
        {
          "output_type": "stream",
          "name": "stdout",
          "text": [
            "0.747878638861323\n"
          ]
        }
      ]
    },
    {
      "cell_type": "code",
      "source": [
        "arri = np.mean(np.array(items_and_rec.rating))\n",
        "print(arri)"
      ],
      "metadata": {
        "id": "TjVFqycV3Uuy",
        "outputId": "6c729aec-38a8-44b6-c028-29596be3ea87",
        "colab": {
          "base_uri": "https://localhost:8080/"
        }
      },
      "execution_count": 20,
      "outputs": [
        {
          "output_type": "stream",
          "name": "stdout",
          "text": [
            "4.398460424753723\n"
          ]
        }
      ]
    }
  ]
}