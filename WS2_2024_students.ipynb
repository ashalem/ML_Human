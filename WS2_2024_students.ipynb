{
  "cells": [
    {
      "cell_type": "markdown",
      "metadata": {
        "colab_type": "text",
        "id": "view-in-github"
      },
      "source": [
        "<a href=\"https://colab.research.google.com/github/ashalem/ML_Human/blob/main/WS2_2024_students.ipynb\" target=\"_parent\"><img src=\"https://colab.research.google.com/assets/colab-badge.svg\" alt=\"Open In Colab\"/></a>"
      ]
    },
    {
      "cell_type": "markdown",
      "metadata": {
        "id": "9Mpd38HztkAh"
      },
      "source": [
        "<div>Machine Learning and Human Behavior - 236667 - Winter 2024-2025</div>\n",
        "<font size=\"6\">Workshop #2 - Discrete Choice ✨</font>"
      ]
    },
    {
      "cell_type": "markdown",
      "metadata": {
        "id": "8flVAj3563K3"
      },
      "source": [
        "# Instructions and submission guidelines\n",
        "\n",
        "* Clone this notebook and complete the exercise:\n",
        "    * Aim for clear and concise solutions.\n",
        "    * Indicate clearly with a text block the sections of your solutions.\n",
        "    * Answer dry questions in text (markdown) blocks, and wet questions in code blocks.\n",
        "* Submission guidelines:\n",
        "    * When you're done, restart the notebook, and make sure that everything runs smoothly (Runtime->\"Restart and Run All\")\n",
        "    * Add a text block in the beginning of your notebook with your IDs.\n",
        "    * Export your notebook as ipynb (File->Download->\"Download .ipynb\")\n",
        "    * If you need to attach additional files to your submission (e.g images), add them to a zip file together with the notebook ipynb file.\n",
        "    * Submit through the course website. Remember to list partner IDs when you submit.\n",
        "* **Due date**: Sunday 15/12/2024, 10:00\n",
        "* For any questions regarding this workshop task, contact [Lotan](mailto:lotan.amit@campus.technion.ac.il).\n"
      ]
    },
    {
      "cell_type": "markdown",
      "metadata": {
        "id": "MWK5QJd7opXM"
      },
      "source": [
        "## Preliminaries\n",
        "Run these cells to load into memory interface objects and functions that will be used throughtout today's workshop.\n",
        "\n",
        "No need to read the actual code."
      ]
    },
    {
      "cell_type": "code",
      "execution_count": 2,
      "metadata": {
        "id": "25Ie6znsg1gU"
      },
      "outputs": [],
      "source": [
        "import numpy as np\n",
        "import matplotlib.pyplot as plt\n",
        "import pandas as pd\n",
        "import abc\n",
        "import string\n",
        "import statsmodels.api as sm\n",
        "import itertools\n",
        "from sklearn import svm, linear_model\n",
        "import pandas as pd\n",
        "import sys\n",
        "\n",
        "from collections import OrderedDict\n",
        "\n",
        "%config InlineBackend.figure_format = 'retina'"
      ]
    },
    {
      "cell_type": "code",
      "execution_count": 3,
      "metadata": {
        "cellView": "form",
        "id": "-57rrztworxu"
      },
      "outputs": [],
      "source": [
        "#@title Context Effects\n",
        "\n",
        "# Generate Choice\n",
        "\n",
        "class UserModel(abc.ABC):\n",
        "  @abc.abstractclassmethod\n",
        "  def __call__(self, X, *args):\n",
        "    '''\n",
        "    Given items X, calculate the user's valuation v(x) for each item x\n",
        "    '''\n",
        "    raise NotImplementedError()\n",
        "\n",
        "  def predict(self, X, *args):\n",
        "    raise NotImplementedError()\n",
        "\n",
        "class RationalUserModel(UserModel):\n",
        "\n",
        "  def __init__(self, beta_h):\n",
        "    self.beta_h = beta_h\n",
        "    self.type = \"rational\"\n",
        "\n",
        "  def __call__(self, X):\n",
        "    return X@self.beta_h\n",
        "\n",
        "  def choice(self, X):\n",
        "    return np.argmax(self(X), axis=0)\n",
        "\n",
        "\n",
        "class AttractionUserModel(UserModel):\n",
        "  def __init__(self, beta_h, alpha_attr):\n",
        "    # rational_utility_weights\n",
        "    self.rational_utility_weights = beta_h\n",
        "    # attraction_coefficient\n",
        "    self.attraction_coefficient = alpha_attr\n",
        "    self.name = \"attraction\"\n",
        "\n",
        "  def __call__(self, X):\n",
        "    # X: shape=(num_items,num_features) - Item covariates\n",
        "    return (\n",
        "        self._rational_decision_term(X)\n",
        "        + self.attraction_coefficient*self._attraction_term(X)\n",
        "    )\n",
        "\n",
        "  def _rational_decision_term(self, X):\n",
        "    return X@self.rational_utility_weights\n",
        "\n",
        "  def _attraction_term(self, X):\n",
        "    # Calculate preference vector\n",
        "    preference_vector = X.max(axis=0)-X.min(axis=0)\n",
        "    preference_vector_normalized = (\n",
        "        preference_vector\n",
        "        /np.sqrt(preference_vector@preference_vector)\n",
        "    )\n",
        "    # Calculate dominance and distance matrices\n",
        "    N = len(X)\n",
        "    dominance = np.zeros((N,N))\n",
        "    distance = np.zeros((N,N))\n",
        "    for i in range(N):\n",
        "      for j in range(N):\n",
        "        dominance[i,j] = (+1)*np.all(X[i]-X[j] >= 0) + (-1)*np.all(X[j]-X[i] >= 0)\n",
        "        distance[i,j] = abs(preference_vector_normalized@(X[i]-X[j]))\n",
        "\n",
        "    attraction_terms = (dominance*distance).sum(axis=1)\n",
        "    return attraction_terms\n",
        "\n",
        "  def choice(self, X):\n",
        "    return np.argmax(self(X), axis=0)\n",
        "\n",
        "\n",
        "\n",
        "class SimilarityUserModel(UserModel):\n",
        "\n",
        "  def __init__(self, beta_h, beta_sim):\n",
        "    self.beta_h = beta_h\n",
        "    self.beta_sim = beta_sim\n",
        "    self.name = \"similarity\"\n",
        "\n",
        "  def __call__(self, X):\n",
        "\n",
        "    # calculate actual value\n",
        "    v_ih = X@self.beta_h\n",
        "\n",
        "    # calculate perference vector\n",
        "    pref_vec = X.max(axis=0) - X.min(axis=0)\n",
        "\n",
        "\n",
        "    # project on the ortogonal hyperplane\n",
        "    X_projected = np.zeros(X.shape)\n",
        "    projection_size = np.zeros(X.shape[0])\n",
        "\n",
        "    for i in range(X.shape[0]):\n",
        "        X_projected[i, :] = X[i,:] -  (X[i,:].dot(pref_vec) / np.linalg.norm(pref_vec)) * pref_vec\n",
        "\n",
        "    # find min distance on projected\n",
        "\n",
        "    distances = np.zeros((X_projected.shape[0], X_projected.shape[0]))\n",
        "\n",
        "    for i in range(X_projected.shape[0]): # could be optimized (cal half mat etc..)\n",
        "      for j in range(X_projected.shape[0]):\n",
        "        distances[i,j] = np.linalg.norm(X_projected[i,:] - X_projected[j,:])\n",
        "\n",
        "    # avoide i == j\n",
        "    distances = distances + np.eye(distances.shape[0])*distances.max()\n",
        "\n",
        "    min_distances = distances.min(axis=1) # go over columns\n",
        "\n",
        "    return v_ih + self.beta_sim*min_distances\n",
        "\n",
        "  def choice(self, X):\n",
        "    return np.argmax(self(X))\n",
        "\n",
        "\n",
        "class CompromiseUserModel(UserModel):\n",
        "\n",
        "  def __init__(self, beta_h, beta_com):\n",
        "    self.beta_h = beta_h\n",
        "    self.beta_com = beta_com\n",
        "    self.name = 'compromise'\n",
        "\n",
        "  def __call__(self, X):\n",
        "\n",
        "    # calculate rational value\n",
        "    v_ih = X@self.beta_h\n",
        "    # calculate compromise value\n",
        "    X_com = (X.max(axis=0) + X.min(axis=0)) / 2\n",
        "\n",
        "    # pairwise distance between rows of X and X_com\n",
        "    d_im = np.zeros(X.shape[0])\n",
        "    for i in range(X.shape[0]):\n",
        "        d_im[i] = np.linalg.norm(X[i,:] - X_com)\n",
        "\n",
        "    return v_ih + -d_im*self.beta_com\n",
        "\n",
        "  def x_user_choice_positions(self, X):\n",
        "    return np.argmax(self(X), axis=0)"
      ]
    },
    {
      "cell_type": "code",
      "execution_count": 4,
      "metadata": {
        "cellView": "form",
        "id": "lu5DuUQDP0-a"
      },
      "outputs": [],
      "source": [
        "#@title Context Environment\n",
        "\n",
        "Counter = 0\n",
        "\n",
        "class DiscreteChoiceEnvironment:\n",
        "    \"\"\"\n",
        "    Generic class for discrete-choice dataset generation\n",
        "    \"\"\"\n",
        "    n_features = 8\n",
        "    observations_per_user = 10\n",
        "    items_per_slate = 1\n",
        "    train_user_proportion = 0.6\n",
        "\n",
        "\n",
        "    def _generate_user_item_attributes(self, n_users):\n",
        "        \"\"\"\n",
        "        Generate latent parameters for users and items.\n",
        "\n",
        "        Parameters\n",
        "        ----------\n",
        "        n_users : int\n",
        "\n",
        "        Output\n",
        "        ------\n",
        "        users : ndarray of shape (n_users, n_features)\n",
        "        items : ndarray of shape\n",
        "                (n_users, observations_per_user, items_per_slate, n_features)\n",
        "        \"\"\"\n",
        "        users = np.random.normal(\n",
        "            size=(\n",
        "                n_users,\n",
        "                self.n_features,\n",
        "            ),\n",
        "        )\n",
        "        items = np.random.normal(\n",
        "            size=(\n",
        "                n_users,\n",
        "                self.observations_per_user,\n",
        "                self.items_per_slate,\n",
        "                self.n_features,\n",
        "            ),\n",
        "        )\n",
        "        return users, items\n",
        "\n",
        "    def _choice(self, users, items):\n",
        "        \"\"\"\n",
        "        Discrete choice function\n",
        "\n",
        "        Parameters\n",
        "        ----------\n",
        "        users : ndarray of shape (n_users, n_features)\n",
        "        items : ndarray of shape\n",
        "                (n_users, observations_per_user, items_per_slate, n_features)\n",
        "\n",
        "        Output\n",
        "        ------\n",
        "        choice : Dict[str -> ndarray of shape(n_users, observations_per_user)]\n",
        "        \"\"\"\n",
        "        raise NotImplementedError\n",
        "\n",
        "    def _generate_choice_dataset(self, n_users):\n",
        "        \"\"\"\n",
        "        Generate choice dataset, formatted as pandas dataframe.\n",
        "        \"\"\"\n",
        "        users, items = self._generate_user_item_attributes(n_users)\n",
        "        choice_dct = self._choice(users, items)\n",
        "        rows = []\n",
        "        for i in range(n_users):\n",
        "            for j in range(self.observations_per_user):\n",
        "                dct = {}\n",
        "                dct['user_id'] = f'{i}'\n",
        "                dct['slate_id'] = f'{i}_{j}'\n",
        "                for k in range(self.items_per_slate):\n",
        "                    for l in range(self.n_features):\n",
        "                        dct[f'x_{k},{l}'] = items[i,j,k,l]\n",
        "                for choice_type, choice_matrix in choice_dct.items():\n",
        "                    dct[choice_type] = choice_matrix[i,j]\n",
        "                rows.append(dct)\n",
        "        df = pd.DataFrame(rows)\n",
        "        return df\n",
        "\n",
        "    def generate_datasets(self, n_users):\n",
        "        n_train_users = int(n_users*self.train_user_proportion)\n",
        "        n_test_users = n_users - n_train_users\n",
        "        return (\n",
        "            self._generate_choice_dataset(n_train_users),\n",
        "            self._generate_choice_dataset(n_test_users),\n",
        "        )\n",
        "\n",
        "\n",
        "class ContextChoiceEnvironment(DiscreteChoiceEnvironment):\n",
        "    \"\"\"\n",
        "    Dataset generator for binary choice with decision noise\n",
        "    \"\"\"\n",
        "    def __init__(self,\n",
        "                 slate_number=3,\n",
        "                 observations_per_user=50,\n",
        "                 num_items_omega=15):\n",
        "\n",
        "        # self.noise_scale = noise_scale\n",
        "        user_model = AttractionUserModel(\n",
        "        beta_h=np.array([1,9]),\n",
        "          alpha_attr=3,\n",
        "      )\n",
        "\n",
        "        self.total_item_count = 0\n",
        "        self.user_model = user_model\n",
        "        self.slate_number = slate_number\n",
        "        self.observations_per_user = observations_per_user\n",
        "        self._generate_ex1_items(slate_number=slate_number,\n",
        "                                 num_items_omega=num_items_omega)\n",
        "        self.Counter = 0\n",
        "\n",
        "\n",
        "    def _generate_ex1_items(self, slate_number=3, num_items_omega=15):\n",
        "      if slate_number == 1:\n",
        "        self.omega = np.array([[1,3,3,4,10,4,2],[1,7.5,5,4,5,6,1]])\n",
        "        self.E_s = np.array([10, 20, 80, 40, 30, 80, 100])\n",
        "        self.omega_tag = np.array([[4,2.5,4.5],[4.5,6,5]])\n",
        "        self.E_s_tag = np.array([5, 8, 3])\n",
        "\n",
        "      elif slate_number == 2:\n",
        "        self.omega = np.array([[3,8,8.5,4,10,8,2, 1],[8,7,4,4,5,6,1, 8]])\n",
        "        self.E_s = np.array([10, 90, 30, 50, 30, 40,100,90])\n",
        "\n",
        "        self.omega_tag = np.array([[4,3,4.5,6],[8,6,5,6]])\n",
        "        self.E_s_tag = np.array([5, 8, 3, 9])\n",
        "\n",
        "      else:\n",
        "        np.random.seed(24)\n",
        "        num_items_omega = 15\n",
        "        self.omega, self.omega_tag = list(), list()\n",
        "        self.E_s, self.E_s_tag = list(), list()\n",
        "\n",
        "        for i in range(self.observations_per_user):\n",
        "          self.omega.append(np.hstack([np.zeros((num_items_omega, 1)),\n",
        "                                        np.ones((num_items_omega, 1))*i,\n",
        "                                        np.random.randint(\n",
        "                                            20,size=(num_items_omega,2)),\n",
        "                                       np.random.randint(\n",
        "                                           20,100,size=(num_items_omega,1))\n",
        "                                        ]\n",
        "                                       )\n",
        "          )\n",
        "\n",
        "          self.omega_tag.append(np.hstack([np.zeros((100, 1)),\n",
        "                              np.ones((100, 1))*i,\n",
        "                              np.random.randint(\n",
        "                                  20,size=(100,2)),\n",
        "                              np.random.randint(20,size=(100,1))\n",
        "                              ]\n",
        "                              )\n",
        "          )\n",
        "\n",
        "        self.omega = np.vstack(self.omega).T\n",
        "        self.omega_tag = np.vstack(self.omega_tag).T\n",
        "        self._items_to_frame(self.omega,self.E_s, data_name=\"Omega\")\n",
        "        self._items_to_frame(self.omega_tag, self.E_s_tag, ord('I'),\n",
        "                                     data_name=\"Omega_tag\")\n",
        "\n",
        "      return\n",
        "\n",
        "    def _items_to_frame(self, omega, E_s, char_start=ord('A'), data_name=\"Omega\"):\n",
        "\n",
        "        data = pd.DataFrame(omega.T).reset_index()\n",
        "        data['index'] += self.total_item_count\n",
        "        self.total_item_count += len(data)\n",
        "        data.rename(columns={'index':'item_id'}, inplace=True)\n",
        "        # data.set_index('item_id', inplace=True)\n",
        "\n",
        "        if len(data) < self.observations_per_user:\n",
        "          data['user_id'] = np.zeros(len(data))\n",
        "          data['slate_id'] = np.zeros(len(data))\n",
        "          data['rational_user_val'] = omega.T@\\\n",
        "                            self.user_model.rational_utility_weights\n",
        "          data[\"E_s\"] = E_s\n",
        "\n",
        "        else:\n",
        "          data['rational_user_val'] = data.loc[:,[2,3]].values@\\\n",
        "                  self.user_model.rational_utility_weights\n",
        "\n",
        "          data.rename(columns={0:'user_id', 1:'slate_id',\n",
        "                               2:'x_0', 3:'x_1', 4:'E_s'},\n",
        "                      inplace=True)\n",
        "\n",
        "        data['name'] = 'itm_' + data['item_id'].astype(str)\n",
        "        # 'N/A' #data['index'].apply(lambda x: chr(char_start+x))\n",
        "\n",
        "        if data_name == \"Omega\":\n",
        "          self.omega_df = data\n",
        "        else:\n",
        "          self.omega_tag_df = data\n",
        "\n",
        "        return data\n",
        "\n",
        "    def generate_slate_data_set(self, slate_id):\n",
        "\n",
        "          # data = self.omega_df.loc[self.omega_df.slate_id == slate_id].reset_index().drop(columns=[\"level_0\"])\n",
        "          # data = self.omega_df.loc[self.omega_df.slate_id == slate_id]\n",
        "          data = self.omega_df.query('slate_id==@slate_id').copy()\n",
        "\n",
        "          # self.top_5 = data.rational_user_val.argsort()[-5:][::-1]\n",
        "          self.top_5 = data.rational_user_val.sort_values(ascending=False).iloc[:5].index\n",
        "          # data['top_5'] = data['index'].apply(lambda x: int(x) in self.top_5.values)\n",
        "          data['perceived_val'] = np.nan\n",
        "          feature_cols = [col for col in data.columns if col.startswith('x')]\n",
        "          data.loc[self.top_5, ['perceived_val']] = self.user_model(\n",
        "              data.loc[self.top_5, feature_cols].values)\n",
        "          data = self._choice(data)\n",
        "\n",
        "          return data\n",
        "\n",
        "\n",
        "    def inspect_data(self, items_type=\"current\", slate_id=-1):\n",
        "      if items_type == \"current\":\n",
        "        data = self.omega_df\n",
        "      elif items_type == \"tag\":\n",
        "        data = self.omega_tag_df\n",
        "\n",
        "\n",
        "      # if items_type == \"current\":\n",
        "      #   data =  self._items_to_frame(self.omega,self.E_s, data_name=\"Omega\")\n",
        "      # elif items_type == \"tag\":\n",
        "      #   data =  self._items_to_frame(self.omega_tag, self.E_s_tag, ord('A') + len(self.E_s),\n",
        "      #                                data_name=\"Omega_tag\")\n",
        "      if slate_id == -1:\n",
        "        return data\n",
        "      else:\n",
        "        return data.loc[data.slate_id == slate_id]\n",
        "\n",
        "\n",
        "    def generate_datasets(self, slate_id=-1):\n",
        "      self.Counter = self.Counter + 1\n",
        "      data = pd.DataFrame(self.omega.T).reset_index()\n",
        "\n",
        "      if len(data) < self.observations_per_user:\n",
        "        data['user_id'] = np.zeros(len(data))\n",
        "        data['slate_id'] = np.zeros(len(data))\n",
        "        # data['name'] = #data['index'].apply(lambda x: chr(ord('A')+x))\n",
        "        data['name'] = 'itm_' + data['item_id'].astype(str)\n",
        "        data['rational_user_val'] = self.omega.T@\\\n",
        "                                    self.user_model.rational_utility_weights\n",
        "        # self.top_5 = data.rational_user_val.argsort()[-5:][::-1]\n",
        "        self.top_5 = data.rational_user_val.sort_values(ascending=False).iloc[:5].index\n",
        "        print(self.top_5)\n",
        "        data['top_5'] = data['index'].apply(lambda x: x.index in self.top_5)\n",
        "        data['perceived_val'] = np.nan\n",
        "        data.loc[self.top_5, ['perceived_val']] = self.user_model(data.loc[self.top_5, [0,1]].values)\n",
        "        res = self._choice(data)\n",
        "\n",
        "      else:\n",
        "        # if slate_id != -1:\n",
        "        res = self.generate_slate_data_set(slate_id)\n",
        "\n",
        "      return res\n",
        "\n",
        "    def _choice(self, data, chosen='chosen'):\n",
        "        # dummies = pd.get_dummies(data.index)\n",
        "        # for name, group in grouped:\n",
        "        self.chosen = data['perceived_val'].astype(float).idxmax()\n",
        "        # data[chosen] = dummies.loc[data['perceived_val'].astype(float).idxmax(), :]\n",
        "        data[chosen] = (data['perceived_val'] == data['perceived_val'].max()).astype(int)\n",
        "        return data\n",
        "\n",
        "    def add_item(self, item_id):\n",
        "      assert (self.omega_tag_df.item_id==item_id).any(), f'Item {item_id} not in omega_tag'\n",
        "      assert (self.omega_df.item_id!=item_id).all(), f'Item {item_id} already in omega'\n",
        "      item = self.omega_tag_df.loc[self.omega_tag_df[\"item_id\"] == item_id].copy()\n",
        "      self.omega_df = pd.concat([\n",
        "          self.omega_df,\n",
        "          item,\n",
        "      ])\n",
        "\n",
        "      self.omega_df = self.omega_df.set_index(['item_id']).reset_index()\n",
        "\n",
        "    def drop_item(self, item_id):\n",
        "      assert (self.omega_df.item_id==item_id).any(), f'Item {item_id} not in omega'\n",
        "      # item_slate = self.omega_df.loc[self.omega_df.item_id == item_id].slate_id.iloc[0]\n",
        "      # item_index = self.omega_df.loc[self.omega_df.item_id == item_id].index\n",
        "      # self.omega_df.drop(index = item_id, inplace=True)\n",
        "      self.omega_df = self.omega_df.query('item_id != @item_id')\n",
        "\n",
        "    def top_5_idx(self, rational_user_val):\n",
        "      return rational_user_val.sort_values(ascending=False).iloc[:5].index\n"
      ]
    },
    {
      "cell_type": "code",
      "execution_count": 5,
      "metadata": {
        "cellView": "form",
        "id": "wEiPh6v9awBQ"
      },
      "outputs": [],
      "source": [
        "#@title Train Context Environment\n",
        "\n",
        "class TrainContextChoiceEnvironment(DiscreteChoiceEnvironment):\n",
        "    \"\"\"\n",
        "    Dataset generator for binary choice with decision noise\n",
        "    \"\"\"\n",
        "    def __init__(self,\n",
        "                 observations_per_user=500,\n",
        "                 num_items=7,\n",
        "                 num_features=5):\n",
        "\n",
        "        self.user_models = {\n",
        "            'Attraction' : AttractionUserModel( np.arange(num_features),100),\n",
        "            'Compromise' : CompromiseUserModel(np.arange(num_features), 100),\n",
        "            'Similarity' : SimilarityUserModel(np.arange(num_features), 100),\n",
        "            'Rational' : RationalUserModel(np.arange(num_features)),\n",
        "            }\n",
        "\n",
        "        self.observations_per_user = observations_per_user\n",
        "        self.items_per_slate = num_items\n",
        "        self.n_features = num_features\n",
        "        self._generate_user_item_attributes(1)\n",
        "\n",
        "    def generate_datasets(self, num_features=5, num_items=7):\n",
        "\n",
        "          # df_train, df_test = list(), list()\n",
        "          # num_slates = self.omega_df.slate_id.nunique()\n",
        "          # train_slates = int(0.8*num_slates)\n",
        "\n",
        "          # for slate in range(train_slates):\n",
        "          #   df_train.append(self.generate_slate_data_set(slate))\n",
        "\n",
        "          # for slate in range(train_slates, num_slates):\n",
        "          #   df_test.append(self.generate_slate_data_set(slate))\n",
        "          # train_data = pd.concat(df_train).drop(columns=['name', 'index',])\n",
        "          # test_data = pd.concat(df_test)\n",
        "\n",
        "          # train_label = train_data['chosen']\n",
        "          # test_label = test_data['chosen']\n",
        "          self.items_per_slate = num_items\n",
        "          self.num_features = num_features\n",
        "\n",
        "          train_slates = int(0.8*self.observations_per_user)\n",
        "          train_data, y_train = self._generate_choice_dataset(num_features=num_features,\n",
        "                                                     num_slates=train_slates,\n",
        "                                                      num_items=num_items)\n",
        "\n",
        "          test_slates = self.observations_per_user - train_slates\n",
        "          test_data, y_test = self._generate_choice_dataset(num_features=num_features,\n",
        "                                                    num_slates=test_slates,\n",
        "                                                    num_items=num_items)\n",
        "\n",
        "\n",
        "\n",
        "          return train_data, test_data, y_train, y_test\n",
        "\n",
        "\n",
        "    def _choice(self, data):\n",
        "        dummies = pd.get_dummies(range(len(data)))\n",
        "        chosen = dummies[data.astype(float).argmax()]\n",
        "        return chosen\n",
        "\n",
        "    def _generate_choice_dataset(self, num_features=5, num_slates=500, num_items=7):\n",
        "        \"\"\"\n",
        "        Generate choice dataset, formatted as pandas dataframe.\n",
        "        \"\"\"\n",
        "        _, items = self._generate_user_item_attributes(0)\n",
        "\n",
        "\n",
        "        y_train = {name:[] for name,user in self.user_models.items()}\n",
        "        train = list()\n",
        "        for i in range(num_slates):\n",
        "            train.append(np.hstack(\n",
        "                      [np.ones((num_items, 1))*i, # slate_id\n",
        "                      np.random.normal(size=(num_items,num_features)), # data\n",
        "                                                    ]))\n",
        "            for name, user in self.user_models.items():\n",
        "              y_train[name].append(self._choice(user(train[-1][:,1:])))\n",
        "\n",
        "        feature_names = [f'x_{i}' for i in range(num_features)]\n",
        "        col_names = ['slate_id'] + feature_names\n",
        "        train_df = pd.DataFrame(np.vstack(train),\n",
        "                                columns=col_names)\n",
        "\n",
        "        for name, choices in y_train.items():\n",
        "          train_df[name] = np.hstack(choices)\n",
        "\n",
        "        train_data = train_df[col_names]#.drop(columns=['slate_id'])\n",
        "        y = train_df[list(y_train.keys()) + ['slate_id']]\n",
        "        return train_data, y\n",
        "\n",
        "    def mean_welfare(self, X):\n",
        "      return (X@np.arange(self.num_features)).mean()\n",
        "\n",
        "\n",
        "\n",
        "\n",
        "# enV2 = TrainContextChoiceEnvironment(num_features=5, num_items=7)\n",
        "# enV2.generate_datasets(num_features=5, num_items=7)\n",
        "\n",
        "# add slate id to label, see which entry is value before doing so"
      ]
    },
    {
      "cell_type": "markdown",
      "metadata": {
        "id": "n88hPyADw5G-"
      },
      "source": [
        "# Task 1: Engineering Choice Sets\n",
        "\n",
        "In this section, we build on the framework introduced in $HW2$ and construct sets of available items that cause (non-rational) users to choose items that are bad for them (i.e., have suboptimal value), but good for the system. In particular, users in this task will be susceptible to the *Attraction* context effect, and the way you construct the set of items should make use of this knowledge.\n",
        "\n",
        "#### Here is a **reminder** for $HW2$ settings:\n",
        "\n",
        "----------------------------------------\n",
        "\n",
        "**Recommendation procedure:**\n",
        "1. The collection of available items is the *ground set* $\\Omega=\\{x_1,...,x_n\\}$ ($n$ may be different in different parts of this task). Each item $x \\in s$ is described by two features, $x=(x_1, x_2)$.\n",
        "2. There is a single user whose (true) value function is $v(x)=\\alpha^\\top x$. I.e., if the user chooses item $x_i$, then she receives $\\alpha_1\\cdot x_{i1} + \\alpha_2\\cdot x_{i2}$ utility from this choice. **The value vector $\\alpha$ is known to the system**.\n",
        "3. System also benefits from user choices. If the user chooses item $x_i$, then the system receives $e_i$ utility. The values $e_i$ are predetermined, known to the system, and do not depend on features.\n",
        "4. The system recommends to the user the top-5 items $x\\in \\Omega$ having highest value. We will call this the *choice set*, denoted $s \\in \\Omega$.\n",
        "5. The user chooses exactly one item $x \\in s$. This is the item with highest *perceived value*, as determined by the attraction effect:\n",
        "$$\n",
        "  \\tilde{v}(x|s) = \\alpha^\\top x + \\mathtt{att}(x|s)\n",
        "$$\n",
        "where $\\mathtt{att}$ is as was defined in class. We will denote the chosen item by $y = \\mathtt{argmax}_{x \\in s} \\tilde{v}(x|s)$.\n",
        "6. User receives utility $v(y)$, and system receives utility $e_y$.\n",
        "\n",
        "----------------------------------------\n",
        "\n",
        "In the above description, the system recommends in a way that is optimal to users. In this task, *you are an agent of the system*, and your goal is to maximize the system's utility.\n",
        "\n",
        "Of course, you cannot simply force the user to choose a certain item, nor can you change the recommendation procedure. The only thing you are allowed to do is to modify $\\Omega$ by adding one additional item from a different set of items, $\\Omega'$. Once $\\Omega$ is modified (i.e., includes one additional item), the recommendation procedure and user choice behavior is as described above.\n",
        "Hence, your goal is to (manually) choose $x \\in \\Omega$ such that the choice $y$ derived from a top-5 recommended set $s$ based on the collection of items $\\Omega \\cup \\{x\\}$ will results in high system utility $e_y$ (and possibly with lower utility $v(y)$ to the user).\n",
        "\n",
        "As you will see, items in  $\\Omega'$ actually have lower system values $e_i$ than items in $\\Omega$ ($\\forall e \\in E_S, e' \\in E_S':  e > e'$). Therefore, the item you add will serve as a *decoy*: these serve to modify the preceived values of items in $s$, in a way that utilizes the attraction effect to affect choice behavior."
      ]
    },
    {
      "cell_type": "markdown",
      "metadata": {
        "id": "P_hmjC2K_qJz"
      },
      "source": [
        "\n",
        "\n",
        "**In this section, you will write a simple algorithm that automatically finds the optimal item in $\\Omega'$ to add to $\\Omega$ in order to maximize system utility.**\n",
        "\n"
      ]
    },
    {
      "cell_type": "markdown",
      "metadata": {
        "id": "CaXWuJlT_BUY"
      },
      "source": [
        "### 1.1 Warm up\n",
        "\n",
        "Here we explore with useful functions of ```ContextChoiceEnvironment```.\n",
        "\n",
        "Note that user parameters are:\n",
        "\\begin{align}\n",
        "\\alpha_1 = 1, \\alpha_2 = 9\n",
        "\\end{align}\n",
        "\n"
      ]
    },
    {
      "cell_type": "code",
      "execution_count": 6,
      "metadata": {
        "id": "wPW5i4PLBBQd"
      },
      "outputs": [],
      "source": [
        "env = ContextChoiceEnvironment()"
      ]
    },
    {
      "cell_type": "markdown",
      "metadata": {
        "id": "Nosb0jvXBmLZ"
      },
      "source": [
        "Use ```inspect_data``` to view $Ω$ and $Ω'$ (using \"current\" and \"tag\" inputs strings). Note that this time the data contains multiple slates\n",
        "\n"
      ]
    },
    {
      "cell_type": "code",
      "execution_count": 7,
      "metadata": {
        "id": "tyQ9Al4iFvKC"
      },
      "outputs": [
        {
          "data": {
            "text/html": [
              "<div>\n",
              "<style scoped>\n",
              "    .dataframe tbody tr th:only-of-type {\n",
              "        vertical-align: middle;\n",
              "    }\n",
              "\n",
              "    .dataframe tbody tr th {\n",
              "        vertical-align: top;\n",
              "    }\n",
              "\n",
              "    .dataframe thead th {\n",
              "        text-align: right;\n",
              "    }\n",
              "</style>\n",
              "<table border=\"1\" class=\"dataframe\">\n",
              "  <thead>\n",
              "    <tr style=\"text-align: right;\">\n",
              "      <th></th>\n",
              "      <th>item_id</th>\n",
              "      <th>user_id</th>\n",
              "      <th>slate_id</th>\n",
              "      <th>x_0</th>\n",
              "      <th>x_1</th>\n",
              "      <th>E_s</th>\n",
              "      <th>rational_user_val</th>\n",
              "      <th>name</th>\n",
              "    </tr>\n",
              "  </thead>\n",
              "  <tbody>\n",
              "    <tr>\n",
              "      <th>0</th>\n",
              "      <td>0</td>\n",
              "      <td>0.0</td>\n",
              "      <td>0.0</td>\n",
              "      <td>2.0</td>\n",
              "      <td>3.0</td>\n",
              "      <td>66.0</td>\n",
              "      <td>29.0</td>\n",
              "      <td>itm_0</td>\n",
              "    </tr>\n",
              "    <tr>\n",
              "      <th>1</th>\n",
              "      <td>1</td>\n",
              "      <td>0.0</td>\n",
              "      <td>0.0</td>\n",
              "      <td>0.0</td>\n",
              "      <td>17.0</td>\n",
              "      <td>85.0</td>\n",
              "      <td>153.0</td>\n",
              "      <td>itm_1</td>\n",
              "    </tr>\n",
              "    <tr>\n",
              "      <th>2</th>\n",
              "      <td>2</td>\n",
              "      <td>0.0</td>\n",
              "      <td>0.0</td>\n",
              "      <td>17.0</td>\n",
              "      <td>1.0</td>\n",
              "      <td>67.0</td>\n",
              "      <td>26.0</td>\n",
              "      <td>itm_2</td>\n",
              "    </tr>\n",
              "    <tr>\n",
              "      <th>3</th>\n",
              "      <td>3</td>\n",
              "      <td>0.0</td>\n",
              "      <td>0.0</td>\n",
              "      <td>4.0</td>\n",
              "      <td>15.0</td>\n",
              "      <td>94.0</td>\n",
              "      <td>139.0</td>\n",
              "      <td>itm_3</td>\n",
              "    </tr>\n",
              "    <tr>\n",
              "      <th>4</th>\n",
              "      <td>4</td>\n",
              "      <td>0.0</td>\n",
              "      <td>0.0</td>\n",
              "      <td>4.0</td>\n",
              "      <td>15.0</td>\n",
              "      <td>55.0</td>\n",
              "      <td>139.0</td>\n",
              "      <td>itm_4</td>\n",
              "    </tr>\n",
              "    <tr>\n",
              "      <th>...</th>\n",
              "      <td>...</td>\n",
              "      <td>...</td>\n",
              "      <td>...</td>\n",
              "      <td>...</td>\n",
              "      <td>...</td>\n",
              "      <td>...</td>\n",
              "      <td>...</td>\n",
              "      <td>...</td>\n",
              "    </tr>\n",
              "    <tr>\n",
              "      <th>745</th>\n",
              "      <td>745</td>\n",
              "      <td>0.0</td>\n",
              "      <td>49.0</td>\n",
              "      <td>9.0</td>\n",
              "      <td>14.0</td>\n",
              "      <td>47.0</td>\n",
              "      <td>135.0</td>\n",
              "      <td>itm_745</td>\n",
              "    </tr>\n",
              "    <tr>\n",
              "      <th>746</th>\n",
              "      <td>746</td>\n",
              "      <td>0.0</td>\n",
              "      <td>49.0</td>\n",
              "      <td>12.0</td>\n",
              "      <td>6.0</td>\n",
              "      <td>67.0</td>\n",
              "      <td>66.0</td>\n",
              "      <td>itm_746</td>\n",
              "    </tr>\n",
              "    <tr>\n",
              "      <th>747</th>\n",
              "      <td>747</td>\n",
              "      <td>0.0</td>\n",
              "      <td>49.0</td>\n",
              "      <td>3.0</td>\n",
              "      <td>10.0</td>\n",
              "      <td>31.0</td>\n",
              "      <td>93.0</td>\n",
              "      <td>itm_747</td>\n",
              "    </tr>\n",
              "    <tr>\n",
              "      <th>748</th>\n",
              "      <td>748</td>\n",
              "      <td>0.0</td>\n",
              "      <td>49.0</td>\n",
              "      <td>6.0</td>\n",
              "      <td>10.0</td>\n",
              "      <td>97.0</td>\n",
              "      <td>96.0</td>\n",
              "      <td>itm_748</td>\n",
              "    </tr>\n",
              "    <tr>\n",
              "      <th>749</th>\n",
              "      <td>749</td>\n",
              "      <td>0.0</td>\n",
              "      <td>49.0</td>\n",
              "      <td>10.0</td>\n",
              "      <td>4.0</td>\n",
              "      <td>91.0</td>\n",
              "      <td>46.0</td>\n",
              "      <td>itm_749</td>\n",
              "    </tr>\n",
              "  </tbody>\n",
              "</table>\n",
              "<p>750 rows × 8 columns</p>\n",
              "</div>"
            ],
            "text/plain": [
              "     item_id  user_id  slate_id   x_0   x_1   E_s  rational_user_val     name\n",
              "0          0      0.0       0.0   2.0   3.0  66.0               29.0    itm_0\n",
              "1          1      0.0       0.0   0.0  17.0  85.0              153.0    itm_1\n",
              "2          2      0.0       0.0  17.0   1.0  67.0               26.0    itm_2\n",
              "3          3      0.0       0.0   4.0  15.0  94.0              139.0    itm_3\n",
              "4          4      0.0       0.0   4.0  15.0  55.0              139.0    itm_4\n",
              "..       ...      ...       ...   ...   ...   ...                ...      ...\n",
              "745      745      0.0      49.0   9.0  14.0  47.0              135.0  itm_745\n",
              "746      746      0.0      49.0  12.0   6.0  67.0               66.0  itm_746\n",
              "747      747      0.0      49.0   3.0  10.0  31.0               93.0  itm_747\n",
              "748      748      0.0      49.0   6.0  10.0  97.0               96.0  itm_748\n",
              "749      749      0.0      49.0  10.0   4.0  91.0               46.0  itm_749\n",
              "\n",
              "[750 rows x 8 columns]"
            ]
          },
          "execution_count": 7,
          "metadata": {},
          "output_type": "execute_result"
        }
      ],
      "source": [
        "env.inspect_data(\"current\")"
      ]
    },
    {
      "cell_type": "code",
      "execution_count": 8,
      "metadata": {
        "id": "oH6VUnu0F1xl"
      },
      "outputs": [
        {
          "data": {
            "text/html": [
              "<div>\n",
              "<style scoped>\n",
              "    .dataframe tbody tr th:only-of-type {\n",
              "        vertical-align: middle;\n",
              "    }\n",
              "\n",
              "    .dataframe tbody tr th {\n",
              "        vertical-align: top;\n",
              "    }\n",
              "\n",
              "    .dataframe thead th {\n",
              "        text-align: right;\n",
              "    }\n",
              "</style>\n",
              "<table border=\"1\" class=\"dataframe\">\n",
              "  <thead>\n",
              "    <tr style=\"text-align: right;\">\n",
              "      <th></th>\n",
              "      <th>item_id</th>\n",
              "      <th>user_id</th>\n",
              "      <th>slate_id</th>\n",
              "      <th>x_0</th>\n",
              "      <th>x_1</th>\n",
              "      <th>E_s</th>\n",
              "      <th>rational_user_val</th>\n",
              "      <th>name</th>\n",
              "    </tr>\n",
              "  </thead>\n",
              "  <tbody>\n",
              "    <tr>\n",
              "      <th>0</th>\n",
              "      <td>750</td>\n",
              "      <td>0.0</td>\n",
              "      <td>0.0</td>\n",
              "      <td>7.0</td>\n",
              "      <td>5.0</td>\n",
              "      <td>11.0</td>\n",
              "      <td>52.0</td>\n",
              "      <td>itm_750</td>\n",
              "    </tr>\n",
              "    <tr>\n",
              "      <th>1</th>\n",
              "      <td>751</td>\n",
              "      <td>0.0</td>\n",
              "      <td>0.0</td>\n",
              "      <td>19.0</td>\n",
              "      <td>10.0</td>\n",
              "      <td>10.0</td>\n",
              "      <td>109.0</td>\n",
              "      <td>itm_751</td>\n",
              "    </tr>\n",
              "    <tr>\n",
              "      <th>2</th>\n",
              "      <td>752</td>\n",
              "      <td>0.0</td>\n",
              "      <td>0.0</td>\n",
              "      <td>9.0</td>\n",
              "      <td>0.0</td>\n",
              "      <td>3.0</td>\n",
              "      <td>9.0</td>\n",
              "      <td>itm_752</td>\n",
              "    </tr>\n",
              "    <tr>\n",
              "      <th>3</th>\n",
              "      <td>753</td>\n",
              "      <td>0.0</td>\n",
              "      <td>0.0</td>\n",
              "      <td>14.0</td>\n",
              "      <td>2.0</td>\n",
              "      <td>14.0</td>\n",
              "      <td>32.0</td>\n",
              "      <td>itm_753</td>\n",
              "    </tr>\n",
              "    <tr>\n",
              "      <th>4</th>\n",
              "      <td>754</td>\n",
              "      <td>0.0</td>\n",
              "      <td>0.0</td>\n",
              "      <td>11.0</td>\n",
              "      <td>4.0</td>\n",
              "      <td>6.0</td>\n",
              "      <td>47.0</td>\n",
              "      <td>itm_754</td>\n",
              "    </tr>\n",
              "    <tr>\n",
              "      <th>...</th>\n",
              "      <td>...</td>\n",
              "      <td>...</td>\n",
              "      <td>...</td>\n",
              "      <td>...</td>\n",
              "      <td>...</td>\n",
              "      <td>...</td>\n",
              "      <td>...</td>\n",
              "      <td>...</td>\n",
              "    </tr>\n",
              "    <tr>\n",
              "      <th>4995</th>\n",
              "      <td>5745</td>\n",
              "      <td>0.0</td>\n",
              "      <td>49.0</td>\n",
              "      <td>13.0</td>\n",
              "      <td>18.0</td>\n",
              "      <td>8.0</td>\n",
              "      <td>175.0</td>\n",
              "      <td>itm_5745</td>\n",
              "    </tr>\n",
              "    <tr>\n",
              "      <th>4996</th>\n",
              "      <td>5746</td>\n",
              "      <td>0.0</td>\n",
              "      <td>49.0</td>\n",
              "      <td>17.0</td>\n",
              "      <td>3.0</td>\n",
              "      <td>19.0</td>\n",
              "      <td>44.0</td>\n",
              "      <td>itm_5746</td>\n",
              "    </tr>\n",
              "    <tr>\n",
              "      <th>4997</th>\n",
              "      <td>5747</td>\n",
              "      <td>0.0</td>\n",
              "      <td>49.0</td>\n",
              "      <td>17.0</td>\n",
              "      <td>1.0</td>\n",
              "      <td>13.0</td>\n",
              "      <td>26.0</td>\n",
              "      <td>itm_5747</td>\n",
              "    </tr>\n",
              "    <tr>\n",
              "      <th>4998</th>\n",
              "      <td>5748</td>\n",
              "      <td>0.0</td>\n",
              "      <td>49.0</td>\n",
              "      <td>14.0</td>\n",
              "      <td>17.0</td>\n",
              "      <td>19.0</td>\n",
              "      <td>167.0</td>\n",
              "      <td>itm_5748</td>\n",
              "    </tr>\n",
              "    <tr>\n",
              "      <th>4999</th>\n",
              "      <td>5749</td>\n",
              "      <td>0.0</td>\n",
              "      <td>49.0</td>\n",
              "      <td>10.0</td>\n",
              "      <td>0.0</td>\n",
              "      <td>10.0</td>\n",
              "      <td>10.0</td>\n",
              "      <td>itm_5749</td>\n",
              "    </tr>\n",
              "  </tbody>\n",
              "</table>\n",
              "<p>5000 rows × 8 columns</p>\n",
              "</div>"
            ],
            "text/plain": [
              "      item_id  user_id  slate_id   x_0   x_1   E_s  rational_user_val  \\\n",
              "0         750      0.0       0.0   7.0   5.0  11.0               52.0   \n",
              "1         751      0.0       0.0  19.0  10.0  10.0              109.0   \n",
              "2         752      0.0       0.0   9.0   0.0   3.0                9.0   \n",
              "3         753      0.0       0.0  14.0   2.0  14.0               32.0   \n",
              "4         754      0.0       0.0  11.0   4.0   6.0               47.0   \n",
              "...       ...      ...       ...   ...   ...   ...                ...   \n",
              "4995     5745      0.0      49.0  13.0  18.0   8.0              175.0   \n",
              "4996     5746      0.0      49.0  17.0   3.0  19.0               44.0   \n",
              "4997     5747      0.0      49.0  17.0   1.0  13.0               26.0   \n",
              "4998     5748      0.0      49.0  14.0  17.0  19.0              167.0   \n",
              "4999     5749      0.0      49.0  10.0   0.0  10.0               10.0   \n",
              "\n",
              "          name  \n",
              "0      itm_750  \n",
              "1      itm_751  \n",
              "2      itm_752  \n",
              "3      itm_753  \n",
              "4      itm_754  \n",
              "...        ...  \n",
              "4995  itm_5745  \n",
              "4996  itm_5746  \n",
              "4997  itm_5747  \n",
              "4998  itm_5748  \n",
              "4999  itm_5749  \n",
              "\n",
              "[5000 rows x 8 columns]"
            ]
          },
          "execution_count": 8,
          "metadata": {},
          "output_type": "execute_result"
        }
      ],
      "source": [
        "env.inspect_data(\"tag\")"
      ]
    },
    {
      "cell_type": "markdown",
      "metadata": {
        "id": "uppYAQXwJSbW"
      },
      "source": [
        "The following method are used to add and pop items from $Ω$:\n",
        "*  Method ```env.add_item(item_id=i)``` is used to add an item from $Ω'$ to $Ω$ according to its index at $Ω'$ (as in $HW2$).\n",
        "\n",
        "*   Method ```env.drop_item(item_id=i)``` is used to drop item i from $Ω$.\n",
        "\n",
        "Both return none.\n",
        "\n",
        "Use these to add item with item_id 750 from $Ω'$'s slate_id==0 and add it to $Ω$'s slate_id==0.\n",
        "Then remove this item from $Ω$'s slate_id==0.\n",
        "Print DataFrame at each stage using ```inspect_data``` fuction with ```slate_id=0```:\n"
      ]
    },
    {
      "cell_type": "code",
      "execution_count": 9,
      "metadata": {
        "id": "go1pbqX3LXlR"
      },
      "outputs": [
        {
          "data": {
            "text/html": [
              "<div>\n",
              "<style scoped>\n",
              "    .dataframe tbody tr th:only-of-type {\n",
              "        vertical-align: middle;\n",
              "    }\n",
              "\n",
              "    .dataframe tbody tr th {\n",
              "        vertical-align: top;\n",
              "    }\n",
              "\n",
              "    .dataframe thead th {\n",
              "        text-align: right;\n",
              "    }\n",
              "</style>\n",
              "<table border=\"1\" class=\"dataframe\">\n",
              "  <thead>\n",
              "    <tr style=\"text-align: right;\">\n",
              "      <th></th>\n",
              "      <th>item_id</th>\n",
              "      <th>user_id</th>\n",
              "      <th>slate_id</th>\n",
              "      <th>x_0</th>\n",
              "      <th>x_1</th>\n",
              "      <th>E_s</th>\n",
              "      <th>rational_user_val</th>\n",
              "      <th>name</th>\n",
              "    </tr>\n",
              "  </thead>\n",
              "  <tbody>\n",
              "    <tr>\n",
              "      <th>0</th>\n",
              "      <td>0</td>\n",
              "      <td>0.0</td>\n",
              "      <td>0.0</td>\n",
              "      <td>2.0</td>\n",
              "      <td>3.0</td>\n",
              "      <td>66.0</td>\n",
              "      <td>29.0</td>\n",
              "      <td>itm_0</td>\n",
              "    </tr>\n",
              "    <tr>\n",
              "      <th>1</th>\n",
              "      <td>1</td>\n",
              "      <td>0.0</td>\n",
              "      <td>0.0</td>\n",
              "      <td>0.0</td>\n",
              "      <td>17.0</td>\n",
              "      <td>85.0</td>\n",
              "      <td>153.0</td>\n",
              "      <td>itm_1</td>\n",
              "    </tr>\n",
              "    <tr>\n",
              "      <th>2</th>\n",
              "      <td>2</td>\n",
              "      <td>0.0</td>\n",
              "      <td>0.0</td>\n",
              "      <td>17.0</td>\n",
              "      <td>1.0</td>\n",
              "      <td>67.0</td>\n",
              "      <td>26.0</td>\n",
              "      <td>itm_2</td>\n",
              "    </tr>\n",
              "    <tr>\n",
              "      <th>3</th>\n",
              "      <td>3</td>\n",
              "      <td>0.0</td>\n",
              "      <td>0.0</td>\n",
              "      <td>4.0</td>\n",
              "      <td>15.0</td>\n",
              "      <td>94.0</td>\n",
              "      <td>139.0</td>\n",
              "      <td>itm_3</td>\n",
              "    </tr>\n",
              "    <tr>\n",
              "      <th>4</th>\n",
              "      <td>4</td>\n",
              "      <td>0.0</td>\n",
              "      <td>0.0</td>\n",
              "      <td>4.0</td>\n",
              "      <td>15.0</td>\n",
              "      <td>55.0</td>\n",
              "      <td>139.0</td>\n",
              "      <td>itm_4</td>\n",
              "    </tr>\n",
              "    <tr>\n",
              "      <th>5</th>\n",
              "      <td>5</td>\n",
              "      <td>0.0</td>\n",
              "      <td>0.0</td>\n",
              "      <td>3.0</td>\n",
              "      <td>18.0</td>\n",
              "      <td>84.0</td>\n",
              "      <td>165.0</td>\n",
              "      <td>itm_5</td>\n",
              "    </tr>\n",
              "    <tr>\n",
              "      <th>6</th>\n",
              "      <td>6</td>\n",
              "      <td>0.0</td>\n",
              "      <td>0.0</td>\n",
              "      <td>11.0</td>\n",
              "      <td>3.0</td>\n",
              "      <td>47.0</td>\n",
              "      <td>38.0</td>\n",
              "      <td>itm_6</td>\n",
              "    </tr>\n",
              "    <tr>\n",
              "      <th>7</th>\n",
              "      <td>7</td>\n",
              "      <td>0.0</td>\n",
              "      <td>0.0</td>\n",
              "      <td>19.0</td>\n",
              "      <td>15.0</td>\n",
              "      <td>53.0</td>\n",
              "      <td>154.0</td>\n",
              "      <td>itm_7</td>\n",
              "    </tr>\n",
              "    <tr>\n",
              "      <th>8</th>\n",
              "      <td>8</td>\n",
              "      <td>0.0</td>\n",
              "      <td>0.0</td>\n",
              "      <td>7.0</td>\n",
              "      <td>9.0</td>\n",
              "      <td>23.0</td>\n",
              "      <td>88.0</td>\n",
              "      <td>itm_8</td>\n",
              "    </tr>\n",
              "    <tr>\n",
              "      <th>9</th>\n",
              "      <td>9</td>\n",
              "      <td>0.0</td>\n",
              "      <td>0.0</td>\n",
              "      <td>18.0</td>\n",
              "      <td>7.0</td>\n",
              "      <td>24.0</td>\n",
              "      <td>81.0</td>\n",
              "      <td>itm_9</td>\n",
              "    </tr>\n",
              "    <tr>\n",
              "      <th>10</th>\n",
              "      <td>10</td>\n",
              "      <td>0.0</td>\n",
              "      <td>0.0</td>\n",
              "      <td>3.0</td>\n",
              "      <td>13.0</td>\n",
              "      <td>85.0</td>\n",
              "      <td>120.0</td>\n",
              "      <td>itm_10</td>\n",
              "    </tr>\n",
              "    <tr>\n",
              "      <th>11</th>\n",
              "      <td>11</td>\n",
              "      <td>0.0</td>\n",
              "      <td>0.0</td>\n",
              "      <td>0.0</td>\n",
              "      <td>12.0</td>\n",
              "      <td>30.0</td>\n",
              "      <td>108.0</td>\n",
              "      <td>itm_11</td>\n",
              "    </tr>\n",
              "    <tr>\n",
              "      <th>12</th>\n",
              "      <td>12</td>\n",
              "      <td>0.0</td>\n",
              "      <td>0.0</td>\n",
              "      <td>1.0</td>\n",
              "      <td>1.0</td>\n",
              "      <td>61.0</td>\n",
              "      <td>10.0</td>\n",
              "      <td>itm_12</td>\n",
              "    </tr>\n",
              "    <tr>\n",
              "      <th>13</th>\n",
              "      <td>13</td>\n",
              "      <td>0.0</td>\n",
              "      <td>0.0</td>\n",
              "      <td>6.0</td>\n",
              "      <td>1.0</td>\n",
              "      <td>76.0</td>\n",
              "      <td>15.0</td>\n",
              "      <td>itm_13</td>\n",
              "    </tr>\n",
              "    <tr>\n",
              "      <th>14</th>\n",
              "      <td>14</td>\n",
              "      <td>0.0</td>\n",
              "      <td>0.0</td>\n",
              "      <td>17.0</td>\n",
              "      <td>6.0</td>\n",
              "      <td>65.0</td>\n",
              "      <td>71.0</td>\n",
              "      <td>itm_14</td>\n",
              "    </tr>\n",
              "    <tr>\n",
              "      <th>750</th>\n",
              "      <td>750</td>\n",
              "      <td>0.0</td>\n",
              "      <td>0.0</td>\n",
              "      <td>7.0</td>\n",
              "      <td>5.0</td>\n",
              "      <td>11.0</td>\n",
              "      <td>52.0</td>\n",
              "      <td>itm_750</td>\n",
              "    </tr>\n",
              "  </tbody>\n",
              "</table>\n",
              "</div>"
            ],
            "text/plain": [
              "     item_id  user_id  slate_id   x_0   x_1   E_s  rational_user_val     name\n",
              "0          0      0.0       0.0   2.0   3.0  66.0               29.0    itm_0\n",
              "1          1      0.0       0.0   0.0  17.0  85.0              153.0    itm_1\n",
              "2          2      0.0       0.0  17.0   1.0  67.0               26.0    itm_2\n",
              "3          3      0.0       0.0   4.0  15.0  94.0              139.0    itm_3\n",
              "4          4      0.0       0.0   4.0  15.0  55.0              139.0    itm_4\n",
              "5          5      0.0       0.0   3.0  18.0  84.0              165.0    itm_5\n",
              "6          6      0.0       0.0  11.0   3.0  47.0               38.0    itm_6\n",
              "7          7      0.0       0.0  19.0  15.0  53.0              154.0    itm_7\n",
              "8          8      0.0       0.0   7.0   9.0  23.0               88.0    itm_8\n",
              "9          9      0.0       0.0  18.0   7.0  24.0               81.0    itm_9\n",
              "10        10      0.0       0.0   3.0  13.0  85.0              120.0   itm_10\n",
              "11        11      0.0       0.0   0.0  12.0  30.0              108.0   itm_11\n",
              "12        12      0.0       0.0   1.0   1.0  61.0               10.0   itm_12\n",
              "13        13      0.0       0.0   6.0   1.0  76.0               15.0   itm_13\n",
              "14        14      0.0       0.0  17.0   6.0  65.0               71.0   itm_14\n",
              "750      750      0.0       0.0   7.0   5.0  11.0               52.0  itm_750"
            ]
          },
          "execution_count": 9,
          "metadata": {},
          "output_type": "execute_result"
        }
      ],
      "source": [
        "## YOUR SOLUTION\n",
        "env.add_item(item_id=750)\n",
        "env.inspect_data(slate_id=0)"
      ]
    },
    {
      "cell_type": "code",
      "execution_count": 10,
      "metadata": {
        "id": "9IcoNv0iLrqi"
      },
      "outputs": [
        {
          "name": "stdout",
          "output_type": "stream",
          "text": [
            "    item_id  user_id  slate_id   x_0   x_1   E_s  rational_user_val    name\n",
            "0         0      0.0       0.0   2.0   3.0  66.0               29.0   itm_0\n",
            "1         1      0.0       0.0   0.0  17.0  85.0              153.0   itm_1\n",
            "2         2      0.0       0.0  17.0   1.0  67.0               26.0   itm_2\n",
            "3         3      0.0       0.0   4.0  15.0  94.0              139.0   itm_3\n",
            "4         4      0.0       0.0   4.0  15.0  55.0              139.0   itm_4\n",
            "5         5      0.0       0.0   3.0  18.0  84.0              165.0   itm_5\n",
            "6         6      0.0       0.0  11.0   3.0  47.0               38.0   itm_6\n",
            "7         7      0.0       0.0  19.0  15.0  53.0              154.0   itm_7\n",
            "8         8      0.0       0.0   7.0   9.0  23.0               88.0   itm_8\n",
            "9         9      0.0       0.0  18.0   7.0  24.0               81.0   itm_9\n",
            "10       10      0.0       0.0   3.0  13.0  85.0              120.0  itm_10\n",
            "11       11      0.0       0.0   0.0  12.0  30.0              108.0  itm_11\n",
            "12       12      0.0       0.0   1.0   1.0  61.0               10.0  itm_12\n",
            "13       13      0.0       0.0   6.0   1.0  76.0               15.0  itm_13\n",
            "14       14      0.0       0.0  17.0   6.0  65.0               71.0  itm_14\n",
            "[ 0  1  2  3  4  5  6  7  8  9 10 11 12 13 14]\n"
          ]
        }
      ],
      "source": [
        "## YOUR SOLUTION\n",
        "env.drop_item(item_id=750)\n",
        "print(env.inspect_data(slate_id=0))\n",
        "print(env.inspect_data(slate_id=0)[\"item_id\"].values)"
      ]
    },
    {
      "cell_type": "markdown",
      "metadata": {
        "id": "Q5-irQKzNQGC"
      },
      "source": [
        "Similarlty to $HW2$, method ```env.generate_datasets``` generates a DataFrame indicating whether an item in $Ω$ is selected to Top 5 and displayed to the user, its precieved value, and the final choice by the user.\n",
        "Now that we work with multiple slates we will provide **slate_id** as input.\n",
        "\n",
        "Use ```generate_datasets``` to print such dataframe for slate 0:"
      ]
    },
    {
      "cell_type": "code",
      "execution_count": 11,
      "metadata": {
        "id": "xIk5bHx_NQ1U"
      },
      "outputs": [],
      "source": [
        "## YOUR SOLUTION\n",
        "df_slate_0 = env.generate_datasets(slate_id=0)"
      ]
    },
    {
      "cell_type": "code",
      "execution_count": 12,
      "metadata": {},
      "outputs": [
        {
          "name": "stdout",
          "output_type": "stream",
          "text": [
            "    item_id  user_id  slate_id   x_0   x_1   E_s  rational_user_val    name  \\\n",
            "0         0      0.0       0.0   2.0   3.0  66.0               29.0   itm_0   \n",
            "1         1      0.0       0.0   0.0  17.0  85.0              153.0   itm_1   \n",
            "2         2      0.0       0.0  17.0   1.0  67.0               26.0   itm_2   \n",
            "3         3      0.0       0.0   4.0  15.0  94.0              139.0   itm_3   \n",
            "4         4      0.0       0.0   4.0  15.0  55.0              139.0   itm_4   \n",
            "5         5      0.0       0.0   3.0  18.0  84.0              165.0   itm_5   \n",
            "6         6      0.0       0.0  11.0   3.0  47.0               38.0   itm_6   \n",
            "7         7      0.0       0.0  19.0  15.0  53.0              154.0   itm_7   \n",
            "8         8      0.0       0.0   7.0   9.0  23.0               88.0   itm_8   \n",
            "9         9      0.0       0.0  18.0   7.0  24.0               81.0   itm_9   \n",
            "10       10      0.0       0.0   3.0  13.0  85.0              120.0  itm_10   \n",
            "11       11      0.0       0.0   0.0  12.0  30.0              108.0  itm_11   \n",
            "12       12      0.0       0.0   1.0   1.0  61.0               10.0  itm_12   \n",
            "13       13      0.0       0.0   6.0   1.0  76.0               15.0  itm_13   \n",
            "14       14      0.0       0.0  17.0   6.0  65.0               71.0  itm_14   \n",
            "\n",
            "    perceived_val  chosen  \n",
            "0             NaN       0  \n",
            "1      143.642246       0  \n",
            "2             NaN       0  \n",
            "3       94.550667       0  \n",
            "4       94.550667       0  \n",
            "5      174.357754       0  \n",
            "6             NaN       0  \n",
            "7      242.898667       1  \n",
            "8             NaN       0  \n",
            "9             NaN       0  \n",
            "10            NaN       0  \n",
            "11            NaN       0  \n",
            "12            NaN       0  \n",
            "13            NaN       0  \n",
            "14            NaN       0  \n"
          ]
        }
      ],
      "source": [
        "print(df_slate_0)"
      ]
    },
    {
      "cell_type": "markdown",
      "metadata": {
        "id": "NnE0b9OqF4tz"
      },
      "source": [
        "Environment's method ```env.top_5_idx``` gets rational user values of a specific slate as input, and outputs the indices of the top 5 items. Those items will be displayed to the user.\n",
        "\n",
        "Use this method to print the indices of the items selected from $Ω$'s slate_id=0:\n",
        "\n",
        "\n"
      ]
    },
    {
      "cell_type": "code",
      "execution_count": 13,
      "metadata": {
        "id": "2vMpD2iXImGS"
      },
      "outputs": [
        {
          "data": {
            "text/plain": [
              "Index([5, 7, 1, 3, 4], dtype='int64')"
            ]
          },
          "execution_count": 13,
          "metadata": {},
          "output_type": "execute_result"
        }
      ],
      "source": [
        "## YOUR SOLUTION\n",
        "env.top_5_idx(df_slate_0[\"rational_user_val\"])"
      ]
    },
    {
      "cell_type": "markdown",
      "metadata": {
        "id": "1rTsYERm5en-"
      },
      "source": [
        "Write a procedure that checks for each item in $\\Omega'$ whether it would have been included in the top 5 if added to its respective slate.\n",
        "\n",
        "Output a DataFrame with `item_id` and a boolean column named `is_top_5`.(`True` will be included in top 5)\n"
      ]
    },
    {
      "cell_type": "code",
      "execution_count": 14,
      "metadata": {
        "id": "gEMsqg687UMu"
      },
      "outputs": [
        {
          "name": "stdout",
          "output_type": "stream",
          "text": [
            "      index  is_top_5\n",
            "0       750     False\n",
            "1       751     False\n",
            "2       752     False\n",
            "3       753     False\n",
            "4       754     False\n",
            "...     ...       ...\n",
            "4995   5745      True\n",
            "4996   5746     False\n",
            "4997   5747     False\n",
            "4998   5748      True\n",
            "4999   5749     False\n",
            "\n",
            "[5000 rows x 2 columns]\n",
            "is_top_5\n",
            "False    3507\n",
            "True     1493\n",
            "Name: count, dtype: int64\n"
          ]
        }
      ],
      "source": [
        "## YOUR SOLUTION\n",
        "# df = {'index': [], 'is_top_5': []}\n",
        "df = []\n",
        "for slate_id in env.inspect_data(\"tag\")[\"slate_id\"].unique():\n",
        "  df_for_slate = env.generate_slate_data_set(slate_id)\n",
        "  top_5 = env.top_5_idx(df_for_slate[\"rational_user_val\"])\n",
        "  lowest_val = df_for_slate.loc[top_5, \"rational_user_val\"].min()\n",
        "  for item_idx in env.inspect_data(\"tag\", slate_id=slate_id)[\"item_id\"]:\n",
        "    is_top_5 = (env.inspect_data(\"tag\").loc[env.inspect_data(\"tag\")[\"item_id\"] == item_idx, \"rational_user_val\"] > lowest_val).iloc[0]\n",
        "    df.append({\"index\": item_idx, \"is_top_5\": is_top_5})\n",
        "df = pd.DataFrame(df)\n",
        "print(df)\n",
        "print(df[\"is_top_5\"].value_counts())\n",
        "  "
      ]
    },
    {
      "cell_type": "markdown",
      "metadata": {
        "id": "TYNis0cJEdhG"
      },
      "source": [
        "## 1.2 Automate Choice Set Selection\n",
        "\n",
        "### 1.2.1 Algorithm (Open Ended)\n",
        "\n",
        "Now - write a simple algorithm that automatically finds the optimal item in  Ω′  to add to  Ω  in order to maximize system utility. Note: it may decide not to add an item if there is no benefit to the system.\n",
        "\n",
        "In particular, your algorithm recieves as input:\n",
        "* Two sets of items, $\\Omega,\\Omega'$, where each is a 2D numpy array of sizes $(n,2)$ and $(n',2)$ ($n,n'$ can vary)\n",
        "* Corresponding system utilities $e_{\\Omega}, e_{\\Omega'}$, each a numpy array of sizes $n$ and $n'$\n",
        "\n",
        "The algorithm should output:\n",
        "* The index in $\\Omega'$ of the item you wish to add to $\\Omega$ per slate.\n",
        "* The utility of the system after adding this item.\n",
        "\n",
        "We will give you a collection of 50 example inputs to your algorithm (that is, 50 sets of $(\\Omega,\\Omega')$ pairs) with $n=15, n'=100$. Write code that applies your algorithm to each of these 50 inputs, and **prints the added items and their corresponding system utilities.**\n",
        "\n",
        "**Limitations**:\n",
        "You may call generate_datasets *up to 300 times* overall. We are looking for clever heuristics. Write efficient code!"
      ]
    },
    {
      "cell_type": "markdown",
      "metadata": {
        "id": "Ggqta9VsizfP"
      },
      "source": [
        "**Bonus:** We will have a competition between submited algorithms. We will run your code on a fresh batch of inputs - the two teams achieving the highest system utility will get 5 bonus points for this exercise.\n",
        "\n",
        "**WORK ON THIS BONUS ONLY AFTER YOU'VE COMPLETED THE ENTIRE WORKSHOP.**"
      ]
    },
    {
      "cell_type": "code",
      "execution_count": 15,
      "metadata": {
        "id": "5Y6IMXziyxcc"
      },
      "outputs": [],
      "source": [
        "# Input - reset environment\n",
        "env = ContextChoiceEnvironment()\n",
        "\n"
      ]
    },
    {
      "cell_type": "code",
      "execution_count": 16,
      "metadata": {},
      "outputs": [
        {
          "data": {
            "text/html": [
              "<div>\n",
              "<style scoped>\n",
              "    .dataframe tbody tr th:only-of-type {\n",
              "        vertical-align: middle;\n",
              "    }\n",
              "\n",
              "    .dataframe tbody tr th {\n",
              "        vertical-align: top;\n",
              "    }\n",
              "\n",
              "    .dataframe thead th {\n",
              "        text-align: right;\n",
              "    }\n",
              "</style>\n",
              "<table border=\"1\" class=\"dataframe\">\n",
              "  <thead>\n",
              "    <tr style=\"text-align: right;\">\n",
              "      <th></th>\n",
              "      <th>index</th>\n",
              "      <th>is_top_5</th>\n",
              "    </tr>\n",
              "  </thead>\n",
              "  <tbody>\n",
              "    <tr>\n",
              "      <th>0</th>\n",
              "      <td>750</td>\n",
              "      <td>False</td>\n",
              "    </tr>\n",
              "    <tr>\n",
              "      <th>1</th>\n",
              "      <td>751</td>\n",
              "      <td>False</td>\n",
              "    </tr>\n",
              "    <tr>\n",
              "      <th>2</th>\n",
              "      <td>752</td>\n",
              "      <td>False</td>\n",
              "    </tr>\n",
              "    <tr>\n",
              "      <th>3</th>\n",
              "      <td>753</td>\n",
              "      <td>False</td>\n",
              "    </tr>\n",
              "    <tr>\n",
              "      <th>4</th>\n",
              "      <td>754</td>\n",
              "      <td>False</td>\n",
              "    </tr>\n",
              "    <tr>\n",
              "      <th>...</th>\n",
              "      <td>...</td>\n",
              "      <td>...</td>\n",
              "    </tr>\n",
              "    <tr>\n",
              "      <th>4995</th>\n",
              "      <td>5745</td>\n",
              "      <td>True</td>\n",
              "    </tr>\n",
              "    <tr>\n",
              "      <th>4996</th>\n",
              "      <td>5746</td>\n",
              "      <td>False</td>\n",
              "    </tr>\n",
              "    <tr>\n",
              "      <th>4997</th>\n",
              "      <td>5747</td>\n",
              "      <td>False</td>\n",
              "    </tr>\n",
              "    <tr>\n",
              "      <th>4998</th>\n",
              "      <td>5748</td>\n",
              "      <td>True</td>\n",
              "    </tr>\n",
              "    <tr>\n",
              "      <th>4999</th>\n",
              "      <td>5749</td>\n",
              "      <td>False</td>\n",
              "    </tr>\n",
              "  </tbody>\n",
              "</table>\n",
              "<p>5000 rows × 2 columns</p>\n",
              "</div>"
            ],
            "text/plain": [
              "      index  is_top_5\n",
              "0       750     False\n",
              "1       751     False\n",
              "2       752     False\n",
              "3       753     False\n",
              "4       754     False\n",
              "...     ...       ...\n",
              "4995   5745      True\n",
              "4996   5746     False\n",
              "4997   5747     False\n",
              "4998   5748      True\n",
              "4999   5749     False\n",
              "\n",
              "[5000 rows x 2 columns]"
            ]
          },
          "execution_count": 16,
          "metadata": {},
          "output_type": "execute_result"
        }
      ],
      "source": [
        "df"
      ]
    },
    {
      "cell_type": "markdown",
      "metadata": {
        "id": "JBWVHLcAngD-"
      },
      "source": [
        "First, calculate the originial system value from the items chosen by the user in Omega. Print it:"
      ]
    },
    {
      "cell_type": "code",
      "execution_count": 17,
      "metadata": {
        "id": "0QE80yiJngXK"
      },
      "outputs": [
        {
          "name": "stdout",
          "output_type": "stream",
          "text": [
            "2900.0\n"
          ]
        }
      ],
      "source": [
        "\n",
        "## YOUR SOLUTION\n",
        "system_val = 0\n",
        "df = {}\n",
        "for slate_id in env.inspect_data(\"tag\")[\"slate_id\"].unique():\n",
        "  df_for_slate = env.generate_slate_data_set(slate_id)\n",
        "  chosen_item_idx = df_for_slate[df_for_slate[\"chosen\"] == 1].index[0]\n",
        "  val = df_for_slate.loc[chosen_item_idx, \"E_s\"]\n",
        "  df[slate_id] = val\n",
        "  system_val += val\n",
        "\n",
        "print(system_val)"
      ]
    },
    {
      "cell_type": "markdown",
      "metadata": {
        "id": "Q7RO3MXFsWay"
      },
      "source": [
        "Each use of generate_dataset increase envriment counter"
      ]
    },
    {
      "cell_type": "code",
      "execution_count": 18,
      "metadata": {
        "id": "53_qTQ9BsQX_"
      },
      "outputs": [
        {
          "data": {
            "text/plain": [
              "0"
            ]
          },
          "execution_count": 18,
          "metadata": {},
          "output_type": "execute_result"
        }
      ],
      "source": [
        "env.Counter"
      ]
    },
    {
      "cell_type": "markdown",
      "metadata": {
        "id": "-eEscPWSngij"
      },
      "source": [
        "Write your own algorithm and print the new system value per slate.\n",
        "Note that you *may* use $\\Omega,\\Omega'$ dataframes as inputs (retable from `inspect_data`, `generate_datasets` etc).  "
      ]
    },
    {
      "cell_type": "code",
      "execution_count": 19,
      "metadata": {
        "id": "YveP6g8OjcUl"
      },
      "outputs": [],
      "source": [
        "# tag_data = env.inspect_data(\"tag\")\n",
        "# for item_id in tag_data[\"item_id\"]:\n",
        "#     if "
      ]
    },
    {
      "cell_type": "markdown",
      "metadata": {
        "id": "JJbbofInmDOA"
      },
      "source": [
        "Print the overall system value (sum of all slates)"
      ]
    },
    {
      "cell_type": "code",
      "execution_count": 20,
      "metadata": {
        "id": "Y8GuArpOuFWB"
      },
      "outputs": [],
      "source": [
        "## YOUR SOLUTION"
      ]
    },
    {
      "cell_type": "markdown",
      "metadata": {
        "id": "1j6aTCLNyzju"
      },
      "source": [
        "1.2.2 **Explain your algorithm.**\n",
        "\n",
        "What is the basic principle underlying your implementation? Explain how your approach utilizes the attraction effect.\n"
      ]
    },
    {
      "cell_type": "markdown",
      "metadata": {
        "id": "d0ZpMJ2rbKU3"
      },
      "source": [
        "\n",
        "\n",
        "```\n",
        "Answer: ...\n",
        "```\n",
        "\n"
      ]
    },
    {
      "cell_type": "markdown",
      "metadata": {
        "id": "CeSkJyqHH2_8"
      },
      "source": [
        "Given that you could not evalute all items in in $ֿ\\Omega'$ (restriction) - how did you prioritize evaluations?"
      ]
    },
    {
      "cell_type": "markdown",
      "metadata": {
        "id": "rGjd48CKbL6w"
      },
      "source": [
        "\n",
        "\n",
        "```\n",
        "Answer: ...\n",
        "```\n",
        "\n"
      ]
    },
    {
      "cell_type": "markdown",
      "metadata": {
        "id": "cXJn99fMRiLP"
      },
      "source": [
        "# Task 2: Prediction and IIA\n",
        "In this exercise you will examine the sensitivity of different predictive models to behavioral violations of IIA. We will use behavioral choice models to generate choice behavior that deviates from IIA in different ways. Then, we will evaluate the performance of predictive models trained on generated choice data."
      ]
    },
    {
      "cell_type": "markdown",
      "metadata": {
        "id": "lF2u7YAcS012"
      },
      "source": [
        "#### Behavioral Bias\n",
        "You will explore the model preformance for **Rational** users, but also for users who are subjected to following behavioral biases:\n",
        "**Similarity**, **Compromise**, and **Attraction**.\n",
        "In this task you will repeat the same learning pipeline for each of these users, and compare results.\n",
        "\n",
        "We adivse you refer to the context effect slides refersh you memory if needed:)\n"
      ]
    },
    {
      "cell_type": "markdown",
      "metadata": {
        "id": "p9b_CXi0Vv5Y"
      },
      "source": [
        "Objective utility is determined by rational user parameters $\\beta$:  $\\beta^T X$.\n",
        "\n",
        "Precived utility is a combination of objective utility and specific context effect:  $\\beta^T X + \\alpha \\cdot effect$\n",
        "\n",
        "All users share the paramters but differ in the manifested behavioral context effect."
      ]
    },
    {
      "cell_type": "markdown",
      "metadata": {
        "id": "OHkCxaD-JJYw"
      },
      "source": [
        "## 2.1 Enviroment\n",
        "Here we shall work with a new enviroment - ```TrainContextChoiceEnvironment```, which provides datasets, including items with different features, slate_id, along with choices made by the user above."
      ]
    },
    {
      "cell_type": "code",
      "execution_count": 21,
      "metadata": {
        "id": "WJsJj_Gc500C"
      },
      "outputs": [],
      "source": [
        "env2 = TrainContextChoiceEnvironment()"
      ]
    },
    {
      "cell_type": "markdown",
      "metadata": {
        "id": "ULFVAuAWWnSR"
      },
      "source": [
        "The method ```env2.generate_dataset``` generates train and test datasets along with their corresponding labels. It recives *num_futures* (# features per item) and *num_item* (# of items per slate. Outputs DaraFrame of the form: ```train_data, test_data, y_train, y_test```. Each output DataFrame contains *slate_id*.\n",
        "\n",
        "Create an environment object with 7 items per slate and 5 features for each item. Note the each choice column is a one-hot repersentation of the item selected per slate."
      ]
    },
    {
      "cell_type": "code",
      "execution_count": 22,
      "metadata": {
        "id": "2Xd6y-18fpWn"
      },
      "outputs": [],
      "source": [
        "X_train, X_test, y_train, y_test = env2.generate_datasets(num_features=5, num_items=7)"
      ]
    },
    {
      "cell_type": "markdown",
      "metadata": {
        "id": "7blSzIdlZN83"
      },
      "source": [
        "Inspect ```y_train```. Which items were selected by Rational and Compromise users from slate 0 in the train set?\n",
        "Print a slice of train data DataFrame that presents their features."
      ]
    },
    {
      "cell_type": "code",
      "execution_count": 23,
      "metadata": {},
      "outputs": [
        {
          "data": {
            "text/html": [
              "<div>\n",
              "<style scoped>\n",
              "    .dataframe tbody tr th:only-of-type {\n",
              "        vertical-align: middle;\n",
              "    }\n",
              "\n",
              "    .dataframe tbody tr th {\n",
              "        vertical-align: top;\n",
              "    }\n",
              "\n",
              "    .dataframe thead th {\n",
              "        text-align: right;\n",
              "    }\n",
              "</style>\n",
              "<table border=\"1\" class=\"dataframe\">\n",
              "  <thead>\n",
              "    <tr style=\"text-align: right;\">\n",
              "      <th></th>\n",
              "      <th>slate_id</th>\n",
              "      <th>x_0</th>\n",
              "      <th>x_1</th>\n",
              "      <th>x_2</th>\n",
              "      <th>x_3</th>\n",
              "      <th>x_4</th>\n",
              "    </tr>\n",
              "  </thead>\n",
              "  <tbody>\n",
              "    <tr>\n",
              "      <th>0</th>\n",
              "      <td>0.0</td>\n",
              "      <td>1.442373</td>\n",
              "      <td>0.742990</td>\n",
              "      <td>0.850494</td>\n",
              "      <td>0.352748</td>\n",
              "      <td>-0.488590</td>\n",
              "    </tr>\n",
              "    <tr>\n",
              "      <th>1</th>\n",
              "      <td>0.0</td>\n",
              "      <td>0.497462</td>\n",
              "      <td>0.105214</td>\n",
              "      <td>-0.632602</td>\n",
              "      <td>1.113703</td>\n",
              "      <td>-1.526718</td>\n",
              "    </tr>\n",
              "    <tr>\n",
              "      <th>2</th>\n",
              "      <td>0.0</td>\n",
              "      <td>-0.804556</td>\n",
              "      <td>0.071843</td>\n",
              "      <td>1.402521</td>\n",
              "      <td>-1.018384</td>\n",
              "      <td>0.479168</td>\n",
              "    </tr>\n",
              "    <tr>\n",
              "      <th>3</th>\n",
              "      <td>0.0</td>\n",
              "      <td>-1.371504</td>\n",
              "      <td>-1.343577</td>\n",
              "      <td>0.471091</td>\n",
              "      <td>-1.114371</td>\n",
              "      <td>0.206845</td>\n",
              "    </tr>\n",
              "    <tr>\n",
              "      <th>4</th>\n",
              "      <td>0.0</td>\n",
              "      <td>-0.146019</td>\n",
              "      <td>2.665473</td>\n",
              "      <td>1.200915</td>\n",
              "      <td>-0.699220</td>\n",
              "      <td>1.555636</td>\n",
              "    </tr>\n",
              "    <tr>\n",
              "      <th>...</th>\n",
              "      <td>...</td>\n",
              "      <td>...</td>\n",
              "      <td>...</td>\n",
              "      <td>...</td>\n",
              "      <td>...</td>\n",
              "      <td>...</td>\n",
              "    </tr>\n",
              "    <tr>\n",
              "      <th>2795</th>\n",
              "      <td>399.0</td>\n",
              "      <td>-2.324903</td>\n",
              "      <td>-0.282748</td>\n",
              "      <td>-0.946120</td>\n",
              "      <td>0.400646</td>\n",
              "      <td>-1.924285</td>\n",
              "    </tr>\n",
              "    <tr>\n",
              "      <th>2796</th>\n",
              "      <td>399.0</td>\n",
              "      <td>0.262771</td>\n",
              "      <td>0.687846</td>\n",
              "      <td>0.155324</td>\n",
              "      <td>-0.910848</td>\n",
              "      <td>-0.030976</td>\n",
              "    </tr>\n",
              "    <tr>\n",
              "      <th>2797</th>\n",
              "      <td>399.0</td>\n",
              "      <td>-0.020689</td>\n",
              "      <td>0.129020</td>\n",
              "      <td>1.731598</td>\n",
              "      <td>-0.415962</td>\n",
              "      <td>-0.289592</td>\n",
              "    </tr>\n",
              "    <tr>\n",
              "      <th>2798</th>\n",
              "      <td>399.0</td>\n",
              "      <td>1.562641</td>\n",
              "      <td>0.173945</td>\n",
              "      <td>1.309517</td>\n",
              "      <td>-0.050140</td>\n",
              "      <td>-0.405570</td>\n",
              "    </tr>\n",
              "    <tr>\n",
              "      <th>2799</th>\n",
              "      <td>399.0</td>\n",
              "      <td>1.304548</td>\n",
              "      <td>0.167246</td>\n",
              "      <td>-0.362504</td>\n",
              "      <td>-0.721800</td>\n",
              "      <td>1.189466</td>\n",
              "    </tr>\n",
              "  </tbody>\n",
              "</table>\n",
              "<p>2800 rows × 6 columns</p>\n",
              "</div>"
            ],
            "text/plain": [
              "      slate_id       x_0       x_1       x_2       x_3       x_4\n",
              "0          0.0  1.442373  0.742990  0.850494  0.352748 -0.488590\n",
              "1          0.0  0.497462  0.105214 -0.632602  1.113703 -1.526718\n",
              "2          0.0 -0.804556  0.071843  1.402521 -1.018384  0.479168\n",
              "3          0.0 -1.371504 -1.343577  0.471091 -1.114371  0.206845\n",
              "4          0.0 -0.146019  2.665473  1.200915 -0.699220  1.555636\n",
              "...        ...       ...       ...       ...       ...       ...\n",
              "2795     399.0 -2.324903 -0.282748 -0.946120  0.400646 -1.924285\n",
              "2796     399.0  0.262771  0.687846  0.155324 -0.910848 -0.030976\n",
              "2797     399.0 -0.020689  0.129020  1.731598 -0.415962 -0.289592\n",
              "2798     399.0  1.562641  0.173945  1.309517 -0.050140 -0.405570\n",
              "2799     399.0  1.304548  0.167246 -0.362504 -0.721800  1.189466\n",
              "\n",
              "[2800 rows x 6 columns]"
            ]
          },
          "execution_count": 23,
          "metadata": {},
          "output_type": "execute_result"
        }
      ],
      "source": [
        "X_train"
      ]
    },
    {
      "cell_type": "code",
      "execution_count": 24,
      "metadata": {
        "id": "m3Z2L-Rrb2Le"
      },
      "outputs": [],
      "source": [
        "idx_rational = y_train.loc[(y_train['slate_id'] == 0) & (y_train['Rational'] == True)].index[0]\n",
        "idx_compromise = y_train.loc[(y_train['slate_id'] == 0) & (y_train['Compromise'] == True)].index[0]\n"
      ]
    },
    {
      "cell_type": "code",
      "execution_count": 25,
      "metadata": {},
      "outputs": [
        {
          "name": "stdout",
          "output_type": "stream",
          "text": [
            "rational item is slate_id    0.000000\n",
            "x_0        -0.146019\n",
            "x_1         2.665473\n",
            "x_2         1.200915\n",
            "x_3        -0.699220\n",
            "x_4         1.555636\n",
            "Name: 4, dtype: float64\n",
            "compromise item is slate_id    0.000000\n",
            "x_0        -0.552461\n",
            "x_1         0.033183\n",
            "x_2         0.561884\n",
            "x_3        -0.169836\n",
            "x_4        -0.973976\n",
            "Name: 5, dtype: float64\n"
          ]
        }
      ],
      "source": [
        "X_train_slate_0 = X_train[X_train['slate_id'] == 0]\n",
        "print(f'rational item is {X_train_slate_0.iloc[idx_rational]}')\n",
        "print(f'compromise item is {X_train_slate_0.iloc[idx_compromise]}')"
      ]
    },
    {
      "cell_type": "markdown",
      "metadata": {
        "id": "cjzDIndZb2z7"
      },
      "source": [
        "\n",
        "Another ```TrainContextChoiceEnvironment```'s method is ```mean_welfare``` which gets as input features DataFrame or matrix [#items, #features] and calculates the mean welfare.\n",
        "\n",
        "Print the mean welfare of the entire trainset and the mean welfare of the trainset for items selected by Rational users.\n",
        "\n"
      ]
    },
    {
      "cell_type": "code",
      "execution_count": 26,
      "metadata": {
        "id": "vN2m2q7ijwP9"
      },
      "outputs": [
        {
          "name": "stdout",
          "output_type": "stream",
          "text": [
            "-0.20213136603995507\n"
          ]
        }
      ],
      "source": [
        "## YOUR SOLUTION\n",
        "X_train_copy = X_train.copy()\n",
        "X_train_copy = X_train_copy.drop(columns='slate_id')\n",
        "print(env2.mean_welfare(X_train_copy))"
      ]
    },
    {
      "cell_type": "code",
      "execution_count": 27,
      "metadata": {
        "id": "Usvnp0hKINvG"
      },
      "outputs": [
        {
          "name": "stdout",
          "output_type": "stream",
          "text": [
            "9.1921852690926\n"
          ]
        }
      ],
      "source": [
        "## YOUR SOLUTION\n",
        "idx_rationals = y_train.loc[y_train['Rational'] == True].index[0]\n",
        "X_train_copy = X_train_copy.iloc[idx_rational]\n",
        "print(env2.mean_welfare(X_train_copy))"
      ]
    },
    {
      "cell_type": "markdown",
      "metadata": {
        "id": "Kb2n9XdUzeCY"
      },
      "source": [
        "## 2.2 Train predictive models"
      ]
    },
    {
      "cell_type": "markdown",
      "metadata": {
        "id": "EDs0F1n6H3dk"
      },
      "source": [
        "In this section we will compare the performance of two predictive models:\n",
        "1. Logistic Regression, and\n",
        "2. the pairwise ranker you implemented at home\n",
        "(as was announced, you may choose the school-solution pairwise ranker instead, but we encourage you to try and work with your own implementation)."
      ]
    },
    {
      "cell_type": "markdown",
      "metadata": {
        "id": "z5nlL3ElX7Rf"
      },
      "source": [
        "2.2.1 For each user type (do this in a for loop over user types):\n",
        "* Train a logistic regression model, and evaluate its test performance using accuracy and precision functions.\n",
        "* Use the inputs generated above.\n",
        "\n",
        "You are encouraged to save the two preformance measures for each user type in a dictionary. This will be helpful in the next sections."
      ]
    },
    {
      "cell_type": "code",
      "execution_count": 28,
      "metadata": {},
      "outputs": [
        {
          "data": {
            "text/html": [
              "<div>\n",
              "<style scoped>\n",
              "    .dataframe tbody tr th:only-of-type {\n",
              "        vertical-align: middle;\n",
              "    }\n",
              "\n",
              "    .dataframe tbody tr th {\n",
              "        vertical-align: top;\n",
              "    }\n",
              "\n",
              "    .dataframe thead th {\n",
              "        text-align: right;\n",
              "    }\n",
              "</style>\n",
              "<table border=\"1\" class=\"dataframe\">\n",
              "  <thead>\n",
              "    <tr style=\"text-align: right;\">\n",
              "      <th></th>\n",
              "      <th>Attraction</th>\n",
              "      <th>Compromise</th>\n",
              "      <th>Similarity</th>\n",
              "      <th>Rational</th>\n",
              "      <th>slate_id</th>\n",
              "    </tr>\n",
              "  </thead>\n",
              "  <tbody>\n",
              "    <tr>\n",
              "      <th>0</th>\n",
              "      <td>False</td>\n",
              "      <td>False</td>\n",
              "      <td>False</td>\n",
              "      <td>False</td>\n",
              "      <td>0.0</td>\n",
              "    </tr>\n",
              "    <tr>\n",
              "      <th>1</th>\n",
              "      <td>False</td>\n",
              "      <td>False</td>\n",
              "      <td>False</td>\n",
              "      <td>False</td>\n",
              "      <td>0.0</td>\n",
              "    </tr>\n",
              "    <tr>\n",
              "      <th>2</th>\n",
              "      <td>False</td>\n",
              "      <td>False</td>\n",
              "      <td>False</td>\n",
              "      <td>False</td>\n",
              "      <td>0.0</td>\n",
              "    </tr>\n",
              "    <tr>\n",
              "      <th>3</th>\n",
              "      <td>False</td>\n",
              "      <td>False</td>\n",
              "      <td>False</td>\n",
              "      <td>False</td>\n",
              "      <td>0.0</td>\n",
              "    </tr>\n",
              "    <tr>\n",
              "      <th>4</th>\n",
              "      <td>True</td>\n",
              "      <td>False</td>\n",
              "      <td>True</td>\n",
              "      <td>True</td>\n",
              "      <td>0.0</td>\n",
              "    </tr>\n",
              "    <tr>\n",
              "      <th>...</th>\n",
              "      <td>...</td>\n",
              "      <td>...</td>\n",
              "      <td>...</td>\n",
              "      <td>...</td>\n",
              "      <td>...</td>\n",
              "    </tr>\n",
              "    <tr>\n",
              "      <th>2795</th>\n",
              "      <td>False</td>\n",
              "      <td>False</td>\n",
              "      <td>False</td>\n",
              "      <td>False</td>\n",
              "      <td>399.0</td>\n",
              "    </tr>\n",
              "    <tr>\n",
              "      <th>2796</th>\n",
              "      <td>False</td>\n",
              "      <td>False</td>\n",
              "      <td>False</td>\n",
              "      <td>False</td>\n",
              "      <td>399.0</td>\n",
              "    </tr>\n",
              "    <tr>\n",
              "      <th>2797</th>\n",
              "      <td>False</td>\n",
              "      <td>True</td>\n",
              "      <td>False</td>\n",
              "      <td>False</td>\n",
              "      <td>399.0</td>\n",
              "    </tr>\n",
              "    <tr>\n",
              "      <th>2798</th>\n",
              "      <td>False</td>\n",
              "      <td>False</td>\n",
              "      <td>False</td>\n",
              "      <td>False</td>\n",
              "      <td>399.0</td>\n",
              "    </tr>\n",
              "    <tr>\n",
              "      <th>2799</th>\n",
              "      <td>True</td>\n",
              "      <td>False</td>\n",
              "      <td>False</td>\n",
              "      <td>True</td>\n",
              "      <td>399.0</td>\n",
              "    </tr>\n",
              "  </tbody>\n",
              "</table>\n",
              "<p>2800 rows × 5 columns</p>\n",
              "</div>"
            ],
            "text/plain": [
              "      Attraction  Compromise  Similarity  Rational  slate_id\n",
              "0          False       False       False     False       0.0\n",
              "1          False       False       False     False       0.0\n",
              "2          False       False       False     False       0.0\n",
              "3          False       False       False     False       0.0\n",
              "4           True       False        True      True       0.0\n",
              "...          ...         ...         ...       ...       ...\n",
              "2795       False       False       False     False     399.0\n",
              "2796       False       False       False     False     399.0\n",
              "2797       False        True       False     False     399.0\n",
              "2798       False       False       False     False     399.0\n",
              "2799        True       False       False      True     399.0\n",
              "\n",
              "[2800 rows x 5 columns]"
            ]
          },
          "execution_count": 28,
          "metadata": {},
          "output_type": "execute_result"
        }
      ],
      "source": [
        "y_train"
      ]
    },
    {
      "cell_type": "code",
      "execution_count": 29,
      "metadata": {
        "id": "UGQVFsSrYP0M"
      },
      "outputs": [
        {
          "name": "stdout",
          "output_type": "stream",
          "text": [
            "{'Attraction': {'acc': 0.8828571428571429, 'precision': 0.8701733858100202}, 'Compromise': {'acc': 0.8571428571428571, 'precision': 0.7346938775510203}, 'Similarity': {'acc': 0.8571428571428571, 'precision': 0.7346938775510203}, 'Rational': {'acc': 0.9157142857142857, 'precision': 0.9128999079737995}}\n"
          ]
        },
        {
          "name": "stderr",
          "output_type": "stream",
          "text": [
            "/Users/arielshalem/miniconda3/envs/cs236781-hw2/lib/python3.8/site-packages/sklearn/metrics/_classification.py:1471: UndefinedMetricWarning: Precision is ill-defined and being set to 0.0 in labels with no predicted samples. Use `zero_division` parameter to control this behavior.\n",
            "  _warn_prf(average, modifier, msg_start, len(result))\n",
            "/Users/arielshalem/miniconda3/envs/cs236781-hw2/lib/python3.8/site-packages/sklearn/metrics/_classification.py:1471: UndefinedMetricWarning: Precision is ill-defined and being set to 0.0 in labels with no predicted samples. Use `zero_division` parameter to control this behavior.\n",
            "  _warn_prf(average, modifier, msg_start, len(result))\n"
          ]
        }
      ],
      "source": [
        "from sklearn.linear_model import LogisticRegression\n",
        "from sklearn.metrics import precision_score\n",
        "\n",
        "\n",
        "X_train_no_slate_id = X_train.copy().drop(columns='slate_id')\n",
        "y_train_no_slate_id = y_train.copy().drop(columns='slate_id')\n",
        "X_test_no_slate_id = X_test.copy().drop(columns='slate_id')\n",
        "y_test_no_slate_id = y_test.copy().drop(columns='slate_id')\n",
        "user_types = ['Attraction', 'Compromise', 'Similarity', 'Rational']\n",
        "user_types_to_performance = {user_type: {'acc': 0, 'precision':0} for user_type in user_types}\n",
        "for user_type in user_types: \n",
        "    model = LogisticRegression()\n",
        "    y_user_train = y_train_no_slate_id[user_type]\n",
        "    y_user_test = y_test_no_slate_id[user_type]\n",
        "    model.fit(X_train_no_slate_id, y_user_train)\n",
        "    acc = model.score(X_test_no_slate_id, y_user_test)\n",
        "    y_pred = model.predict(X_test_no_slate_id)\n",
        "    precision = precision_score(y_user_test, y_pred, average='weighted')\n",
        "    user_types_to_performance[user_type]['acc'] = acc\n",
        "    user_types_to_performance[user_type]['precision'] = precision\n",
        "\n",
        "print(user_types_to_performance)\n"
      ]
    },
    {
      "cell_type": "markdown",
      "metadata": {
        "id": "OwhRiQlNXeM4"
      },
      "source": [
        "2.2.2 Train your pairwise ranker. Repeat the above procedure.\n",
        "\n",
        "(make sure you use different named variables for performance measures, so they do not overwrite the Logistic regression results)"
      ]
    },
    {
      "cell_type": "code",
      "execution_count": 30,
      "metadata": {
        "id": "7iLneuL_r0_1"
      },
      "outputs": [],
      "source": [
        "# Fit & Predict\n",
        "\n",
        "from sklearn.svm import LinearSVC\n",
        "import numpy as np\n",
        "\n",
        "def transform_pairwise(X, y):\n",
        "    n = X.shape[0] // np.unique(X[:, 0]).shape[0]\n",
        "    s = X.shape[0] // n\n",
        "    q = X.shape[1]\n",
        "\n",
        "    f = lambda x: 1 if x == 1 else -1\n",
        "    y_new = np.random.randint(0, 2, y.shape[0] - s)\n",
        "    y_new = np.array(list(map(f, y_new)))\n",
        "\n",
        "    X_new = np.repeat(X[y[:,0]==1], repeats=n-1, axis=0) - X[y[:,0]==0]\n",
        "    X_new = np.multiply(X_new, np.repeat(y_new, repeats=q, axis=0).reshape(-1, q))\n",
        "\n",
        "    return X_new, y_new\n",
        "\n",
        "\n",
        "class RankSVM(LinearSVC):\n",
        "    def __init__(self, C=1.0, random_state=0):\n",
        "        super().__init__(C=C, random_state=random_state)\n",
        "\n",
        "    def fit(self, X, y):\n",
        "        X_new, y_new = transform_pairwise(X, y)\n",
        "        super().fit(X_new, y_new)\n",
        "        return self\n",
        "\n",
        "    def predict(self, X):\n",
        "        n = X.shape[0] // np.unique(X[:, 0]).shape[0]\n",
        "        s = X.shape[0] // n\n",
        "        q = X.shape[1]\n",
        "\n",
        "        decision_score = super().decision_function(X)\n",
        "        predications = []\n",
        "\n",
        "        for slated_id in range(s):\n",
        "            start = slated_id * n\n",
        "            end = start + n\n",
        "\n",
        "            predications_per_set = np.zeros(n)\n",
        "            max_score_index = np.argmax(decision_score[start:end])\n",
        "            predications_per_set[max_score_index] = 1\n",
        "\n",
        "            predications.append(predications_per_set)\n",
        "\n",
        "        return np.array(predications).reshape(-1)\n",
        "    \n",
        "\n",
        "## YOUR SOLUTION"
      ]
    },
    {
      "cell_type": "code",
      "execution_count": 31,
      "metadata": {},
      "outputs": [
        {
          "name": "stdout",
          "output_type": "stream",
          "text": [
            "(2800, 2)\n",
            "(700, 1)\n",
            "(2800, 2)\n",
            "(700, 1)\n",
            "(2800, 2)\n",
            "(700, 1)\n",
            "(2800, 2)\n",
            "(700, 1)\n",
            "{'Attraction': {'acc': 0.9171428571428571, 'precision': 0.9171428571428571}, 'Compromise': {'acc': 0.7257142857142858, 'precision': 0.7257142857142858}, 'Similarity': {'acc': 0.7771428571428571, 'precision': 0.7771428571428571}, 'Rational': {'acc': 1.0, 'precision': 1.0}}\n"
          ]
        },
        {
          "name": "stderr",
          "output_type": "stream",
          "text": [
            "/Users/arielshalem/miniconda3/envs/cs236781-hw2/lib/python3.8/site-packages/sklearn/svm/_classes.py:32: FutureWarning: The default value of `dual` will change from `True` to `'auto'` in 1.5. Set the value of `dual` explicitly to suppress the warning.\n",
            "  warnings.warn(\n",
            "/Users/arielshalem/miniconda3/envs/cs236781-hw2/lib/python3.8/site-packages/sklearn/svm/_classes.py:32: FutureWarning: The default value of `dual` will change from `True` to `'auto'` in 1.5. Set the value of `dual` explicitly to suppress the warning.\n",
            "  warnings.warn(\n",
            "/Users/arielshalem/miniconda3/envs/cs236781-hw2/lib/python3.8/site-packages/sklearn/svm/_classes.py:32: FutureWarning: The default value of `dual` will change from `True` to `'auto'` in 1.5. Set the value of `dual` explicitly to suppress the warning.\n",
            "  warnings.warn(\n",
            "/Users/arielshalem/miniconda3/envs/cs236781-hw2/lib/python3.8/site-packages/sklearn/svm/_classes.py:32: FutureWarning: The default value of `dual` will change from `True` to `'auto'` in 1.5. Set the value of `dual` explicitly to suppress the warning.\n",
            "  warnings.warn(\n"
          ]
        }
      ],
      "source": [
        "# using the RankSVM class to rank the items for each user type\n",
        "user_types_to_performance_ranker = {user_type: {'acc': 0, 'precision':0} for user_type in user_types}\n",
        "for i, user_type in enumerate(user_types): \n",
        "    \n",
        "    ranker = RankSVM()\n",
        "    y_user_train = y_train[[user_type, 'slate_id']].to_numpy()\n",
        "    # for slate_id make user type column to become fron [2800,2] to [400,1] - we have 400 slates\n",
        "    print(y_user_train.shape)\n",
        "    y_user_test = y_test[[user_type]].to_numpy()\n",
        "    print(y_user_test.shape)\n",
        "    ranker.fit(X_train.to_numpy(), y_user_train)\n",
        "    acc = ranker.score(X_test.to_numpy(), y_user_test)\n",
        "    y_pred = ranker.predict(X_test.to_numpy())\n",
        "    precision = precision_score(y_user_test, y_pred, average='weighted')\n",
        "    user_types_to_performance_ranker[user_type]['acc'] = acc\n",
        "    user_types_to_performance_ranker[user_type]['precision'] = precision\n",
        "\n",
        "print(user_types_to_performance_ranker)"
      ]
    },
    {
      "cell_type": "markdown",
      "metadata": {
        "id": "nVhCJrEePuva"
      },
      "source": [
        "2.2.3 Plot your results - compare logistic regression and the pairwise ranker.\n",
        "\n",
        "Plot a bar graph that compares the performance of each method accorss the differet behavioral models.\n",
        "* Genarate 2 figures, one for each performance measure: accuracy and precision.\n",
        "* For each performance measure, generate a bar plot with 4 bar groups (one per user model), with each group having two bars (one per method).\n",
        "* Remember to include: title, axis labels, and a lengend.\n",
        "\n"
      ]
    },
    {
      "cell_type": "code",
      "execution_count": 32,
      "metadata": {
        "id": "vBHda0XHERAg"
      },
      "outputs": [
        {
          "data": {
            "image/png": "[encoded data removed]",
            "text/plain": [
              "<Figure size 640x480 with 1 Axes>"
            ]
          },
          "metadata": {
            "image/png": {
              "height": 413,
              "width": 547
            }
          },
          "output_type": "display_data"
        }
      ],
      "source": [
        "# Accuracy\n",
        "\n",
        "## YOUR SOLUTION\n",
        "import matplotlib.pyplot as plt\n",
        "\n",
        "user_types = ['Attraction', 'Compromise', 'Similarity', 'Rational']\n",
        "accs = [user_types_to_performance[user_type]['acc'] for user_type in user_types]\n",
        "accs_ranker = [user_types_to_performance_ranker[user_type]['acc'] for user_type in user_types]\n",
        "x = np.arange(len(user_types))\n",
        "\n",
        "fig, ax = plt.subplots()\n",
        "bar_width = 0.35\n",
        "rects1 = ax.bar(x - bar_width/2, accs, bar_width, label='Logistic Regression')\n",
        "rects2 = ax.bar(x + bar_width/2, accs_ranker, bar_width, label='Rank SVM')\n",
        "\n",
        "ax.set_xticks(x)\n",
        "ax.set_xticklabels(user_types)\n",
        "ax.legend()\n",
        "plt.show()\n"
      ]
    },
    {
      "cell_type": "code",
      "execution_count": 33,
      "metadata": {
        "id": "B-U09Fmoak7U"
      },
      "outputs": [
        {
          "data": {
            "image/png": "[encoded data removed]",
            "text/plain": [
              "<Figure size 640x480 with 1 Axes>"
            ]
          },
          "metadata": {
            "image/png": {
              "height": 413,
              "width": 547
            }
          },
          "output_type": "display_data"
        }
      ],
      "source": [
        "# Precision\n",
        "\n",
        "\n",
        "## YOUR SOLUTION\n",
        "\n",
        "import matplotlib.pyplot as plt\n",
        "\n",
        "user_types = ['Attraction', 'Compromise', 'Similarity', 'Rational']\n",
        "precisions = [user_types_to_performance[user_type]['precision'] for user_type in user_types]\n",
        "precisions_ranker = [user_types_to_performance_ranker[user_type]['precision'] for user_type in user_types]\n",
        "x = np.arange(len(user_types))\n",
        "\n",
        "fig, ax = plt.subplots()\n",
        "bar_width = 0.35\n",
        "rects1 = ax.bar(x - bar_width/2, precisions, bar_width, label='Logistic Regression')\n",
        "rects2 = ax.bar(x + bar_width/2, precisions_ranker, bar_width, label='Rank SVM')\n",
        "\n",
        "ax.set_xticks(x)\n",
        "ax.set_xticklabels(user_types)\n",
        "ax.legend()\n",
        "plt.show()"
      ]
    },
    {
      "cell_type": "markdown",
      "metadata": {
        "id": "OL8sZiJ2i0CX"
      },
      "source": [
        "For the following discussion, you may refer to a pairwise ranker reminder in [course website](https://gr.cs.technion.ac.il/wc/handouts.cgi?e0iyxQZd2B3ZJyP)."
      ]
    },
    {
      "cell_type": "markdown",
      "metadata": {
        "id": "M-4S1xyAKoM3"
      },
      "source": [
        "2.2.4 Explain your results: What is the difference between accuracy to precision results? why is that?"
      ]
    },
    {
      "cell_type": "markdown",
      "metadata": {
        "id": "bEvjzyCYbERW"
      },
      "source": [
        "\n",
        "\n",
        "```\n",
        "Answer: ...\n",
        "```\n",
        "\n"
      ]
    },
    {
      "cell_type": "markdown",
      "metadata": {
        "id": "-YHaMpNcOb8H"
      },
      "source": [
        "Per user behavior - what determines differences? What determines similarites? Would you expect these results to hold in general?"
      ]
    },
    {
      "cell_type": "markdown",
      "metadata": {
        "id": "-aIytG8wbCdb"
      },
      "source": [
        "\n",
        "\n",
        "```\n",
        "Rational - In the rational we have high accuracy. This is caused by the rational being affected only by the user's utility value. Once the model learns the utility value for each item (which shouldn't be hard for our dataset), it is a matter of calculating the utility multiply by features and see if it is the max value. Because it is easy for the models to learn, we should expect high accuracy for\n",
        "```\n",
        "\n"
      ]
    },
    {
      "cell_type": "markdown",
      "metadata": {
        "id": "ZyWzZys4Rd0F"
      },
      "source": [
        "##2.3 Your model\n",
        "\n",
        "Now it is up to you to improve preformance: implement a model that **leverages behavioral context effects** with 3 features, and 10 items per slate.\n",
        "Plot Accuracy and Precision per user model for baselines (from the previous section) and compare it to the newly achieved results.\n",
        "\n",
        "\n",
        "Pass criteria: improve results for at least two users."
      ]
    },
    {
      "cell_type": "code",
      "execution_count": 34,
      "metadata": {
        "id": "4_NJjSveiJfe"
      },
      "outputs": [
        {
          "name": "stdout",
          "output_type": "stream",
          "text": [
            "{'Attraction': {'acc': 0.9057142857142857, 'precision': 0.9057142857142857}, 'Compromise': {'acc': 0.7485714285714286, 'precision': 0.7485714285714286}, 'Similarity': {'acc': 0.7771428571428571, 'precision': 0.7771428571428571}, 'Rational': {'acc': 0.9942857142857143, 'precision': 0.9942857142857143}}\n"
          ]
        },
        {
          "name": "stderr",
          "output_type": "stream",
          "text": [
            "/Users/arielshalem/miniconda3/envs/cs236781-hw2/lib/python3.8/site-packages/sklearn/svm/_classes.py:32: FutureWarning: The default value of `dual` will change from `True` to `'auto'` in 1.5. Set the value of `dual` explicitly to suppress the warning.\n",
            "  warnings.warn(\n",
            "/Users/arielshalem/miniconda3/envs/cs236781-hw2/lib/python3.8/site-packages/sklearn/svm/_classes.py:32: FutureWarning: The default value of `dual` will change from `True` to `'auto'` in 1.5. Set the value of `dual` explicitly to suppress the warning.\n",
            "  warnings.warn(\n",
            "/Users/arielshalem/miniconda3/envs/cs236781-hw2/lib/python3.8/site-packages/sklearn/svm/_classes.py:32: FutureWarning: The default value of `dual` will change from `True` to `'auto'` in 1.5. Set the value of `dual` explicitly to suppress the warning.\n",
            "  warnings.warn(\n",
            "/Users/arielshalem/miniconda3/envs/cs236781-hw2/lib/python3.8/site-packages/sklearn/svm/_classes.py:32: FutureWarning: The default value of `dual` will change from `True` to `'auto'` in 1.5. Set the value of `dual` explicitly to suppress the warning.\n",
            "  warnings.warn(\n"
          ]
        }
      ],
      "source": [
        "# run baselines\n",
        "\n",
        "## YOUR SOLUTION\n",
        "import numpy as np\n",
        "from sklearn.linear_model import LogisticRegression\n",
        "from sklearn.metrics import precision_score\n",
        "np.random.seed(42)\n",
        "\n",
        "env3 = TrainContextChoiceEnvironment()\n",
        "X_train, X_test, y_train, y_test = env3.generate_datasets(num_features=5, num_items=7)\n",
        "\n",
        "user_types = ['Attraction', 'Compromise', 'Similarity', 'Rational']\n",
        "user_types_to_performance = {user_type: {'acc': 0, 'precision':0} for user_type in user_types}\n",
        "\n",
        "for i, user_type in enumerate(user_types):\n",
        "    ranker = RankSVM()\n",
        "    y_user_train = y_train[[user_type, 'slate_id']].to_numpy()\n",
        "\n",
        "    y_user_test = y_test[[user_type]].to_numpy()\n",
        "    ranker.fit(X_train.to_numpy(), y_user_train)\n",
        "    acc = ranker.score(X_test.to_numpy(), y_user_test)\n",
        "    y_pred = ranker.predict(X_test.to_numpy())\n",
        "    precision = precision_score(y_user_test, y_pred, average='weighted')\n",
        "    user_types_to_performance_ranker[user_type]['acc'] = acc\n",
        "    user_types_to_performance_ranker[user_type]['precision'] = precision\n",
        "\n",
        "print(user_types_to_performance_ranker)"
      ]
    },
    {
      "cell_type": "code",
      "execution_count": 35,
      "metadata": {
        "id": "vROKaYphUyZ0"
      },
      "outputs": [],
      "source": [
        "# your model\n",
        "\n",
        "## YOUR SOLUTION\n",
        "# Fit & Predict\n",
        "\n",
        "from sklearn.svm import LinearSVC\n",
        "\n",
        "np.random.seed(42)\n",
        "\n",
        "\n",
        "def add_attraction_context(X, n, s, q):\n",
        "    X = np.c_[X, np.zeros(X.shape[0])]\n",
        "    for slate_id in range(s):\n",
        "        samples_in_slate = X[slate_id*n:(slate_id+1)*n]\n",
        "        preference_vector = X.max(axis=0)-X.min(axis=0)\n",
        "        preference_vector_normalized = (\n",
        "            preference_vector\n",
        "            /np.sqrt(preference_vector@preference_vector)\n",
        "        )\n",
        "        # Calculate dominance and distance matrices\n",
        "        dominance = np.zeros((n,n))\n",
        "        distance = np.zeros((n,n))\n",
        "        for i in range(n):\n",
        "            for j in range(n):\n",
        "                dominance[i,j] = (+1)*np.all(X[i]-X[j] >= 0) + (-1)*np.all(X[j]-X[i] >= 0)\n",
        "                distance[i,j] = abs(preference_vector_normalized@(X[i]-X[j]))\n",
        "\n",
        "        attraction_terms = (dominance*distance).sum(axis=1)\n",
        "        X[slate_id*n:(slate_id+1)*n, q] = attraction_terms\n",
        "    return X\n",
        "\n",
        "def add_similarity_context(X, n, s, q):\n",
        "    # Calculate preference vector\n",
        "    X = np.c_[X, np.zeros(X.shape[0])]\n",
        "    preference_vector = X.max(axis=0)-X.min(axis=0)\n",
        "    preference_vector_normalized = (\n",
        "        preference_vector\n",
        "        /np.sqrt(preference_vector@preference_vector)\n",
        "    )\n",
        "    \n",
        "    for slate_id in range(s):\n",
        "        samples_in_slate = X[slate_id*n:(slate_id+1)*n]\n",
        "        X_projected = np.zeros(samples_in_slate.shape)\n",
        "        projection_size = np.zeros(samples_in_slate.shape[0])\n",
        "\n",
        "        for i in range(samples_in_slate.shape[0]):\n",
        "            X_projected[i, :] = samples_in_slate[i,:] -  (samples_in_slate[i,:].dot(preference_vector) / np.linalg.norm(preference_vector)) * preference_vector\n",
        "\n",
        "        distances = np.zeros((samples_in_slate.shape[0], samples_in_slate.shape[0]))\n",
        "\n",
        "        for i in range(samples_in_slate.shape[0]): \n",
        "            for j in range(samples_in_slate.shape[0]):\n",
        "                distances[i,j] = np.linalg.norm(samples_in_slate[i,:] - samples_in_slate[j,:])\n",
        "\n",
        "        # avoide i == j\n",
        "        distances = distances + np.eye(distances.shape[0])*distances.max()\n",
        "\n",
        "        min_distances = distances.min(axis=1) \n",
        "\n",
        "        X[slate_id*n:(slate_id+1)*n, q] = min_distances\n",
        "    return X\n",
        "\n",
        "def add_compromise_context(X, n, s, q, feature_num):\n",
        "    X = np.c_[X, np.zeros(X.shape[0])]\n",
        "    for slate_id in range(s):\n",
        "        samples_in_slate = X[slate_id*n:(slate_id+1)*n]\n",
        "        X_com = (samples_in_slate.max(axis=0) + samples_in_slate.min(axis=0)) / 2\n",
        "        # take only the features in X_com\n",
        "        X_com = X_com[:feature_num]\n",
        "        d_im = np.zeros(n)\n",
        "        for i in range(n):\n",
        "            d_im[i] = np.linalg.norm(samples_in_slate[i,:feature_num] - X_com)\n",
        "        X[slate_id*n:(slate_id+1)*n, q] = -d_im\n",
        "    return X\n",
        "                    \n",
        "    \n",
        "\n",
        "def transform_pairwise(X, y):\n",
        "    n = X.shape[0] // np.unique(X[:, 0]).shape[0]\n",
        "    s = X.shape[0] // n\n",
        "    q = X.shape[1]\n",
        "    feature_num = q\n",
        "    \n",
        "    X = add_similarity_context(X, n, s, q)\n",
        "    q += 1\n",
        "    X = add_compromise_context(X, n, s, q, feature_num)\n",
        "    q += 1\n",
        "    \n",
        "\n",
        "    f = lambda x: 1 if x == 1 else -1\n",
        "    y_new = np.random.randint(0, 2, y.shape[0] - s)\n",
        "    y_new = np.array(list(map(f, y_new)))\n",
        "\n",
        "    X_new = np.repeat(X[y[:,0]==1], repeats=n-1, axis=0) - X[y[:,0]==0]\n",
        "    \n",
        "    X_new = np.multiply(X_new, np.repeat(y_new, repeats=q, axis=0).reshape(-1, q))\n",
        "\n",
        "    return X_new, y_new\n",
        "\n",
        "\n",
        "class OurRankSVM(LinearSVC):\n",
        "    def _init_(self, C=1.0, random_state=0):\n",
        "        super()._init_(C=C, random_state=random_state)\n",
        "\n",
        "    def fit(self, X, y):\n",
        "        X_new, y_new = transform_pairwise(X, y)\n",
        "        super().fit(X_new, y_new)\n",
        "        return self\n",
        "\n",
        "    def predict(self, X):\n",
        "        n = X.shape[0] // np.unique(X[:, 0]).shape[0]\n",
        "        s = X.shape[0] // n\n",
        "        q = X.shape[1]\n",
        "        feature_num = q\n",
        "\n",
        "        X = add_similarity_context(X, n, s, q)\n",
        "        q += 1\n",
        "        X = add_compromise_context(X, n, s, q, feature_num)\n",
        "        q += 1\n",
        "\n",
        "        decision_score = super().decision_function(X)\n",
        "        predications = []\n",
        "\n",
        "        for slated_id in range(s):\n",
        "            start = slated_id * n\n",
        "            end = start + n\n",
        "\n",
        "            predications_per_set = np.zeros(n)\n",
        "            max_score_index = np.argmax(decision_score[start:end])\n",
        "            predications_per_set[max_score_index] = 1\n",
        "\n",
        "            predications.append(predications_per_set)\n",
        "\n",
        "        return np.array(predications).reshape(-1)"
      ]
    },
    {
      "cell_type": "code",
      "execution_count": 36,
      "metadata": {
        "id": "MUnpvLh3U-k4"
      },
      "outputs": [
        {
          "name": "stderr",
          "output_type": "stream",
          "text": [
            "/Users/arielshalem/miniconda3/envs/cs236781-hw2/lib/python3.8/site-packages/sklearn/svm/_classes.py:32: FutureWarning: The default value of `dual` will change from `True` to `'auto'` in 1.5. Set the value of `dual` explicitly to suppress the warning.\n",
            "  warnings.warn(\n",
            "/Users/arielshalem/miniconda3/envs/cs236781-hw2/lib/python3.8/site-packages/sklearn/svm/_classes.py:32: FutureWarning: The default value of `dual` will change from `True` to `'auto'` in 1.5. Set the value of `dual` explicitly to suppress the warning.\n",
            "  warnings.warn(\n",
            "/Users/arielshalem/miniconda3/envs/cs236781-hw2/lib/python3.8/site-packages/sklearn/svm/_classes.py:32: FutureWarning: The default value of `dual` will change from `True` to `'auto'` in 1.5. Set the value of `dual` explicitly to suppress the warning.\n",
            "  warnings.warn(\n",
            "/Users/arielshalem/miniconda3/envs/cs236781-hw2/lib/python3.8/site-packages/sklearn/svm/_classes.py:32: FutureWarning: The default value of `dual` will change from `True` to `'auto'` in 1.5. Set the value of `dual` explicitly to suppress the warning.\n",
            "  warnings.warn(\n"
          ]
        },
        {
          "name": "stdout",
          "output_type": "stream",
          "text": [
            "{'Attraction': {'acc': 0.8971428571428571, 'precision': 0.8971428571428571}, 'Compromise': {'acc': 0.9857142857142858, 'precision': 0.9857142857142858}, 'Similarity': {'acc': 0.8228571428571428, 'precision': 0.8228571428571428}, 'Rational': {'acc': 0.9942857142857143, 'precision': 0.9942857142857143}}\n"
          ]
        }
      ],
      "source": [
        "# train model\n",
        "\n",
        "## YOUR SOLUTION\n",
        "\n",
        "user_types_to_performance_ranker_ours = {user_type: {'acc': 0, 'precision':0} for user_type in user_types}\n",
        "for i, user_type in enumerate(user_types): \n",
        "    \n",
        "    ranker = OurRankSVM()\n",
        "    y_user_train = y_train[[user_type, 'slate_id']].to_numpy()\n",
        "    y_user_test = y_test[[user_type]].to_numpy()\n",
        "    ranker.fit(X_train.to_numpy(), y_user_train)\n",
        "    acc = ranker.score(X_test.to_numpy(), y_user_test)\n",
        "    y_pred = ranker.predict(X_test.to_numpy())\n",
        "    precision = precision_score(y_user_test, y_pred, average='weighted')\n",
        "    user_types_to_performance_ranker_ours[user_type]['acc'] = acc\n",
        "    user_types_to_performance_ranker_ours[user_type]['precision'] = precision\n",
        "\n",
        "print(user_types_to_performance_ranker_ours)"
      ]
    },
    {
      "cell_type": "code",
      "execution_count": 37,
      "metadata": {
        "id": "6rNPOZ-NJQDX"
      },
      "outputs": [
        {
          "data": {
            "image/png": "[encoded data removed]",
            "text/plain": [
              "<Figure size 640x480 with 1 Axes>"
            ]
          },
          "metadata": {
            "image/png": {
              "height": 413,
              "width": 547
            }
          },
          "output_type": "display_data"
        }
      ],
      "source": [
        "# Plot results\n",
        "\n",
        "## YOUR SOLUTION\n",
        "import matplotlib.pyplot as plt\n",
        "\n",
        "user_types = ['Attraction', 'Compromise', 'Similarity', 'Rational']\n",
        "accs = [user_types_to_performance_ranker_ours[user_type]['acc'] for user_type in user_types]\n",
        "accs_ranker = [user_types_to_performance_ranker[user_type]['acc'] for user_type in user_types]\n",
        "x = np.arange(len(user_types))\n",
        "\n",
        "fig, ax = plt.subplots()\n",
        "bar_width = 0.35\n",
        "rects1 = ax.bar(x - bar_width/2, accs, bar_width, label='Our Ranker')\n",
        "rects2 = ax.bar(x + bar_width/2, accs_ranker, bar_width, label='Rank SVM')\n",
        "\n",
        "ax.set_xticks(x)\n",
        "ax.set_xticklabels(user_types)\n",
        "ax.legend()\n",
        "plt.show()\n"
      ]
    },
    {
      "cell_type": "code",
      "execution_count": 38,
      "metadata": {},
      "outputs": [
        {
          "data": {
            "image/png": "[encoded data removed]",
            "text/plain": [
              "<Figure size 640x480 with 1 Axes>"
            ]
          },
          "metadata": {
            "image/png": {
              "height": 413,
              "width": 547
            }
          },
          "output_type": "display_data"
        }
      ],
      "source": [
        "# Precision\n",
        "\n",
        "\n",
        "## YOUR SOLUTION\n",
        "import matplotlib.pyplot as plt\n",
        "\n",
        "user_types = ['Attraction', 'Compromise', 'Similarity', 'Rational']\n",
        "precisions = [user_types_to_performance_ranker_ours[user_type]['precision'] for user_type in user_types]\n",
        "precisions_ranker = [user_types_to_performance_ranker[user_type]['precision'] for user_type in user_types]\n",
        "x = np.arange(len(user_types))\n",
        "\n",
        "fig, ax = plt.subplots()\n",
        "bar_width = 0.35\n",
        "rects1 = ax.bar(x - bar_width/2, precisions, bar_width, label='Our Ranker')\n",
        "rects2 = ax.bar(x + bar_width/2, precisions_ranker, bar_width, label='Rank SVM')\n",
        "\n",
        "ax.set_xticks(x)\n",
        "ax.set_xticklabels(user_types)\n",
        "ax.legend()\n",
        "plt.show()"
      ]
    },
    {
      "cell_type": "markdown",
      "metadata": {
        "id": "3E2N7P6BU2x5"
      },
      "source": [
        "Explain what is main idea of behine this model? What enbles it to capture context effects?"
      ]
    },
    {
      "cell_type": "markdown",
      "metadata": {
        "id": "xeun0aPla3oJ"
      },
      "source": [
        "\n",
        "\n",
        "```\n",
        "The main idea behiind the model was to give each item a new \"feature\" which encompass knowledge about the relation of the item to other items in the set. Then, the model will learn how much weight to give this feature during the fit on a user behavior.\n",
        "We have 4 behavioral models:\n",
        "Rational - For it we don't need to add any contextual knowledge, as rational user isn't impacted by other items when perceiving the utility of an item.\n",
        "Attraction - The attraction accuracy was already very high, one reason for it can be that having dominance as an item on another item in a small set with multiple feature is quite rare, and so usually the attraction doesn't play a big part. With this considarations, the modeling the attraction acted more as a noise to other behavioral models and so we decided to dnot take it.\n",
        "Compromise & Similarity - For both we now the equation of how to model similarity and compromise value. And so for each one of the items we added two new features to the vectors, one that embed the compromise value (distance from min-max average), and one the embed the similarity value. For the value of alpha (how much the user is affected by contextual behaviors) we let the model learn it during the fit as it will be the weight of the corresponding embeded value in the features\n",
        "```\n",
        "\n"
      ]
    },
    {
      "cell_type": "markdown",
      "metadata": {},
      "source": []
    }
  ],
  "metadata": {
    "colab": {
      "include_colab_link": true,
      "provenance": [],
      "toc_visible": true
    },
    "kernelspec": {
      "display_name": "Python 3",
      "language": "python",
      "name": "python3"
    },
    "language_info": {
      "codemirror_mode": {
        "name": "ipython",
        "version": 3
      },
      "file_extension": ".py",
      "mimetype": "text/x-python",
      "name": "python",
      "nbconvert_exporter": "python",
      "pygments_lexer": "ipython3",
      "version": "3.8.12"
    }
  },
  "nbformat": 4,
  "nbformat_minor": 0
}
