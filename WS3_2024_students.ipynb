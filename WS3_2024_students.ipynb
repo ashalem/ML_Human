{
  "cells": [
    {
      "cell_type": "markdown",
      "metadata": {
        "colab_type": "text",
        "id": "view-in-github"
      },
      "source": [
        "<a href=\"https://colab.research.google.com/github/ashalem/ML_Human/blob/main/WS3_2024_students.ipynb\" target=\"_parent\"><img src=\"https://colab.research.google.com/assets/colab-badge.svg\" alt=\"Open In Colab\"/></a>"
      ]
    },
    {
      "cell_type": "markdown",
      "metadata": {
        "id": "btQtvZxxgZKk"
      },
      "source": [
        "<div>Machine Learning and Human Behavior - 236667 - Winter 2024-2025</div>\n",
        "<font size=\"6\">Workshop #3 - Biased inputs, biased outputs 🦡</font>"
      ]
    },
    {
      "cell_type": "markdown",
      "metadata": {},
      "source": [
        "IDS: 316333368, 3148446602"
      ]
    },
    {
      "cell_type": "markdown",
      "metadata": {
        "id": "iG2scxOIXpjf"
      },
      "source": [
        "# Instructions and submission guidelines\n",
        "\n",
        "* Clone this notebook and complete the exercise:\n",
        "    * Aim for clear and concise solutions.\n",
        "    * Indicate clearly with a text block the sections of your solutions.\n",
        "    * Answer dry questions in text (markdown) blocks, and wet questions in code blocks.\n",
        "* Submission guidelines:\n",
        "    * When you're done, restart the notebook, and make sure that everything runs smoothly (Runtime->\"Restart and Run All\")\n",
        "    * Add a text block in the beginning of your notebook with your IDs.\n",
        "    * Export your notebook as ipynb (File->Download->\"Download .ipynb\")\n",
        "    * If you need to attach additional files to your submission (e.g images), add them to a zip file together with the notebook ipynb file.\n",
        "    * Submit through the course website. Remember to list partner IDs when you submit.\n",
        "* **Due date**: Sunday 5/1/2025, 10:00\n",
        "* For any questions regarding this workshop task, contact [Lotan](mailto:lotan.amit@campus.technion.ac.il).\n"
      ]
    },
    {
      "cell_type": "markdown",
      "metadata": {
        "id": "vjUh-k9NvYwY"
      },
      "source": [
        "## Preliminaries\n",
        "Run these cells to load into memory interface objects and functions that will be used throughtout today's workshop.\n",
        "\n",
        "No need to read the actual code."
      ]
    },
    {
      "cell_type": "code",
      "execution_count": 1,
      "metadata": {
        "id": "MY7jN43R7qlS"
      },
      "outputs": [],
      "source": [
        "from typing import Iterable, Set, Tuple\n",
        "import numpy as np\n",
        "import pandas as pd\n",
        "import matplotlib.pyplot as plt\n",
        "\n",
        "from sklearn.linear_model import LogisticRegression, LinearRegression\n",
        "from sklearn.ensemble import RandomForestRegressor\n",
        "from sklearn.metrics import ndcg_score, precision_score, recall_score, mean_squared_error\n",
        "from scipy.stats import bernoulli, binom, norm\n",
        "import uuid\n",
        "from typing import List, Tuple\n",
        "import seaborn as sns\n",
        "\n",
        "\n",
        "from tqdm.auto import tqdm\n",
        "\n",
        "CLICKS_NOISE_SCALE = 5\n",
        "RATINGS_NOISE_SCALE = 2\n",
        "LATENT_DIMENSION = 30\n",
        "np.random.seed(42)"
      ]
    },
    {
      "cell_type": "code",
      "execution_count": 2,
      "metadata": {
        "cellView": "form",
        "id": "mFnQRPRUr8Co"
      },
      "outputs": [],
      "source": [
        "#@title RateClickEnvironment\n",
        "\n",
        "class RateClickEnvironment(object):\n",
        "  FEATURE_COLUMNS = [f'x{i+1}' for i in range(8)]\n",
        "\n",
        "  def __init__(self, thresh_click=2, eps_click=0.4,\n",
        "               eps_rating=1, user_mu=0, user_sigma=1):\n",
        "    self.thresh_click = thresh_click\n",
        "    self.eps_click = eps_click\n",
        "    self.eps_rating = eps_rating\n",
        "    self._latent_dim = len(self.FEATURE_COLUMNS)\n",
        "    self.top_k_idxs = np.arange(self._latent_dim)<5\n",
        "\n",
        "    self._user_features = np.abs(np.random.normal(user_mu, user_sigma, self._latent_dim))# np.abs(np.random.randn(self._latent_dim))\n",
        "    self._user_features /= np.linalg.norm(self._user_features)\n",
        "    self._user_features_topk = self._user_features*self.top_k_idxs\n",
        "\n",
        "    self.ndcg_10 = lambda y_true, y_est: ndcg_score(\n",
        "    np.expand_dims(y_true, 0),\n",
        "    np.expand_dims(y_est, 0),\n",
        "    k=10,\n",
        "    )\n",
        "\n",
        "  def _generate_dataframe(self, n_samples, seed=None) -> pd.DataFrame:\n",
        "    if seed is not None:\n",
        "      np.random.seed(seed)\n",
        "      print('in')\n",
        "    return pd.DataFrame(\n",
        "        index=pd.Index(\n",
        "            data=[str(uuid.uuid4()) for _ in range(n_samples)],\n",
        "            name='item_id',\n",
        "        ),\n",
        "        data={\n",
        "            feature_name: np.random.randn(n_samples)\n",
        "            for feature_name in self.FEATURE_COLUMNS\n",
        "        }\n",
        "    )\n",
        "\n",
        "  @staticmethod\n",
        "  def _click_transform(x):\n",
        "    return x>2\n",
        "\n",
        "  @staticmethod\n",
        "  def _rating_transform(x):\n",
        "    sigmoid = lambda x: 1/(1+np.exp(-x))\n",
        "    return np.round((sigmoid(x*1.5)-0.5)*4 + 3).astype(int)\n",
        "\n",
        "  def generate_evaluation_set(self, n_samples: int, seed: int=None) -> pd.DataFrame:\n",
        "    df = self._generate_dataframe(n_samples, seed)\n",
        "    X = df[self.FEATURE_COLUMNS].to_numpy()\n",
        "    scores = X@self._user_features\n",
        "    y = self._rating_transform(scores)\n",
        "    return df.assign(true_relevance=y)\n",
        "\n",
        "  def generate_training_set(self, n_samples: int, seed: int=None):\n",
        "    df = self._generate_dataframe(n_samples, seed)\n",
        "    X = df[self.FEATURE_COLUMNS].to_numpy()\n",
        "    for _ in range(1000):  # rejection sampling\n",
        "      noisy_scores = X@self._user_features_topk + self.eps_click*np.random.logistic(size=X.shape[0])\n",
        "      y_click = pd.array(\n",
        "          (noisy_scores > self.thresh_click),\n",
        "          dtype=pd.Int64Dtype()\n",
        "      )\n",
        "      if len(y_click.unique())>1 and y_click.value_counts().min()>1:\n",
        "        break\n",
        "    for _ in range(1000):  # rejection sampling\n",
        "      noisy_scores = X@self._user_features + self.eps_rating*np.random.logistic(size=X.shape[0])\n",
        "      y_rating = pd.array(\n",
        "          self._rating_transform(noisy_scores),\n",
        "          dtype=pd.Int64Dtype(),\n",
        "      )\n",
        "      y_rating[y_click==0] = None\n",
        "      if len(y_rating.dropna().unique())>1:\n",
        "        break\n",
        "\n",
        "    return df.assign(click=y_click, rating=y_rating)\n",
        "\n",
        "  def build_X_y_matrices(\n",
        "    self,\n",
        "    df: pd.DataFrame,\n",
        "    label_column: str,\n",
        "    feature_columns: List[str]=FEATURE_COLUMNS,\n",
        "    get_valid_entries:bool=False ) -> Tuple[np.ndarray, np.array]:\n",
        "    valid_entries = pd.notna(df[label_column])\n",
        "    X = df.loc[valid_entries][feature_columns].to_numpy()\n",
        "    y = df.loc[valid_entries][label_column].to_numpy()\n",
        "    if get_valid_entries:\n",
        "      return X,y,valid_entries\n",
        "    else:\n",
        "      return X,y\n",
        "\n",
        "def generate_population(utype_1='ranting', user_mu_1=-1, user_sigma_1=0.5,\n",
        "                        thresh_click_1=1, ratio=4, utype_2='extreme',\n",
        "                        user_mu_2=2, user_sigma_2=2, thresh_click_2=2\n",
        "                        ):\n",
        "# utype_1='ranting'\n",
        "# user_mu_1=-1\n",
        "# user_sigma_1=0.5\n",
        "# thresh_click_1=1\n",
        "# ratio=4\n",
        "# utype_2='extreme'\n",
        "# user_mu_2=2\n",
        "# user_sigma_2=2\n",
        "# thresh_click_2=2.5\n",
        "\n",
        "\n",
        "  train_size_ma = 10000 * 3\n",
        "  train_size_min = 10000\n",
        "\n",
        "  rc_env_rant = RateClickEnvironment(user_mu=user_mu_1, user_sigma=user_sigma_1,\n",
        "                                    thresh_click=thresh_click_1)\n",
        "  train_df = rc_env_rant.generate_training_set(train_size_ma)\n",
        "  items_train_rant, ratings_train_rant = rc_env_rant.build_X_y_matrices(train_df, 'rating')\n",
        "  test_df = rc_env_rant.generate_evaluation_set(500)\n",
        "  items_test_rant, true_relevance_rant = rc_env_rant.build_X_y_matrices(test_df, 'true_relevance')\n",
        "  ratings_train_rant, items_train_rant = selective_ratings(ratings_train_rant,\n",
        "                                                          utype_1,items_train_rant)\n",
        "\n",
        "  # extreme reporters\n",
        "  rc_env_over = RateClickEnvironment(user_mu=user_mu_2, user_sigma=user_sigma_2,\n",
        "                                    thresh_click=thresh_click_2)\n",
        "  train_df = rc_env_over.generate_training_set(train_size_min)\n",
        "  items_train, ratings_train = rc_env_over.build_X_y_matrices(train_df, 'rating')\n",
        "  test_df = rc_env_over.generate_evaluation_set(500)\n",
        "\n",
        "  items_test_over, true_relevance_over = rc_env_over.build_X_y_matrices(test_df, 'true_relevance')\n",
        "  ratings_train_over, items_train_over = selective_ratings(ratings_train,\n",
        "                                                          utype_2,items_train)\n",
        "\n",
        "  # merge:\n",
        "  rant_df = pd.DataFrame(data=np.hstack([items_train_rant,\n",
        "                                      np.expand_dims(ratings_train_rant,1)]),\n",
        "                      columns=[f'x_{i}' for i in range(items_train_rant.shape[1])] + ['rating'])\n",
        "\n",
        "  over_df = pd.DataFrame(data=np.hstack([items_train_over,\n",
        "                                        np.expand_dims(ratings_train_over,1)]),\n",
        "                        columns=[f'x_{i}' for i in range(items_train_over.shape[1])] + ['rating'])\n",
        "\n",
        "  train_df = pd.concat([rant_df, over_df])\n",
        "  train_df['user_type'] = np.hstack([np.ones(ratings_train_rant.shape),\n",
        "                                    np.zeros(ratings_train_over.shape)])\n",
        "\n",
        "  rant_df = pd.DataFrame(data=np.hstack([items_test_rant,\n",
        "                                        np.expand_dims(true_relevance_rant,1)]),\n",
        "                        columns=[f'x_{i}' for i in range(items_train_rant.shape[1])] + ['true_relevance'])\n",
        "\n",
        "  over_df = pd.DataFrame(data=np.hstack([items_test_over,\n",
        "                                        np.expand_dims(true_relevance_over,1)]),\n",
        "                        columns=[f'x_{i}' for i in range(items_test_over.shape[1])] + ['true_relevance'])\n",
        "\n",
        "  test_df = pd.concat([rant_df, over_df])\n",
        "  test_df['user_type'] = np.hstack([np.ones(true_relevance_rant.shape), np.zeros(true_relevance_over.shape)])\n",
        "\n",
        "  return train_df, test_df\n"
      ]
    },
    {
      "cell_type": "markdown",
      "metadata": {
        "id": "cOH5FF6cggSl"
      },
      "source": [
        "# Task 1: Predictions through the funnel"
      ]
    },
    {
      "cell_type": "markdown",
      "metadata": {
        "id": "-vlvDYcn1XAm"
      },
      "source": [
        "## Introduction\n",
        "\n",
        "In this exercise, we will simulate and analyze a hypothetical recommender system. For simplicty, our system will have a single user, and the goal of the system is to provide her with relevant content.\n",
        "The user is described by a (latent) vector $u\\in \\mathbb{R}^d$, which is *unknown* to the system. For a given item $i$ with features $x_i \\in \\mathbb{R}^d$ (which are *known* to the system), relevance to the user is an integer $y \\in \\{1,\\dots,5\\}$, given by the following formula:\n",
        "$$\n",
        "y=\\texttt{round}(\\sigma(u^\\top x_i)-0.5) \\quad \\text{where} \\quad\n",
        "\\sigma(a)=1+\\frac{4}{1+e^{-1.5a}}\n",
        "$$\n",
        "Intuitively, the formula computes an inner product, \"squashes\" the result into $[1,5]$ using a scaled sigmoid function, and rounds.\n",
        "\n",
        "To make its recommendations, **the system is given access to two types of data**, generated by the user as a response to past recommendations: clicks, and (possibly) ratings.\n",
        "\n",
        "Given a training set of previously-recommended items, for each of these items, the system observes:\n",
        "  1. A binary *click* label $c \\in \\{0,1\\}$. The user clicks on a recommended item only if its *perceived* relevance $\\tilde{y}$ is higher than some threshold `thresh_click`. Perceived relevance differs from true relevance in two ways:\n",
        "    1. It is based only on partial information (e.g think of how search results include only a short summary of an item). In our case, the user only gets to observe some of the features.\n",
        "    2. It includes additive noise `eps_click` (this is applied to the inner product $u^\\top x_i$).\n",
        "  2. An integer *rating* label $r \\in \\{1,\\dots,5\\}$. Ratings are based on items relevancies, and are reported *only after items have been consumed*. This means that:\n",
        "    1. They are based on the entire feature vector (i.e., consuming an items means the user is exposed to the entire feature vector).\n",
        "    2. They are also affected by additive noise `eps_rating`.\n",
        "    3. Importantly, they are observed **only for items that have been clicked**.\n",
        "\n",
        "None of the parameters `thresh_click`, `eps_click`, and `eps_rating` are known to the system.\n",
        "\n",
        "In this exercise, we will explore how the interaction between these two types of user feedback affect learning and recommendation.\n"
      ]
    },
    {
      "cell_type": "markdown",
      "metadata": {
        "id": "qDTp6mIIrtFv"
      },
      "source": [
        "###  `RateClickEnvironment` Interface\n",
        "\n",
        "\n",
        "`RateClickEnvironment` is an interface which generates synthetic datasets of clicks and ratings according to the paradigm above. The constructor includes three arguments: `thresh_click`, `eps_click`, and `eps_rating`, as described above. Calling `RateClickEnvironment()` results in default arguments.\n",
        "\n",
        "Additionally, it has two public instance methods that we're going to use:\n",
        "\n",
        "* `generate_evaluation_set(n_samples)` - Generate evaluation set of the given size. This function returns a `pandas.DataFrame` object. The dataframe is indexed by `item_id`, which is an arbitrary random string assigned to each item. The dataframe has columns for each of the $d$ features, and additional `true_relevance` column that stores the true (un-noised) relevancies of all items.\n",
        "\n",
        "* `generate_training_set(n_samples)` - Generate a training set of the given size. Similarly, this function returns a `pandas.DataFrame` object with the same type of index, and with feature columns. The dataframe does not include true relevancies; instead it includes two additional columns:\n",
        " * The column `click` is an indicator of whether the user clicked an item ($c_{i}\\in\\{0,1\\}$ as in the definitions above).\n",
        " * The column `rating` contains the item rating ($r_{i}\\in\\{1,\\dots,5\\}$ in the definitions above), or `N/A` if the rating is not observed.\n"
      ]
    },
    {
      "cell_type": "markdown",
      "metadata": {
        "id": "p-V2ZDbT3iiX"
      },
      "source": [
        "## 1.1 Exploratory analysis: Warmup\n",
        "\n",
        "`rc_env` is an instance of the `RateClickEnvironment` class:\n"
      ]
    },
    {
      "cell_type": "code",
      "execution_count": 21,
      "metadata": {
        "id": "6ouPSZ_F4LfY"
      },
      "outputs": [],
      "source": [
        "rc_env = RateClickEnvironment()"
      ]
    },
    {
      "cell_type": "markdown",
      "metadata": {
        "id": "9BQZf5u3s5_i"
      },
      "source": [
        "Use the `rc_env.generate_training_set` method to generate a training set of size 1000 and print the first 10 rows. Note that values of `rating` are only observed for items that were clicked."
      ]
    },
    {
      "cell_type": "code",
      "execution_count": 22,
      "metadata": {
        "id": "_cTu8P19tq3u"
      },
      "outputs": [
        {
          "name": "stdout",
          "output_type": "stream",
          "text": [
            "                                            x1        x2        x3        x4  \\\n",
            "item_id                                                                        \n",
            "580a63d0-70e2-41e7-b552-32fc49c05a54 -0.469474  1.049553  0.659246  1.082691   \n",
            "67976a79-56da-47f0-a118-6eaf99c3bf4d  0.542560 -0.535235  0.937570 -0.471125   \n",
            "d05b88a0-0b1f-44ab-8ba4-8b047843af14 -0.463418  1.317394 -1.607560 -0.093636   \n",
            "29299ba9-b9c5-42b6-9d2c-8c29d0b7fa8f -0.465730  0.197600 -0.762725  1.325797   \n",
            "172ef913-108d-4e01-b118-7a7d9334d854  0.241962  2.075261 -0.769142 -1.287164   \n",
            "a28d875c-39cb-4fe7-b5b3-7e17f3377359 -1.913280 -0.689188 -0.939903 -1.397118   \n",
            "fd3e4124-6c00-4e56-bf80-5995e1f68278 -1.724918  1.735964  0.829475 -0.583599   \n",
            "e25bb2dd-e51c-40c2-9f17-ce1a1f0a832e -0.562288  0.197911 -0.193826  1.038379   \n",
            "6bf30ebd-13e6-40e6-a800-b8b4045f2b25 -1.012831 -0.651418 -0.264515 -1.519346   \n",
            "d11fdf6f-c0e6-4917-96c7-8fd591ec1780  0.314247 -0.483886 -2.003862 -2.832156   \n",
            "\n",
            "                                            x5        x6        x7        x8  \\\n",
            "item_id                                                                        \n",
            "580a63d0-70e2-41e7-b552-32fc49c05a54 -0.488274 -0.734233  1.140068  1.346572   \n",
            "67976a79-56da-47f0-a118-6eaf99c3bf4d  0.633327 -0.141530 -0.837090  1.443670   \n",
            "d05b88a0-0b1f-44ab-8ba4-8b047843af14  0.022631  1.598322 -0.058720  0.291379   \n",
            "29299ba9-b9c5-42b6-9d2c-8c29d0b7fa8f -1.405563  0.733548  0.446537  0.032185   \n",
            "172ef913-108d-4e01-b118-7a7d9334d854 -0.984993  0.008784  0.199610  0.872817   \n",
            "a28d875c-39cb-4fe7-b5b3-7e17f3377359  0.198680 -0.237683  1.094180  0.732081   \n",
            "fd3e4124-6c00-4e56-bf80-5995e1f68278 -0.079067  0.076609  0.479003 -0.309066   \n",
            "e25bb2dd-e51c-40c2-9f17-ce1a1f0a832e -0.579124 -0.511764 -0.861310  0.404823   \n",
            "6bf30ebd-13e6-40e6-a800-b8b4045f2b25 -0.480834 -2.104750  2.178562 -0.035096   \n",
            "d11fdf6f-c0e6-4917-96c7-8fd591ec1780  0.696168  2.042178  0.194333 -0.853933   \n",
            "\n",
            "                                      click  rating  \n",
            "item_id                                              \n",
            "580a63d0-70e2-41e7-b552-32fc49c05a54      0    <NA>  \n",
            "67976a79-56da-47f0-a118-6eaf99c3bf4d      0    <NA>  \n",
            "d05b88a0-0b1f-44ab-8ba4-8b047843af14      0    <NA>  \n",
            "29299ba9-b9c5-42b6-9d2c-8c29d0b7fa8f      0    <NA>  \n",
            "172ef913-108d-4e01-b118-7a7d9334d854      0    <NA>  \n",
            "a28d875c-39cb-4fe7-b5b3-7e17f3377359      0    <NA>  \n",
            "fd3e4124-6c00-4e56-bf80-5995e1f68278      0    <NA>  \n",
            "e25bb2dd-e51c-40c2-9f17-ce1a1f0a832e      0    <NA>  \n",
            "6bf30ebd-13e6-40e6-a800-b8b4045f2b25      0    <NA>  \n",
            "d11fdf6f-c0e6-4917-96c7-8fd591ec1780      0    <NA>  \n"
          ]
        }
      ],
      "source": [
        "## YOUR SOLUTION\n",
        "train_set = rc_env.generate_training_set(n_samples=1000)\n",
        "print(train_set.head(10))"
      ]
    },
    {
      "cell_type": "markdown",
      "metadata": {
        "id": "St4bkPen6v5S"
      },
      "source": [
        "Calculate the proportion of items that were clicked in the training set (result should be a number between 0 and 1):\n",
        "\n",
        "(try to do this in one line of pandas code!)"
      ]
    },
    {
      "cell_type": "code",
      "execution_count": 23,
      "metadata": {
        "id": "36qpGiub67se"
      },
      "outputs": [
        {
          "data": {
            "text/plain": [
              "0.023"
            ]
          },
          "execution_count": 23,
          "metadata": {},
          "output_type": "execute_result"
        }
      ],
      "source": [
        "## YOUR SOLUTION\n",
        "np.mean(train_set['click'])"
      ]
    },
    {
      "cell_type": "markdown",
      "metadata": {
        "id": "HCzHw7517Xnw"
      },
      "source": [
        "Plot a bar chart showing the number of times each rating value (1,2,...,5) was observed (histogram). Use `df.value_counts()`.\n",
        "\n",
        "(try to do this in one line of pandas code!)"
      ]
    },
    {
      "cell_type": "code",
      "execution_count": 24,
      "metadata": {
        "id": "NqPuAcWQ7vR3"
      },
      "outputs": [
        {
          "data": {
            "text/plain": [
              "<BarContainer object of 5 artists>"
            ]
          },
          "execution_count": 24,
          "metadata": {},
          "output_type": "execute_result"
        },
        {
          "data": {
            "image/png": "[encoded data removed]",
            "text/plain": [
              "<Figure size 640x480 with 1 Axes>"
            ]
          },
          "metadata": {},
          "output_type": "display_data"
        }
      ],
      "source": [
        "## YOUR SOLUTION\n",
        "plt.bar(train_set[train_set['click']==1]['rating'].value_counts().index, train_set[train_set['click']==1]['rating'].value_counts().values)"
      ]
    },
    {
      "cell_type": "code",
      "execution_count": 25,
      "metadata": {},
      "outputs": [
        {
          "name": "stdout",
          "output_type": "stream",
          "text": [
            "rating\n",
            "5    18\n",
            "3     2\n",
            "1     1\n",
            "4     1\n",
            "2     1\n",
            "Name: count, dtype: Int64\n"
          ]
        }
      ],
      "source": [
        "print(train_set[train_set['click']==1]['rating'].value_counts())"
      ]
    },
    {
      "cell_type": "markdown",
      "metadata": {
        "id": "zHIVkGrksefM"
      },
      "source": [
        "Use the `rc_env.generate_evaluation_set` method with input 1000 to generate an evaluation set with 1000 samples, print the first 5 rows.\n"
      ]
    },
    {
      "cell_type": "code",
      "execution_count": 26,
      "metadata": {
        "id": "UxKQ2VP3shIO"
      },
      "outputs": [],
      "source": [
        "## YOUR SOLUTION\n",
        "eval_set = rc_env.generate_evaluation_set(n_samples=1000)"
      ]
    },
    {
      "cell_type": "markdown",
      "metadata": {
        "id": "aKNqqsAq4_Rg"
      },
      "source": [
        "Plot an histogram of true (un-noised) values. Use `df.value_counts()`.\n"
      ]
    },
    {
      "cell_type": "code",
      "execution_count": 27,
      "metadata": {
        "id": "ObULNNwjtCRW"
      },
      "outputs": [
        {
          "data": {
            "text/plain": [
              "<BarContainer object of 5 artists>"
            ]
          },
          "execution_count": 27,
          "metadata": {},
          "output_type": "execute_result"
        },
        {
          "data": {
            "image/png": "[encoded data removed]",
            "text/plain": [
              "<Figure size 640x480 with 1 Axes>"
            ]
          },
          "metadata": {},
          "output_type": "display_data"
        }
      ],
      "source": [
        "## YOUR SOLUTION\n",
        "plt.bar(eval_set['true_relevance'].value_counts().index, eval_set['true_relevance'].value_counts().values)"
      ]
    },
    {
      "cell_type": "markdown",
      "metadata": {
        "id": "WjmySM0G8qNd"
      },
      "source": [
        "How is this histogram different than the one plotted for the training set ratings? Why is that? Explain your answer."
      ]
    },
    {
      "cell_type": "markdown",
      "metadata": {
        "id": "r4ilLMia37w2"
      },
      "source": [
        "\n",
        "\n",
        "```\n",
        "Answer: The true relevance histogram shows normal distribution of the data, as opossed to the rating that shows very high bias to the rating of 5/5. We covered it in class and it may have two reasons. The first is that in ratings we get only items that passed two filters. The first filter is those items that the system deemed worthy of recommending to the user. The second filter pass only items that the user deemed interesting by clicking them.\n",
        "The second reason, is what we described in class as anti buy regret. In order for the users to not regret after buying the item, they tend to exagurate its value and think of it as \"the best purchase possible\".\n",
        "```\n",
        "\n"
      ]
    },
    {
      "cell_type": "markdown",
      "metadata": {
        "id": "KrJMDigCavQS"
      },
      "source": [
        "## 1.2 Basic model training\n",
        "\n",
        "The utility method `rc_env.build_X_y_matrices`\n",
        "extracts training matrices and labels from a given dataset DataFrame.\n",
        "Entries for which the labels are missing (`N/A`) are removed from the dataset.\n",
        "\n",
        "Arguments:\n",
        "- `label_column (str)`: Name of column to be used as label (e.g 'click')\n",
        "- `feature_columns (List[str])`: Columns to be used as features\n",
        "\n"
      ]
    },
    {
      "cell_type": "markdown",
      "metadata": {
        "id": "8P3Xg8ev_-NG"
      },
      "source": [
        "Use `rc_env.build_X_y_matrices` together with previous methods to:\n",
        "* Create a train set of size 1000 that includes ratings as labels.\n",
        "* Train a linear regression model (use scikit-learn).\n",
        "* Create an evaluation set of size 500 (that includes true relevancies $y$).\n",
        "* Use the learned model to generate predicted relevancies $\\hat{y}$\n",
        "* Create a violin plot comparing $\\hat{y}$ to $\\hat{y}$ (code provided).\n",
        "\n",
        "**Note:** You may try to re-run with different seeds.\n",
        "\n",
        "\n",
        "\n"
      ]
    },
    {
      "cell_type": "code",
      "execution_count": 79,
      "metadata": {},
      "outputs": [
        {
          "name": "stdout",
          "output_type": "stream",
          "text": [
            "0.3535382358455784\n"
          ]
        },
        {
          "data": {
            "image/png": "[encoded data removed]",
            "text/plain": [
              "<Figure size 640x480 with 1 Axes>"
            ]
          },
          "metadata": {},
          "output_type": "display_data"
        }
      ],
      "source": [
        "np.random.seed(10)\n",
        "new_train_df = rc_env.generate_training_set(n_samples=1000)\n",
        "new_eval_df = rc_env.generate_evaluation_set(n_samples=500)\n",
        "feature_columns = [f'x{i+1}' for i in range(8)]\n",
        "X, y = rc_env.build_X_y_matrices(new_train_df, 'rating', feature_columns)\n",
        "LRModel = LinearRegression()\n",
        "LRModel.fit(X, y)\n",
        "X_test, y_test = rc_env.build_X_y_matrices(new_eval_df, 'true_relevance', feature_columns)\n",
        "y_pred = LRModel.predict(X_test)\n",
        "print(LRModel.score(X_test, y_test))\n",
        "\n",
        "sns.violinplot(x=y_test, y=y_pred)\n",
        "plt.xlabel('True Relevance')\n",
        "plt.ylabel('Predicted Relevance')\n",
        "plt.title('True vs Predicted Relevance')\n",
        "plt.show()"
      ]
    },
    {
      "cell_type": "code",
      "execution_count": 86,
      "metadata": {
        "id": "iz1XUS9KAZTI"
      },
      "outputs": [
        {
          "data": {
            "text/plain": [
              "-0.5168639984948407"
            ]
          },
          "execution_count": 86,
          "metadata": {},
          "output_type": "execute_result"
        },
        {
          "data": {
            "image/png": "[encoded data removed]",
            "text/plain": [
              "<Figure size 640x480 with 1 Axes>"
            ]
          },
          "metadata": {},
          "output_type": "display_data"
        }
      ],
      "source": [
        "\n",
        "## YOUR SOLUTION\n",
        "np.random.seed(42)\n",
        "train_set = rc_env.generate_training_set(n_samples=1000)\n",
        "train_set_ratings_x, train_set_ratings_y = rc_env.build_X_y_matrices(train_set, 'rating', rc_env.FEATURE_COLUMNS)\n",
        "model = LinearRegression()\n",
        "model.fit(train_set_ratings_x, train_set_ratings_y)\n",
        "eval_set = rc_env.generate_evaluation_set(n_samples=500)\n",
        "eval_set_x, eval_set_y = rc_env.build_X_y_matrices(eval_set, 'true_relevance', rc_env.FEATURE_COLUMNS)\n",
        "y_predicted = model.predict(eval_set_x)\n",
        "sns.violinplot(x=eval_set_y, y=y_predicted)\n",
        "model.score(eval_set_x, eval_set_y)"
      ]
    },
    {
      "cell_type": "code",
      "execution_count": 87,
      "metadata": {
        "id": "JGDiSGqfAeni"
      },
      "outputs": [
        {
          "data": {
            "image/png": "[encoded data removed]",
            "text/plain": [
              "<Figure size 800x600 with 1 Axes>"
            ]
          },
          "metadata": {},
          "output_type": "display_data"
        }
      ],
      "source": [
        "# [plot correlations]\n",
        "\n",
        "# eval_r: true ratings(1d numpy.ndarray)\n",
        "# pred_r: predicted ratings(1d numpy.ndarray)\n",
        "eval_r = eval_set_y\n",
        "pred_r = y_predicted\n",
        "plt.figure(figsize=(8,6));\n",
        "rs = np.sort(np.unique(eval_r))\n",
        "pred_per_r = [pred_r[np.where(eval_r==r)] for r in rs]\n",
        "plt.violinplot(pred_per_r, rs, showmeans=True);\n",
        "plt.plot([1,5],[1,5],'k--');\n",
        "plt.text(5.05, 5.05, 'Perfect \\n Pred');\n",
        "plt.xlabel(\"True\");\n",
        "plt.ylabel(\"Predicted\");"
      ]
    },
    {
      "cell_type": "markdown",
      "metadata": {
        "id": "Mo0oZq39AiGU"
      },
      "source": [
        "**Explain the plot -** Does the linear regression model capture the true relevance?"
      ]
    },
    {
      "cell_type": "markdown",
      "metadata": {
        "id": "rWqHGWFd3slB"
      },
      "source": [
        "\n",
        "\n",
        "```\n",
        "Answer: It is very biased toward stating higher values than it should. This is to be expected, as we have seen and explained that the ratings are largly biased towards high score of 5/5 instead of true normal distribution. The model learned on those biased ratings and so, when tasked with prediction, it constatnly predict higher score than it should.\n",
        "```\n",
        "\n"
      ]
    },
    {
      "cell_type": "markdown",
      "metadata": {
        "id": "b04INZI34HC8"
      },
      "source": [
        "## 1.3 The effect of dataset size\n",
        "\n",
        "* Create a `RateClickEnvironment` object with default arguments, and use it to generate an evaluation set of size 500.\n",
        "* For each n in `geomspace(50,20000,8)`, generate a training dataset of size n.\n",
        "* Train a click-prediction model using logistic regression.\n",
        "* Train a rating-prediction model using linear regression.\n",
        "* Evaluate and store the NDCG of each model on the evaluation set: use the following `rc_nev.ndcg_10` method that wraps scikit-learn's `ndcg_score` for top 10:\n",
        "\n",
        "  * Input: 2 arrays, true relevance and predicted relevance score.\n",
        "  * Output: float, score\n",
        "\n",
        "* For each value of n, **repeat the above procedure 20 times**.\n",
        "* Generate a results DataFrame with the following columns: `n_samples, repetition, click_ndcg, rating_ndcg`"
      ]
    },
    {
      "cell_type": "markdown",
      "metadata": {
        "id": "ZsrFXpxlk1Yf"
      },
      "source": [
        "Generate evaluation set (to be shared across simulation repetitions):"
      ]
    },
    {
      "cell_type": "code",
      "execution_count": 100,
      "metadata": {
        "id": "kJMp5dP5uQgD"
      },
      "outputs": [
        {
          "name": "stdout",
          "output_type": "stream",
          "text": [
            "50\n"
          ]
        },
        {
          "ename": "ValueError",
          "evalue": "Unknown label type: unknown. Maybe you are trying to fit a classifier, which expects discrete classes on a regression target with continuous values.",
          "output_type": "error",
          "traceback": [
            "\u001b[0;31m---------------------------------------------------------------------------\u001b[0m",
            "\u001b[0;31mValueError\u001b[0m                                Traceback (most recent call last)",
            "Cell \u001b[0;32mIn[100], line 23\u001b[0m\n\u001b[1;32m     21\u001b[0m logistic_model_for_click \u001b[38;5;241m=\u001b[39m LogisticRegression()\n\u001b[1;32m     22\u001b[0m linear_model_for_rating\u001b[38;5;241m.\u001b[39mfit(train_set_ratings_x, train_set_ratings_y)\n\u001b[0;32m---> 23\u001b[0m \u001b[43mlogistic_model_for_click\u001b[49m\u001b[38;5;241;43m.\u001b[39;49m\u001b[43mfit\u001b[49m\u001b[43m(\u001b[49m\u001b[43mtrain_set_click_x\u001b[49m\u001b[43m,\u001b[49m\u001b[43m \u001b[49m\u001b[43mtrain_set_click_y\u001b[49m\u001b[43m)\u001b[49m\n\u001b[1;32m     24\u001b[0m y_predicted_click \u001b[38;5;241m=\u001b[39m logistic_model_for_click\u001b[38;5;241m.\u001b[39mpredict(eval_set_ratings_x)\n\u001b[1;32m     25\u001b[0m y_predicted_rating \u001b[38;5;241m=\u001b[39m linear_model_for_rating\u001b[38;5;241m.\u001b[39mpredict(eval_set_rating_x)\n",
            "File \u001b[0;32m~/miniconda3/envs/cs236781-hw2/lib/python3.8/site-packages/sklearn/base.py:1152\u001b[0m, in \u001b[0;36m_fit_context.<locals>.decorator.<locals>.wrapper\u001b[0;34m(estimator, *args, **kwargs)\u001b[0m\n\u001b[1;32m   1145\u001b[0m     estimator\u001b[38;5;241m.\u001b[39m_validate_params()\n\u001b[1;32m   1147\u001b[0m \u001b[38;5;28;01mwith\u001b[39;00m config_context(\n\u001b[1;32m   1148\u001b[0m     skip_parameter_validation\u001b[38;5;241m=\u001b[39m(\n\u001b[1;32m   1149\u001b[0m         prefer_skip_nested_validation \u001b[38;5;129;01mor\u001b[39;00m global_skip_validation\n\u001b[1;32m   1150\u001b[0m     )\n\u001b[1;32m   1151\u001b[0m ):\n\u001b[0;32m-> 1152\u001b[0m     \u001b[38;5;28;01mreturn\u001b[39;00m \u001b[43mfit_method\u001b[49m\u001b[43m(\u001b[49m\u001b[43mestimator\u001b[49m\u001b[43m,\u001b[49m\u001b[43m \u001b[49m\u001b[38;5;241;43m*\u001b[39;49m\u001b[43margs\u001b[49m\u001b[43m,\u001b[49m\u001b[43m \u001b[49m\u001b[38;5;241;43m*\u001b[39;49m\u001b[38;5;241;43m*\u001b[39;49m\u001b[43mkwargs\u001b[49m\u001b[43m)\u001b[49m\n",
            "File \u001b[0;32m~/miniconda3/envs/cs236781-hw2/lib/python3.8/site-packages/sklearn/linear_model/_logistic.py:1216\u001b[0m, in \u001b[0;36mLogisticRegression.fit\u001b[0;34m(self, X, y, sample_weight)\u001b[0m\n\u001b[1;32m   1206\u001b[0m     _dtype \u001b[38;5;241m=\u001b[39m [np\u001b[38;5;241m.\u001b[39mfloat64, np\u001b[38;5;241m.\u001b[39mfloat32]\n\u001b[1;32m   1208\u001b[0m X, y \u001b[38;5;241m=\u001b[39m \u001b[38;5;28mself\u001b[39m\u001b[38;5;241m.\u001b[39m_validate_data(\n\u001b[1;32m   1209\u001b[0m     X,\n\u001b[1;32m   1210\u001b[0m     y,\n\u001b[0;32m   (...)\u001b[0m\n\u001b[1;32m   1214\u001b[0m     accept_large_sparse\u001b[38;5;241m=\u001b[39msolver \u001b[38;5;129;01mnot\u001b[39;00m \u001b[38;5;129;01min\u001b[39;00m [\u001b[38;5;124m\"\u001b[39m\u001b[38;5;124mliblinear\u001b[39m\u001b[38;5;124m\"\u001b[39m, \u001b[38;5;124m\"\u001b[39m\u001b[38;5;124msag\u001b[39m\u001b[38;5;124m\"\u001b[39m, \u001b[38;5;124m\"\u001b[39m\u001b[38;5;124msaga\u001b[39m\u001b[38;5;124m\"\u001b[39m],\n\u001b[1;32m   1215\u001b[0m )\n\u001b[0;32m-> 1216\u001b[0m \u001b[43mcheck_classification_targets\u001b[49m\u001b[43m(\u001b[49m\u001b[43my\u001b[49m\u001b[43m)\u001b[49m\n\u001b[1;32m   1217\u001b[0m \u001b[38;5;28mself\u001b[39m\u001b[38;5;241m.\u001b[39mclasses_ \u001b[38;5;241m=\u001b[39m np\u001b[38;5;241m.\u001b[39munique(y)\n\u001b[1;32m   1219\u001b[0m multi_class \u001b[38;5;241m=\u001b[39m _check_multi_class(\u001b[38;5;28mself\u001b[39m\u001b[38;5;241m.\u001b[39mmulti_class, solver, \u001b[38;5;28mlen\u001b[39m(\u001b[38;5;28mself\u001b[39m\u001b[38;5;241m.\u001b[39mclasses_))\n",
            "File \u001b[0;32m~/miniconda3/envs/cs236781-hw2/lib/python3.8/site-packages/sklearn/utils/multiclass.py:216\u001b[0m, in \u001b[0;36mcheck_classification_targets\u001b[0;34m(y)\u001b[0m\n\u001b[1;32m    208\u001b[0m y_type \u001b[38;5;241m=\u001b[39m type_of_target(y, input_name\u001b[38;5;241m=\u001b[39m\u001b[38;5;124m\"\u001b[39m\u001b[38;5;124my\u001b[39m\u001b[38;5;124m\"\u001b[39m)\n\u001b[1;32m    209\u001b[0m \u001b[38;5;28;01mif\u001b[39;00m y_type \u001b[38;5;129;01mnot\u001b[39;00m \u001b[38;5;129;01min\u001b[39;00m [\n\u001b[1;32m    210\u001b[0m     \u001b[38;5;124m\"\u001b[39m\u001b[38;5;124mbinary\u001b[39m\u001b[38;5;124m\"\u001b[39m,\n\u001b[1;32m    211\u001b[0m     \u001b[38;5;124m\"\u001b[39m\u001b[38;5;124mmulticlass\u001b[39m\u001b[38;5;124m\"\u001b[39m,\n\u001b[0;32m   (...)\u001b[0m\n\u001b[1;32m    214\u001b[0m     \u001b[38;5;124m\"\u001b[39m\u001b[38;5;124mmultilabel-sequences\u001b[39m\u001b[38;5;124m\"\u001b[39m,\n\u001b[1;32m    215\u001b[0m ]:\n\u001b[0;32m--> 216\u001b[0m     \u001b[38;5;28;01mraise\u001b[39;00m \u001b[38;5;167;01mValueError\u001b[39;00m(\n\u001b[1;32m    217\u001b[0m         \u001b[38;5;124mf\u001b[39m\u001b[38;5;124m\"\u001b[39m\u001b[38;5;124mUnknown label type: \u001b[39m\u001b[38;5;132;01m{\u001b[39;00my_type\u001b[38;5;132;01m}\u001b[39;00m\u001b[38;5;124m. Maybe you are trying to fit a \u001b[39m\u001b[38;5;124m\"\u001b[39m\n\u001b[1;32m    218\u001b[0m         \u001b[38;5;124m\"\u001b[39m\u001b[38;5;124mclassifier, which expects discrete classes on a \u001b[39m\u001b[38;5;124m\"\u001b[39m\n\u001b[1;32m    219\u001b[0m         \u001b[38;5;124m\"\u001b[39m\u001b[38;5;124mregression target with continuous values.\u001b[39m\u001b[38;5;124m\"\u001b[39m\n\u001b[1;32m    220\u001b[0m     )\n",
            "\u001b[0;31mValueError\u001b[0m: Unknown label type: unknown. Maybe you are trying to fit a classifier, which expects discrete classes on a regression target with continuous values."
          ]
        }
      ],
      "source": [
        "import numpy as np\n",
        "import pandas as pd\n",
        "np.random.seed(42)\n",
        "\n",
        "## YOUR SOLUTION\n",
        "rate_click_env = RateClickEnvironment()\n",
        "eval_set = rate_click_env.generate_evaluation_set(500)\n",
        "eval_set_ratings_x, eval_set_ratings_y = rate_click_env.build_X_y_matrices(eval_set, 'true_relevance', rc_env.FEATURE_COLUMNS)\n",
        "train_set_sizes = np.geomspace(50, 20000, 8)\n",
        "\n",
        "results_df = pd.DataFrame(columns=['n_samples', 'repetition', 'click_ndcg', 'rating_ndcg'])\n",
        "\n",
        "for train_set_size in train_set_sizes:\n",
        "    for repetition in range(20):\n",
        "        rounded_size = int(train_set_size)\n",
        "        print(rounded_size)\n",
        "        train_set = rate_click_env.generate_training_set(n_samples=rounded_size)\n",
        "        train_set_ratings_x, train_set_ratings_y = rate_click_env.build_X_y_matrices(train_set, 'rating', rate_click_env.FEATURE_COLUMNS)\n",
        "        train_set_click_x, train_set_click_y = rate_click_env.build_X_y_matrices(train_set, 'click', rate_click_env.FEATURE_COLUMNS)\n",
        "        linear_model_for_rating = LinearRegression()\n",
        "        logistic_model_for_click = LogisticRegression()\n",
        "        linear_model_for_rating.fit(train_set_ratings_x, train_set_ratings_y)\n",
        "        logistic_model_for_click.fit(train_set_click_x, train_set_click_y)\n",
        "        y_predicted_click = logistic_model_for_click.predict(eval_set_ratings_x)\n",
        "        y_predicted_rating = linear_model_for_rating.predict(eval_set_rating_x)\n",
        "        click_ndcg = rate_click_env.ndcg_10(eval_set_ratings_y, y_predicted_click)\n",
        "        rating_ndcg = rate_click_env.ndcg_10(eval_set_ratings_y, y_predicted_rating)\n",
        "\n",
        "        new_row = {'n_samples': rounded_size, 'repetition': repetition, 'click_ndcg': click_ndcg, 'rating_ndcg': rating_ndcg}\n",
        "        results_df = results_df.append(new_row, ignore_index=True)\n",
        "        \n",
        "\n",
        "\n",
        "print(results_df)"
      ]
    },
    {
      "cell_type": "markdown",
      "metadata": {
        "id": "m1aUHhbek_yu"
      },
      "source": [
        "Run simulations and output results DataFrame:"
      ]
    },
    {
      "cell_type": "code",
      "execution_count": null,
      "metadata": {
        "id": "VTkffpQQ0GWb"
      },
      "outputs": [],
      "source": [
        "np.random.seed(42)\n",
        "num_repeats = 20\n",
        "\n",
        "n_values_lst = np.geomspace(50,20000,8).astype(int)\n",
        "\n",
        "## YOUR SOLUTION\n"
      ]
    },
    {
      "cell_type": "markdown",
      "metadata": {
        "id": "WZjr6zEvU9zj"
      },
      "source": [
        "Plot a line-plot showing the average NDCG per n for each of the two models. Include error bars.\n",
        "\n",
        "Guidance:\n",
        "\n",
        "*   Group by trainset size\n",
        "*   Calculate aggregated mean and std values for columns `click_ndcg` and `rating_ndcg`.\n",
        "*   Use mean values for the series plots (the lines) and std for the error bars.\n",
        "\n",
        "Technical tip:\n",
        "*   After aggregation, your pandas DataFrame may contain multi-level columns, the methods `df.swaplevel(axis=1)` or `df.xs(...,axis=1,level=2)` may be convenient for reshaping the DataFrame before plotting.\n",
        "* The pandas `plot.line` function has an optinal argument `yerr` for specfying error bar size.\n",
        "\n"
      ]
    },
    {
      "cell_type": "code",
      "execution_count": null,
      "metadata": {
        "id": "X3ARVvPR6lLk"
      },
      "outputs": [],
      "source": [
        "## YOUR SOLUTION\n"
      ]
    },
    {
      "cell_type": "markdown",
      "metadata": {
        "id": "hnnlxG9Bm-Iy"
      },
      "source": [
        "**Explain the plot -** What can be observed from the graph? In What is the relation between the two lines?"
      ]
    },
    {
      "cell_type": "markdown",
      "metadata": {
        "id": "vqUJuL1GnVkQ"
      },
      "source": [
        "```\n",
        "Answer: ...\n",
        "```"
      ]
    },
    {
      "cell_type": "markdown",
      "metadata": {
        "id": "iLNHsp71apSu"
      },
      "source": [
        "## 1.4 Varying click threshold\n",
        "Repeat the experiment, but this time:\n",
        "* Keep the number of training samples fixed at 1000.\n",
        "* Vary the thershold $\\mathtt{thresh\\_click} \\in[0,5]$. Pass this as a parameter to the `RateClickEnvironment` constructor (note this means that now the environment object should be constructed *inside* the loop).\n",
        "* For every threshold parameter run 20 random repeats and average the results.\n",
        "\n",
        "(Feel free to reuse code from the above question)"
      ]
    },
    {
      "cell_type": "code",
      "execution_count": null,
      "metadata": {
        "id": "AlMlKqCnawYQ"
      },
      "outputs": [],
      "source": [
        "click_thresholds = np.linspace(0, 5, 20)\n",
        "\n",
        "## YOUR SOLUTION"
      ]
    },
    {
      "cell_type": "markdown",
      "metadata": {
        "id": "8noYzaTbdSFk"
      },
      "source": [
        "Plot Results - a line graph including clicks and ratings ndcg, similar to 1.3 but with threshold vs.ndcg. Again, feel free to reuse code."
      ]
    },
    {
      "cell_type": "code",
      "execution_count": null,
      "metadata": {
        "id": "1GjDSQzndvW0"
      },
      "outputs": [],
      "source": [
        "## YOUR SOLUTION\n"
      ]
    },
    {
      "cell_type": "code",
      "execution_count": null,
      "metadata": {
        "id": "r9dY42slroIv"
      },
      "outputs": [],
      "source": [
        "results_df"
      ]
    },
    {
      "cell_type": "markdown",
      "metadata": {
        "id": "51cX65qLsBkc"
      },
      "source": [
        "**Explain the plot -** What can be observed from the graph? In What is the relation between the two lines?"
      ]
    },
    {
      "cell_type": "markdown",
      "metadata": {
        "id": "t_g_75lBsBkc"
      },
      "source": [
        "```\n",
        "Answer: ...\n",
        "```"
      ]
    },
    {
      "cell_type": "markdown",
      "metadata": {
        "id": "29L-GzloeBaJ"
      },
      "source": [
        "# Task 2: Selective rating"
      ]
    },
    {
      "cell_type": "markdown",
      "metadata": {
        "id": "jit8xG5xMI-4"
      },
      "source": [
        "In real life, users rarely rate all items they consume. Moreover - both the choice of *which* items to rate, and the actual *reported* ratings, are prone to behavioral biases. In this question we will examine the effects of different reporting schemes (i.e., ways in which uesrs report or fail to report ratings, and how they modify these ratings) on learning.\n",
        "\n",
        "\n",
        "We will examine five types of users:\n",
        "- Rational (random): Each rating $r$ is reported with a fixed probability $p=0.4$. Note this serves as a benchmark since it does not add bias to how ratings are reported.\n",
        "- Ranting: Only reports bad ratings, defined as $r \\le 2$.\n",
        "- Extreme: Only reports extreme ratings, defined as $r=1$ or $r=5$.\n",
        "- Optimistic: Reports only if ratings are high, $r \\ge 4$, but for each item with true relevance $r=4$, misreports it as $r=5$ with probability $p=0.8$.\n",
        "- Overreacts: Reports ratings for items with low ratings $r \\le 2$ and with high ratings $r \\ge 4$, and for these, reports them with probability $p=0.5$. However, he extremifies his ratings by misreporting $r=2$ as $r=1$ and $r=4$ as $r=5$.\n",
        "\n",
        "Note: the above criteria and probabilities ensure that for all types, ~40% of ratings are reported, so all types generate the same (expected) number of ratings.\n",
        "\n"
      ]
    },
    {
      "cell_type": "markdown",
      "metadata": {
        "id": "EEppQqZk5QfW"
      },
      "source": [
        "\n",
        "### 2.1 Implementing user types\n",
        "Implement a function `selective_ratings` that takes as input an array `r_arr` of ratings, and simulates user behavior by returning a subset of `r_arr` matching one of the above types of user reporting behaviors, as determined by the parameter `utype`. The function also takes as input the set of item features `items_train`, and returns the subset of items corresponding to the reported ratings.\n",
        "\n",
        "You may use `rc_env._user_features` to access actual user values per features."
      ]
    },
    {
      "cell_type": "code",
      "execution_count": 25,
      "metadata": {
        "id": "dAVrI3SXk-_v"
      },
      "outputs": [],
      "source": [
        "import numpy as np\n",
        "import pandas as pd\n",
        "np.random.seed(42)\n",
        "def selective_ratings(r_arr, utype='rational',items_train=None):\n",
        "  \"\"\"\n",
        "  input:\n",
        "  r_arr: ratings array - numpy\n",
        "  utype: string\n",
        "\n",
        "  return:\n",
        "    - revealed_ratings: numpy array of revealed ratings\n",
        "    - revealed_items: features of the corresponding items\n",
        "  \"\"\"\n",
        "\n",
        "  if utype=='rational':\n",
        "\n",
        "    ## YOUR SOLUTION\n",
        "    pass\n",
        "\n",
        "\n",
        "\n",
        "  if utype=='ranting':\n",
        "    ## YOUR SOLUTION\n",
        "    pass\n",
        "\n",
        "  if utype=='extreme':\n",
        "    ## YOUR SOLUTION\n",
        "    pass\n",
        "\n",
        "\n",
        "  if utype=='optimistic':\n",
        "    r_arr_copy = r_arr.copy()\n",
        "    indices = np.where(r_arr_copy >= 4)[0]\n",
        "    values = r_arr_copy[indices]\n",
        "    for i in range(len(values)):\n",
        "      if np.random.rand() < 0.8:\n",
        "        values[i] = 5\n",
        "    return values, items_train[indices]\n",
        "\n",
        "\n",
        "  if utype=='overreacts':\n",
        "    r_arr_copy = r_arr.copy()\n",
        "    indices = np.where(r_arr_copy != 3)[0]\n",
        "    values = r_arr_copy[indices]\n",
        "    for i in range(len(values)):\n",
        "      if values[i] == 4 and np.random.rand() < 0.5:\n",
        "        values[i] = 5\n",
        "      elif values[i] == 2 and np.random.rand() < 0.5:\n",
        "        values[i] = 1\n",
        "    return values, items_train[indices]\n",
        "  \n",
        "\n",
        "  if utype=='underreacts':\n",
        "    r_arr_copy = r_arr.copy()\n",
        "    indices = np.where(r_arr_copy != 3)[0]\n",
        "    values = r_arr_copy[indices]\n",
        "    for i in range(len(values)):\n",
        "      if values[i] == 5 and np.random.rand() < 0.5:\n",
        "        values[i] = 4\n",
        "      elif values[i] == 1 and np.random.rand() < 0.5:\n",
        "        values[i] = 2\n",
        "    return values, items_train[indices]\n",
        "  \n",
        "  if utype=='pasimistic':\n",
        "    r_arr_copy = r_arr.copy()\n",
        "    indices = np.where(r_arr_copy <= 2)[0]\n",
        "    values = r_arr_copy[indices]\n",
        "    for i in range(len(values)):\n",
        "      if np.random.rand() < 0.8:\n",
        "        values[i] = 1\n",
        "    return values, items_train[indices]\n",
        "\n",
        "\n",
        "\n"
      ]
    },
    {
      "cell_type": "code",
      "execution_count": 29,
      "metadata": {},
      "outputs": [
        {
          "name": "stdout",
          "output_type": "stream",
          "text": [
            "(array([1, 1, 1]), array([1, 3, 6]))\n",
            "(array([1, 1, 5, 5, 1, 5]), array([1, 3, 4, 5, 6, 7]))\n"
          ]
        }
      ],
      "source": [
        "print(selective_ratings(np.array([1,3,2,4,5,1,4]), 'pasimistic', np.array([1,2,3,4,5,6,7])))\n",
        "print(selective_ratings(np.array([1,3,2,4,5,1,4]), 'overreacts', np.array([1,2,3,4,5,6,7])))"
      ]
    },
    {
      "cell_type": "markdown",
      "metadata": {
        "id": "L5Yri0HB4cS2"
      },
      "source": [
        "#### 2.1.1 New user types\n",
        "Implement 2 data revelation models of your own, and explain the behavioral rationale behind them. Make sure that ~40% of the data is revealed. You may edit the function above."
      ]
    },
    {
      "cell_type": "markdown",
      "metadata": {
        "id": "uwFYXlBq36aH"
      },
      "source": [
        "\n",
        "\n",
        "Use next block of code to experiment with your ratings filter models"
      ]
    },
    {
      "cell_type": "code",
      "execution_count": null,
      "metadata": {
        "id": "j_YRoFig9B_U"
      },
      "outputs": [],
      "source": [
        "\"\"\"\n",
        "\n",
        "Try your code -\n",
        "You may use ratings generated below of the evaluation..\n",
        "\n",
        "\"\"\""
      ]
    },
    {
      "cell_type": "markdown",
      "metadata": {
        "id": "yNOFsO2wuRl0"
      },
      "source": [
        "What is the rationale behind the two models? How did you make sure that ~40% of ratings are reported?\n",
        "```\n",
        "Answer: ...\n",
        "```"
      ]
    },
    {
      "cell_type": "markdown",
      "metadata": {
        "id": "8A0uYFOz8MyI"
      },
      "source": [
        "### 2.2 Training and evaluation\n",
        "\n",
        "In this section we will:\n",
        "* generates train and test data\n",
        "* filter rating for each user type based on your implementation of `selective_ratings`\n",
        "* Train and evaluate the performance.\n",
        "\n"
      ]
    },
    {
      "cell_type": "markdown",
      "metadata": {
        "id": "08jvusbISxDA"
      },
      "source": [
        "2.2.1 **Before actually running the code** - give an educated guess for NDCG and RMSE values for each user type (if values are hard for you to guess, state relations, e.g. 'higher', 'lower', 'much lower'):"
      ]
    },
    {
      "cell_type": "markdown",
      "metadata": {
        "id": "nWLkH8OX4IzT"
      },
      "source": [
        "\n",
        "\n",
        "```\n",
        "Answer: We will first simplify the intuition for NDCG so in a scenario where we have 100 values and k=10, and a ranking of the values.\n",
        "CG - Get according to the rankning the top 10 items. Add the values of those items.\n",
        "DCG - Get according to the rankning the top 10 items. Add the values of those item with \"diminishing returns\", meaning  items ranked lower will have lower impact on the gain value.\n",
        "NDCG - To prevent the values from \"exploding, normilize it by the max value possible, which is an accurate ranking of the values.\n",
        "Also, to simplify the intuitive approach, we will think about which items our ranking with a given user type completly eliminates from being chosen, and which it keeps in the pool of \"possible k items\" that it would also rank in.\n",
        "```\n",
        "\n"
      ]
    },
    {
      "cell_type": "markdown",
      "metadata": {
        "id": "KX_DFMeO95hS"
      },
      "source": [
        "2.2.2 Generate traning set of size 5000 and evaluation set of size 1000. Use `build_X_y_matrices` to get `rating` as label for training and `true_relevance` for the evaluation."
      ]
    },
    {
      "cell_type": "code",
      "execution_count": null,
      "metadata": {
        "id": "04lt7iQEVWDU"
      },
      "outputs": [],
      "source": [
        "np.random.seed(42)\n",
        "\n",
        "## YOUR SOLUTION"
      ]
    },
    {
      "cell_type": "markdown",
      "metadata": {
        "id": "bbrEgV-zWbOl"
      },
      "source": [
        "For each user type train and evaluate the results. Print ndcg and rmse."
      ]
    },
    {
      "cell_type": "code",
      "execution_count": null,
      "metadata": {
        "id": "279T8v0S77ph"
      },
      "outputs": [],
      "source": [
        "\n",
        "utypes = ['rational', 'ranting', 'extreme', 'optimistic', 'overreacts'] #todo: add your own\n",
        "\n",
        "ndcgs = []\n",
        "rmses = []\n",
        "preds = []\n",
        "\n",
        "for utype in utypes:\n",
        "\n",
        "  ## YOUR SOLUTION"
      ]
    },
    {
      "cell_type": "markdown",
      "metadata": {
        "id": "RAvOuEprXc7h"
      },
      "source": [
        "## 2.3 Reflection\n",
        "#### Comparing guesses and results\n",
        "Do these results match your guesses? Why, or why not?\n",
        "\n",
        "\n",
        "To answer fully run the following cell first.\n",
        "It will generate a violin plots of per user type.\n",
        "\n",
        "Use these distributions to explain ndcg and rmse preformance."
      ]
    },
    {
      "cell_type": "code",
      "execution_count": null,
      "metadata": {
        "id": "GO8R3Rk6jAt0"
      },
      "outputs": [],
      "source": [
        "\n",
        "for utype_, pred_, ndcg_, rmse_ in zip(utypes, preds, ndcgs, rmses):\n",
        "  rs = np.sort(np.unique(true_relevance))\n",
        "  pred_per_r = [pred_[np.where(true_relevance==r)] for r in rs]\n",
        "  plt.violinplot(pred_per_r, rs, showmeans=True)\n",
        "  plt.plot([1,5],[1,5],'k--');\n",
        "  plt.xlabel('true relevance')\n",
        "  plt.ylabel('predicted rating')\n",
        "  plt.title('{}: ndcg={:.3f}, rmse={:.3f}'.format(utype_, ndcg_, rmse_))\n",
        "  plt.text(3.2, 3.8, 'Perfect \\n Pred');\n",
        "  plt.show()"
      ]
    },
    {
      "cell_type": "markdown",
      "metadata": {
        "id": "cO7nueiQvL27"
      },
      "source": [
        "Explain the results:"
      ]
    },
    {
      "cell_type": "markdown",
      "metadata": {
        "id": "LCW8UNH6T436"
      },
      "source": [
        "\n",
        "\n",
        "```\n",
        "Answer:...\n",
        "```\n",
        "\n"
      ]
    },
    {
      "cell_type": "markdown",
      "metadata": {
        "id": "IErPXM_VUAil"
      },
      "source": [
        "## 2.4 Sub Populations and IPW\n",
        "\n",
        "In this segment, our dataset encompasses two distinct user groups: *Ranters*, which like to complain and *Extreme Rankers* which report extreme enjoyment or disappointment. These groups vary not only in their rating policies but also in user features. Your objective with this imbalanced training set is to learn \"true_relevance\" based on rated items.\n",
        "\n",
        "To improve the baseline performance, you'll explore using inverse propensity weighting (IPW). In practical scenarios, you might not know the user type during testing. Propensity weighting can help account for this uncertainty and capture the information effectively.\n"
      ]
    },
    {
      "cell_type": "markdown",
      "metadata": {
        "id": "Z8c66YbIV2DF"
      },
      "source": [
        "The function `generate_population` generates train and test dataframes which include items' feature columns and either received `rating` or `true_relevance`. In addition, each dataset has a `user_type` column. A binary column which indicates if the item displayed was rated by a *Ranter* or not.\n",
        "You may **not** use this column directly in your training process.\n",
        "\n",
        "\n",
        "\n",
        "\n"
      ]
    },
    {
      "cell_type": "code",
      "execution_count": null,
      "metadata": {
        "id": "gpEIN4XqKI_f"
      },
      "outputs": [],
      "source": [
        "train_df, test_df = generate_population()\n",
        "\n",
        "## YOUR SOLUTION"
      ]
    },
    {
      "cell_type": "markdown",
      "metadata": {
        "id": "h20kIFM1lpE5"
      },
      "source": [
        "As discussed in the lecture, leverage `LogisticRegression` to calculate propensity weights for each item. Using `user_type` is allowed for weights calculation.\n",
        "\n",
        "Note that`LogisticRegression`default settings includes regularization."
      ]
    },
    {
      "cell_type": "code",
      "execution_count": null,
      "metadata": {
        "id": "uN4iUb0_zue7"
      },
      "outputs": [],
      "source": [
        "## YOUR SOLUTION"
      ]
    },
    {
      "cell_type": "markdown",
      "metadata": {
        "id": "ygbXcHe-mDj9"
      },
      "source": [
        "Use `RandomForestRegressor` model to fit to ratings and predict true relevance.\n",
        "Calculate baseline preformance and weighted preformance.\n",
        "\n",
        "Save overall test NDCG, and for each the sub population (e.g NDCG for *Ranters*).\n"
      ]
    },
    {
      "cell_type": "code",
      "execution_count": null,
      "metadata": {
        "id": "3UPugFlbRQBx"
      },
      "outputs": [],
      "source": [
        "## YOUR SOLUTION"
      ]
    },
    {
      "cell_type": "markdown",
      "metadata": {
        "id": "Ewdcz0n8ndxD"
      },
      "source": [
        "Use a bar graph to plot results in trems of NDCG. Use to series, to represent weighted and un-weighted preformace for each population (Ranters, Extreme reporters and overall)."
      ]
    },
    {
      "cell_type": "markdown",
      "metadata": {
        "id": "C9_se2MkSmK-"
      },
      "source": [
        "Note: changes in preformance don't have to be major."
      ]
    },
    {
      "cell_type": "code",
      "execution_count": null,
      "metadata": {
        "id": "Zd9Dz12OTgEf"
      },
      "outputs": [],
      "source": [
        "## YOUR SOLUTION"
      ]
    },
    {
      "cell_type": "markdown",
      "metadata": {
        "id": "JxXftofloGsD"
      },
      "source": [
        "**Explain the results:**"
      ]
    },
    {
      "cell_type": "markdown",
      "metadata": {
        "id": "NavsJyGPoOzF"
      },
      "source": [
        "\n",
        "\n",
        "```\n",
        "Answer:...\n",
        "```\n",
        "\n"
      ]
    },
    {
      "cell_type": "markdown",
      "metadata": {
        "id": "NKrPciX9T6pM"
      },
      "source": [
        "**Explain:** Why would IPW be a viable strategy in this secenario?"
      ]
    },
    {
      "cell_type": "markdown",
      "metadata": {
        "id": "8S3m_bliUMIw"
      },
      "source": [
        "```\n",
        "Answer:...\n",
        "```"
      ]
    }
  ],
  "metadata": {
    "colab": {
      "include_colab_link": true,
      "provenance": []
    },
    "kernelspec": {
      "display_name": "Python 3",
      "name": "python3"
    },
    "language_info": {
      "codemirror_mode": {
        "name": "ipython",
        "version": 3
      },
      "file_extension": ".py",
      "mimetype": "text/x-python",
      "name": "python",
      "nbconvert_exporter": "python",
      "pygments_lexer": "ipython3",
      "version": "3.8.12"
    }
  },
  "nbformat": 4,
  "nbformat_minor": 0
}
